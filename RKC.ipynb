{
 "cells": [
  {
   "cell_type": "code",
   "execution_count": 62,
   "metadata": {},
   "outputs": [],
   "source": [
    "import pandas as pd\n",
    "import numpy as np\n",
    "import matplotlib.pyplot as plt\n",
    "import seaborn as sns\n",
    "import warnings\n",
    "import openpyxl\n",
    "import re\n",
    "from scipy.stats import ttest_ind\n",
    "from pprint import pprint\n",
    "from textblob import TextBlob\n"
   ]
  },
  {
   "cell_type": "code",
   "execution_count": null,
   "metadata": {},
   "outputs": [],
   "source": [
    "warnings.filterwarnings('ignore')\n",
    "pd.set_option('display.max_rows', None)\n",
    "pd.set_option('display.max_columns', None)\n",
    "df_ = pd.read_excel('FullSpreadsheets\\\\CAF v0.1_June 24, 2024_16.35 filtered.xlsx', index_col=0)\n",
    "df_.head()"
   ]
  },
  {
   "cell_type": "code",
   "execution_count": 64,
   "metadata": {},
   "outputs": [],
   "source": [
    "df = df_.copy()\n",
    "colId = 'Student ID'\n",
    "colNameG = 'Student Given Name'\n",
    "colNameF = 'Student Family Name'\n",
    "colDate = 'Recorded Date'\n",
    "df[colDate] = pd.to_datetime(df[colDate]).dt.date\n",
    "colCohort = 'Cohort' #BOH2 and BOH3\n",
    "colSubject = 'Subject'\n",
    "colClinicChoice = 'Simulation or Clinic - Selected Choice'\n",
    "colRole = 'Role - Selected Choice'\n",
    "colRKC = 'RKC_MC1_supervisor'\n",
    "colRKCStudent = 'RKC_MC1_student'\n",
    "colPatient = 'Patient for session'\n",
    "rubricQues = ['PS', 'CS', 'TS',\t'ES']\n",
    "colComments = 'Any further comments?'\n",
    "\n",
    "colSupervisorChoice = 'Supervisor Name - Selected Choice'\n",
    "colSupervisorOther = 'Supervisor Name - Other - Text'\n",
    "colSupervisor = 'Supervisor Name'\n",
    "df[colSupervisor] = df.apply(\n",
    "    lambda row: row[colSupervisorOther] if row[colSupervisorChoice] == 'Other' else row[colSupervisorChoice], \n",
    "    axis=1\n",
    ")\n",
    "df[colSupervisor] = df[colSupervisorChoice].str.title()\n",
    "df.drop([colSupervisorChoice, colSupervisorOther], axis=1, inplace=True)"
   ]
  },
  {
   "cell_type": "code",
   "execution_count": null,
   "metadata": {},
   "outputs": [],
   "source": [
    "df = df[[colId, colNameG, colNameF, colDate, colCohort, colSubject, colClinicChoice, colRKCStudent, colPatient, colRKC, colRole, colComments, colSupervisor] + rubricQues]\n",
    "for col in rubricQues:\n",
    "    df[col] = df[col].str.extract(r'Lvl (\\d+)')[0]\n",
    "    df[col] = pd.to_numeric(df[col], errors='coerce').fillna(0).astype(int)\n",
    "# df = df[(df[colClinicChoice] == 'Clinic')| (df[colClinicChoice] == '3')| (df[colClinicChoice] == '6')| (df[colClinicChoice] == '7')]\n",
    "df = df[df[colClinicChoice]!='Simulation']\n",
    "df = df[(df[colCohort] == 'BOH2') | (df[colCohort] == 'BOH3')]\n",
    "df.head()"
   ]
  },
  {
   "cell_type": "code",
   "execution_count": null,
   "metadata": {},
   "outputs": [],
   "source": [
    "supervisors = df[colSupervisor].unique()\n",
    "supervisors"
   ]
  },
  {
   "cell_type": "code",
   "execution_count": null,
   "metadata": {},
   "outputs": [],
   "source": [
    "rkcCount = df[colRKC].value_counts()\n",
    "rkcCount"
   ]
  },
  {
   "cell_type": "markdown",
   "metadata": {},
   "source": [
    "## See unmatch student v Supervisor"
   ]
  },
  {
   "cell_type": "code",
   "execution_count": null,
   "metadata": {},
   "outputs": [],
   "source": [
    "# See how many rkc student don't match the rkc supervisor\n",
    "# first replace Not Assessed in student's with Not Reviewed\n",
    "df[colRKCStudent] = df[colRKCStudent].replace('Not Assessed', 'Not Reviewed')\n",
    "# remove the nan value rows\n",
    "unmatched = df.dropna(subset=[colRKCStudent])\n",
    "# finding the rows where the student and supervisor don't match\n",
    "unmatched = unmatched[unmatched[colRKCStudent] != unmatched[colRKC]]\n",
    "unmatched = unmatched[unmatched[colRole] == 'Operator']\n",
    "print(len(unmatched))\n",
    "unmatched.head()\n",
    "unmatched.to_csv('FullSpreadsheets/RKC/unmatched.csv')\n"
   ]
  },
  {
   "cell_type": "markdown",
   "metadata": {},
   "source": [
    "### See how many times has a student been an operator"
   ]
  },
  {
   "cell_type": "code",
   "execution_count": 77,
   "metadata": {},
   "outputs": [],
   "source": [
    "\n",
    "operator = df[df[colRole] == 'Operator']\n",
    "# operator = operator[operator[colPatient] == 'I saw a patient']\n",
    "operatorboh2 = operator[operator[colCohort] == 'BOH2']\n",
    "operatorboh3 = operator[operator[colCohort] == 'BOH3']\n",
    "# get counts for each student id\n",
    "def getOperatorCount(df):\n",
    "    operatorCount = df[colId].value_counts()\n",
    "    operatorCount = pd.DataFrame(operatorCount)\n",
    "    return operatorCount\n",
    "\n",
    "operatorCountboh2 = getOperatorCount(operatorboh2)\n",
    "operatorCountboh3 = getOperatorCount(operatorboh3)\n",
    "operatorCountboh2.to_excel('FullSpreadsheets/RKC/operator count boh2.xlsx')\n",
    "operatorCountboh3.to_excel('FullSpreadsheets/RKC/operator count boh3.xlsx')\n",
    "\n",
    "operator = operator[operator[colPatient] == 'I saw a patient']\n",
    "operatorboh2 = operator[operator[colCohort] == 'BOH2']\n",
    "operatorboh3 = operator[operator[colCohort] == 'BOH3']\n",
    "operatorCountboh2 = getOperatorCount(operatorboh2)\n",
    "operatorCountboh3 = getOperatorCount(operatorboh3)\n",
    "operatorCountboh2.to_excel('FullSpreadsheets/RKC/saw a patient boh2.xlsx')\n",
    "operatorCountboh3.to_excel('FullSpreadsheets/RKC/saw a patient boh3.xlsx')"
   ]
  },
  {
   "cell_type": "markdown",
   "metadata": {},
   "source": [
    "## Get Not Reviewed"
   ]
  },
  {
   "cell_type": "code",
   "execution_count": null,
   "metadata": {},
   "outputs": [],
   "source": [
    "notReviewed = df[df[colRKC]=='Not Reviewed']\n",
    "# Get counts of role\n",
    "roleCount = notReviewed[notReviewed[colRole]=='Operator']\n",
    "roleCount"
   ]
  },
  {
   "cell_type": "markdown",
   "metadata": {},
   "source": [
    "## Time series of RKC for each student"
   ]
  },
  {
   "cell_type": "code",
   "execution_count": null,
   "metadata": {},
   "outputs": [],
   "source": [
    "import os\n",
    "savepath = 'FullSpreadsheets\\\\RKC'\n",
    "def createTimeSeries(df, cohort):\n",
    "    # Sort by 'Student ID' and 'Recorded Date'\n",
    "    df = df.sort_values(by=[colId, colDate])\n",
    "\n",
    "    # Map 'Yes' to 1 and 'No' to 0 in 'RKC_MC1_supervisor'\n",
    "    colRKCNumber = 'RKC Numeric'\n",
    "    df[colRKCNumber] = df[colRKC].map({'Yes': 1, 'No': 0, 'Not Reviewed': np.nan})\n",
    "\n",
    "    # rkcCount = df[colRKC].value_counts()\n",
    "    # rkcCount = pd.DataFrame(rkcCount)\n",
    "    # pprint(rkcCount)\n",
    "    # Plotting the time series for each student\n",
    "    unique_students = df[colId].unique()\n",
    "\n",
    "    plt.figure(figsize=(14, 8))\n",
    "    newpath = os.path.join(savepath, cohort)\n",
    "    os.makedirs(newpath, exist_ok=True)\n",
    "    results = []\n",
    "    for student in unique_students[0:]:\n",
    "\n",
    "        student_data = df[df[colId] == student]\n",
    "        name = student_data[colNameG].iloc[0] + ' ' + student_data[colNameF].iloc[0]\n",
    "        rkcCount = student_data[colRKC].value_counts().reindex(['Yes', 'No', 'Not Reviewed']).fillna(0).astype(int)\n",
    "        results.append({'Student ID': student, 'Student Name': name, 'Yes': rkcCount['Yes'], 'No': rkcCount['No'], 'Not Reviewed': rkcCount['Not Reviewed']})\n",
    "        print(f'\\n{student}')\n",
    "        pprint(rkcCount)\n",
    "        student_data = student_data.dropna(subset=[colRKCNumber])\n",
    "        student_data = student_data.sort_values(by=colDate)\n",
    "        if len(student_data) == 0:\n",
    "            continue\n",
    "        plt.scatter(student_data[colDate].astype(str), student_data[colRKCNumber], marker='o',\n",
    "                    color=student_data[colRKC].map({'Yes': 'blue', 'No': 'red'}))\n",
    "        # plt.plot(student_data[colDate].astype(str), student_data[colRKCNumber], marker='o',\n",
    "        #             color=student_data[colRKC].map({'Yes': 'blue', 'No': 'red'}))\n",
    "        # Create dummy scatter plots for legend\n",
    "        plt.scatter([], [], color='blue', label='Yes')\n",
    "        plt.scatter([], [], color='red', label='No')\n",
    "        plt.title(f'Record Keeping Information for - {student} ')\n",
    "        plt.xlabel('Recorded Date')\n",
    "        plt.ylabel('RKC (1 = Yes, 0 = No)')\n",
    "        plt.legend(title='Legend')\n",
    "        plt.ylim(-0.5, 2)\n",
    "        plt.yticks([0, 1])\n",
    "        plt.xticks(student_data[colDate].astype(str), rotation=90)\n",
    "        plt.grid(False)\n",
    "        plt.tight_layout()\n",
    "        plt.savefig(os.path.join(newpath, f'{student}.png'))\n",
    "        plt.show()\n",
    "    counts = pd.DataFrame(results)\n",
    "    return counts\n",
    "\n",
    "# boh2 = df[df[colCohort] == 'BOH2']\n",
    "boh3 = df[df[colCohort] == 'BOH3']\n",
    "# countsboh2=createTimeSeries(boh2, 'BOH2')\n",
    "countsboh3=createTimeSeries(boh3, 'BOH3')\n"
   ]
  },
  {
   "cell_type": "code",
   "execution_count": 72,
   "metadata": {},
   "outputs": [],
   "source": [
    "countsboh2.sort_values(by='No', ascending=False, inplace=True)\n",
    "countsboh3.sort_values(by='No', ascending=False, inplace=True)\n",
    "countsboh2.to_excel('FullSpreadsheets\\\\RKC\\\\BOH2.xlsx', index=False)\n",
    "countsboh3.to_excel('FullSpreadsheets\\\\RKC\\\\BOH3.xlsx', index=False)"
   ]
  },
  {
   "cell_type": "code",
   "execution_count": null,
   "metadata": {},
   "outputs": [],
   "source": [
    "\n",
    "# Filter the data to include only 'Yes' and 'No' in RKC_MC1_supervisor\n",
    "studentId = df[colId].unique()\n",
    "\n",
    "# Define specific colors for each category\n",
    "colors = {\n",
    "    'Yes': 'green',\n",
    "    'No': 'red',\n",
    "    'Not Reviewed': 'gray'\n",
    "}\n",
    "\n",
    "\n",
    "\n",
    "def tests(filtered_df, title='', supervisor=None):\n",
    "    rkcCount = filtered_df[colRKC].value_counts().reindex(['Yes', 'No', 'Not Reviewed']).fillna(0).astype(int)\n",
    "    # rkcCount = pd.DataFrame(rkcCount)\n",
    "    pprint(rkcCount)\n",
    "    # Perform t-tests\n",
    "    results = {}\n",
    "    for score in rubricQues:\n",
    "        yes_scores = filtered_df[filtered_df['RKC_MC1_supervisor'] == 'Yes'][score]\n",
    "        no_scores = filtered_df[filtered_df['RKC_MC1_supervisor'] == 'No'][score]\n",
    "        # print(yes_scores, no_scores)\n",
    "        t_stat, p_val = ttest_ind(yes_scores, no_scores)\n",
    "        results[score] = {'t_stat': t_stat, 'p_val': p_val}\n",
    "\n",
    "    results = pd.DataFrame(results).T\n",
    "    mean_scores = filtered_df.groupby('RKC_MC1_supervisor')[rubricQues].mean()\n",
    "    pprint(mean_scores.T)\n",
    "    pprint(results)\n",
    "\n",
    "\n",
    "\n",
    "    # Add sentiment scores to the DataFrame\n",
    "    sentimentDf = filtered_df[~filtered_df[colComments].isnull()]\n",
    "    def get_sentiment(comment):\n",
    "        blob = TextBlob(comment)\n",
    "        return blob.sentiment.polarity\n",
    "\n",
    "    sentimentDf['Sentiment'] = sentimentDf[colComments].apply(get_sentiment)\n",
    "    meanScore = sentimentDf.groupby('RKC_MC1_supervisor')['Sentiment'].mean()\n",
    "    # Compare sentiment scores\n",
    "    yes_sentiment = sentimentDf[sentimentDf['RKC_MC1_supervisor'] == 'Yes']['Sentiment']\n",
    "    no_sentiment = sentimentDf[sentimentDf['RKC_MC1_supervisor'] == 'No']['Sentiment']\n",
    "    t_stat, p_val = ttest_ind(yes_sentiment, no_sentiment)\n",
    "\n",
    "    sentiment_results = {'Sentiment': {'t_stat': t_stat, 'p_val': p_val}}\n",
    "    print('\\nSentiment:')\n",
    "    pprint(meanScore)\n",
    "    pprint(sentiment_results)\n",
    "\n",
    "    plotData = mean_scores.T#.drop('Not Reviewed', axis=1)\n",
    "    color_list = [colors.get(col, 'blue') for col in plotData.columns]\n",
    "    # plotData.plot(kind='bar', figsize=(10, 6), width=0.8, color = color_list)\n",
    "    \n",
    "    # plt.title(f'Mean Scores by RKC{title}')\n",
    "    # plt.xlabel('Score Categories')\n",
    "    # plt.ylabel('Mean Scores')\n",
    "    # plt.xticks(rotation=0)\n",
    "    # plt.legend(title='Legend')\n",
    "    # plt.tight_layout()\n",
    "    # plt.savefig(f'FullSpreadsheets\\\\RKC\\\\Mean Scores by RKC{title}.png')\n",
    "    # Show the plot\n",
    "    # plt.show()\n",
    "    return rkcCount\n",
    "\n",
    "# for id in studentId:\n",
    "#     filtered_df = df[df[colId] == id]\n",
    "#     print(len(filtered_df))\n",
    "#     filtered_df = filtered_df[filtered_df['RKC_MC1_supervisor'].isin(['Yes', 'No', 'Not Reviewed'])]\n",
    "#     if len(filtered_df) == 0:\n",
    "#         continue\n",
    "#     print(len(filtered_df))\n",
    "    # tests(filtered_df, f'_{id}')\n",
    "filtered_df = df[df[colRKC].isin(['Yes', 'No', 'Not Reviewed'])]\n",
    "tests(filtered_df)"
   ]
  },
  {
   "cell_type": "code",
   "execution_count": null,
   "metadata": {},
   "outputs": [],
   "source": [
    "# divide dataframe by supervisor name\n",
    "filtered_df = df[df[colRKC].isin(['Yes', 'No', 'Not Reviewed'])]\n",
    "print(filtered_df[colSupervisor].unique())\n",
    "supervisorDf = {}\n",
    "for supervisor, data in filtered_df.groupby(colSupervisor):\n",
    "    supervisorDf[supervisor] = data\n",
    "\n",
    "# Perform t-tests for each supervisor\n",
    "supervisorResults = {}\n",
    "for supervisor, data in supervisorDf.items():\n",
    "    print(f'\\n\\nSupervisor: {supervisor}')\n",
    "    results = tests(data, f' - {supervisor}', supervisor)\n",
    "    supervisorResults[supervisor] = results\n",
    "\n",
    "supervisorResults = pd.DataFrame(supervisorResults).T\n",
    "supervisorResults.to_excel('FullSpreadsheets\\\\RKC\\\\Supervisor Results.xlsx')\n"
   ]
  }
 ],
 "metadata": {
  "kernelspec": {
   "display_name": "Python 3",
   "language": "python",
   "name": "python3"
  },
  "language_info": {
   "codemirror_mode": {
    "name": "ipython",
    "version": 3
   },
   "file_extension": ".py",
   "mimetype": "text/x-python",
   "name": "python",
   "nbconvert_exporter": "python",
   "pygments_lexer": "ipython3",
   "version": "3.10.5"
  }
 },
 "nbformat": 4,
 "nbformat_minor": 2
}
