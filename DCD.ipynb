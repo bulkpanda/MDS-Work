{
 "cells": [
  {
   "cell_type": "code",
   "execution_count": 1,
   "metadata": {},
   "outputs": [
    {
     "name": "stdout",
     "output_type": "stream",
     "text": [
      "(841.68, 1190.8799999999999)\n",
      "0.13.2\n"
     ]
    }
   ],
   "source": [
    "import pandas as pd\n",
    "import numpy as np\n",
    "import matplotlib.pyplot as plt\n",
    "import seaborn as sns\n",
    "import warnings\n",
    "import openpyxl\n",
    "import re\n",
    "import os\n",
    "from variableUtils import *\n",
    "import variableUtils\n",
    "from Utils import *\n",
    "from ClassUtils import *\n",
    "from pprint import pprint\n",
    "import json\n",
    "from sklearn.ensemble import RandomForestRegressor\n",
    "from sklearn.impute import SimpleImputer\n",
    "from sklearn.model_selection import train_test_split\n",
    "from sklearn.metrics import mean_squared_error\n",
    "import matplotlib.pyplot as plt\n",
    "from matplotlib.patches import Rectangle\n",
    "from reportlab.lib.pagesizes import letter, landscape, A4, A3\n",
    "from reportlab.platypus import SimpleDocTemplate, Table, TableStyle, PageBreak, Paragraph, Spacer, Image\n",
    "from reportlab.lib import colors\n",
    "from matplotlib.backends.backend_pdf import PdfPages\n",
    "from reportlab.platypus import Paragraph, Spacer, KeepTogether, KeepInFrame\n",
    "from reportlab.lib.styles import getSampleStyleSheet, ParagraphStyle\n",
    "from reportlab.lib.units import inch\n",
    "import io\n",
    "from openpyxl import load_workbook\n",
    "from openpyxl.styles import PatternFill\n",
    "from openpyxl.formatting.rule import FormulaRule\n",
    "import PIL\n",
    "import json\n",
    "import textwrap\n",
    "warnings.filterwarnings('ignore')\n",
    "pd.set_option('display.max_rows', None)\n",
    "pd.set_option('display.max_columns', None)\n",
    "print(sns.__version__)\n"
   ]
  },
  {
   "cell_type": "code",
   "execution_count": 23,
   "metadata": {},
   "outputs": [
    {
     "name": "stdout",
     "output_type": "stream",
     "text": [
      "['Q7_1', 'Q7_2', 'Q8_1', 'Q8_2', 'Q8_3', 'Q8_4', 'Q8_5', 'Q8_6', 'Q8_7', 'Q8_8', 'Q8_9', 'Q8_10']\n",
      "Creating table for Score reference\n"
     ]
    },
    {
     "data": {
      "text/html": [
       "<div>\n",
       "<style scoped>\n",
       "    .dataframe tbody tr th:only-of-type {\n",
       "        vertical-align: middle;\n",
       "    }\n",
       "\n",
       "    .dataframe tbody tr th {\n",
       "        vertical-align: top;\n",
       "    }\n",
       "\n",
       "    .dataframe thead th {\n",
       "        text-align: right;\n",
       "    }\n",
       "</style>\n",
       "<table border=\"1\" class=\"dataframe\">\n",
       "  <thead>\n",
       "    <tr style=\"text-align: right;\">\n",
       "      <th></th>\n",
       "      <th>StartDate</th>\n",
       "      <th>EndDate</th>\n",
       "      <th>Status</th>\n",
       "      <th>IPAddress</th>\n",
       "      <th>Progress</th>\n",
       "      <th>Duration (in seconds)</th>\n",
       "      <th>Finished</th>\n",
       "      <th>RecordedDate</th>\n",
       "      <th>ResponseId</th>\n",
       "      <th>RecipientLastName</th>\n",
       "      <th>RecipientFirstName</th>\n",
       "      <th>RecipientEmail</th>\n",
       "      <th>ExternalReference</th>\n",
       "      <th>LocationLatitude</th>\n",
       "      <th>LocationLongitude</th>\n",
       "      <th>DistributionChannel</th>\n",
       "      <th>UserLanguage</th>\n",
       "      <th>Date</th>\n",
       "      <th>Student Name</th>\n",
       "      <th>Site</th>\n",
       "      <th>Staff</th>\n",
       "      <th>Q7_1</th>\n",
       "      <th>Q7_2</th>\n",
       "      <th>Q8_1</th>\n",
       "      <th>Q8_2</th>\n",
       "      <th>Q8_3</th>\n",
       "      <th>Q8_4</th>\n",
       "      <th>Q8_5</th>\n",
       "      <th>Q8_6</th>\n",
       "      <th>Q8_7</th>\n",
       "      <th>Q8_8</th>\n",
       "      <th>Q8_9</th>\n",
       "      <th>Q8_10</th>\n",
       "      <th>Q9_1</th>\n",
       "      <th>Q9_2</th>\n",
       "      <th>Q9_3</th>\n",
       "      <th>Q9_4</th>\n",
       "      <th>Q9_5</th>\n",
       "      <th>Q9_6</th>\n",
       "      <th>Q9_7</th>\n",
       "      <th>Q9_8</th>\n",
       "      <th>Q9_9</th>\n",
       "      <th>Q10</th>\n",
       "      <th>Critical incident</th>\n",
       "      <th>CI Details</th>\n",
       "      <th>Time management</th>\n",
       "      <th>Entrustment scale</th>\n",
       "      <th>#3</th>\n",
       "      <th>#2</th>\n",
       "      <th>#1</th>\n",
       "      <th>#nan</th>\n",
       "    </tr>\n",
       "  </thead>\n",
       "  <tbody>\n",
       "    <tr>\n",
       "      <th>1</th>\n",
       "      <td>2025-03-20 10:20:53</td>\n",
       "      <td>2025-03-20 10:26:01</td>\n",
       "      <td>IP Address</td>\n",
       "      <td>128.250.0.47</td>\n",
       "      <td>100</td>\n",
       "      <td>308</td>\n",
       "      <td>True</td>\n",
       "      <td>2025-03-20 10:26:03.113000</td>\n",
       "      <td>R_4VVZepfWjVlesQ9</td>\n",
       "      <td>NaN</td>\n",
       "      <td>NaN</td>\n",
       "      <td>NaN</td>\n",
       "      <td>NaN</td>\n",
       "      <td>-37.8024</td>\n",
       "      <td>144.9659</td>\n",
       "      <td>anonymous</td>\n",
       "      <td>EN</td>\n",
       "      <td>2025-03-20</td>\n",
       "      <td>Alex Ho</td>\n",
       "      <td>Melbourne Dental Clinic</td>\n",
       "      <td>Jaafar Abduo</td>\n",
       "      <td>3.0</td>\n",
       "      <td>3.0</td>\n",
       "      <td>3.0</td>\n",
       "      <td>3.0</td>\n",
       "      <td>3.0</td>\n",
       "      <td>3.0</td>\n",
       "      <td>3.0</td>\n",
       "      <td>3.0</td>\n",
       "      <td>3.0</td>\n",
       "      <td>3.0</td>\n",
       "      <td>3.0</td>\n",
       "      <td>3.0</td>\n",
       "      <td>4.0</td>\n",
       "      <td>4.0</td>\n",
       "      <td>4.0</td>\n",
       "      <td>4.0</td>\n",
       "      <td>4.0</td>\n",
       "      <td>NaN</td>\n",
       "      <td>NaN</td>\n",
       "      <td>NaN</td>\n",
       "      <td>NaN</td>\n",
       "      <td>lkjb</td>\n",
       "      <td>Yes</td>\n",
       "      <td>;ioj</td>\n",
       "      <td>Lvl 1: Work not completed in allocated timeframe.</td>\n",
       "      <td>Lvl 3: Student can be trusted to perform task ...</td>\n",
       "      <td>12</td>\n",
       "      <td>0</td>\n",
       "      <td>0</td>\n",
       "      <td>0</td>\n",
       "    </tr>\n",
       "    <tr>\n",
       "      <th>13</th>\n",
       "      <td>2025-05-08 23:14:19</td>\n",
       "      <td>2025-05-08 23:19:16</td>\n",
       "      <td>IP Address</td>\n",
       "      <td>122.150.165.11</td>\n",
       "      <td>100</td>\n",
       "      <td>296</td>\n",
       "      <td>True</td>\n",
       "      <td>2025-05-08 23:19:18.067000</td>\n",
       "      <td>R_9ump24pO0WYwxLH</td>\n",
       "      <td>NaN</td>\n",
       "      <td>NaN</td>\n",
       "      <td>NaN</td>\n",
       "      <td>NaN</td>\n",
       "      <td>-37.8186</td>\n",
       "      <td>145.1277</td>\n",
       "      <td>anonymous</td>\n",
       "      <td>EN</td>\n",
       "      <td>2025-05-08</td>\n",
       "      <td>Alex Ho</td>\n",
       "      <td>Royal Dental Hospital Melbourne RDHM</td>\n",
       "      <td>Chen Chen</td>\n",
       "      <td>3.0</td>\n",
       "      <td>3.0</td>\n",
       "      <td>3.0</td>\n",
       "      <td>3.0</td>\n",
       "      <td>2.0</td>\n",
       "      <td>1.0</td>\n",
       "      <td>2.0</td>\n",
       "      <td>1.0</td>\n",
       "      <td>1.0</td>\n",
       "      <td>2.0</td>\n",
       "      <td>2.0</td>\n",
       "      <td>3.0</td>\n",
       "      <td>4.0</td>\n",
       "      <td>4.0</td>\n",
       "      <td>4.0</td>\n",
       "      <td>4.0</td>\n",
       "      <td>4.0</td>\n",
       "      <td>4.0</td>\n",
       "      <td>4.0</td>\n",
       "      <td>4.0</td>\n",
       "      <td>4.0</td>\n",
       "      <td>Good demonstration of managing pt expectations...</td>\n",
       "      <td>No</td>\n",
       "      <td>NaN</td>\n",
       "      <td>Lvl 2: Reaches a step (or point) in the proced...</td>\n",
       "      <td>Lvl 3: Student can be trusted to perform task ...</td>\n",
       "      <td>5</td>\n",
       "      <td>4</td>\n",
       "      <td>3</td>\n",
       "      <td>0</td>\n",
       "    </tr>\n",
       "  </tbody>\n",
       "</table>\n",
       "</div>"
      ],
      "text/plain": [
       "              StartDate              EndDate      Status       IPAddress  \\\n",
       "1   2025-03-20 10:20:53  2025-03-20 10:26:01  IP Address    128.250.0.47   \n",
       "13  2025-05-08 23:14:19  2025-05-08 23:19:16  IP Address  122.150.165.11   \n",
       "\n",
       "   Progress Duration (in seconds) Finished                RecordedDate  \\\n",
       "1       100                   308     True  2025-03-20 10:26:03.113000   \n",
       "13      100                   296     True  2025-05-08 23:19:18.067000   \n",
       "\n",
       "           ResponseId RecipientLastName RecipientFirstName RecipientEmail  \\\n",
       "1   R_4VVZepfWjVlesQ9               NaN                NaN            NaN   \n",
       "13  R_9ump24pO0WYwxLH               NaN                NaN            NaN   \n",
       "\n",
       "   ExternalReference LocationLatitude LocationLongitude DistributionChannel  \\\n",
       "1                NaN         -37.8024          144.9659           anonymous   \n",
       "13               NaN         -37.8186          145.1277           anonymous   \n",
       "\n",
       "   UserLanguage        Date Student Name  \\\n",
       "1            EN  2025-03-20      Alex Ho   \n",
       "13           EN  2025-05-08      Alex Ho   \n",
       "\n",
       "                                    Site         Staff  Q7_1  Q7_2  Q8_1  \\\n",
       "1                Melbourne Dental Clinic  Jaafar Abduo   3.0   3.0   3.0   \n",
       "13  Royal Dental Hospital Melbourne RDHM     Chen Chen   3.0   3.0   3.0   \n",
       "\n",
       "    Q8_2  Q8_3  Q8_4  Q8_5  Q8_6  Q8_7  Q8_8  Q8_9  Q8_10  Q9_1  Q9_2  Q9_3  \\\n",
       "1    3.0   3.0   3.0   3.0   3.0   3.0   3.0   3.0    3.0   4.0   4.0   4.0   \n",
       "13   3.0   2.0   1.0   2.0   1.0   1.0   2.0   2.0    3.0   4.0   4.0   4.0   \n",
       "\n",
       "    Q9_4  Q9_5  Q9_6  Q9_7  Q9_8  Q9_9  \\\n",
       "1    4.0   4.0   NaN   NaN   NaN   NaN   \n",
       "13   4.0   4.0   4.0   4.0   4.0   4.0   \n",
       "\n",
       "                                                  Q10 Critical incident  \\\n",
       "1                                                lkjb               Yes   \n",
       "13  Good demonstration of managing pt expectations...                No   \n",
       "\n",
       "   CI Details                                    Time management  \\\n",
       "1        ;ioj  Lvl 1: Work not completed in allocated timeframe.   \n",
       "13        NaN  Lvl 2: Reaches a step (or point) in the proced...   \n",
       "\n",
       "                                    Entrustment scale  #3  #2  #1  #nan  \n",
       "1   Lvl 3: Student can be trusted to perform task ...  12   0   0     0  \n",
       "13  Lvl 3: Student can be trusted to perform task ...   5   4   3     0  "
      ]
     },
     "metadata": {},
     "output_type": "display_data"
    },
    {
     "data": {
      "text/plain": [
       "Q7_1\n",
       "3.0    2\n",
       "Name: count, dtype: int64"
      ]
     },
     "metadata": {},
     "output_type": "display_data"
    },
    {
     "name": "stdout",
     "output_type": "stream",
     "text": [
      "['Completed independently (competent)']\n"
     ]
    },
    {
     "data": {
      "text/plain": [
       "Completed independently (competent)    2\n",
       "Name: count, dtype: int64"
      ]
     },
     "metadata": {},
     "output_type": "display_data"
    },
    {
     "data": {
      "text/plain": [
       "Q7_2\n",
       "3.0    2\n",
       "Name: count, dtype: int64"
      ]
     },
     "metadata": {},
     "output_type": "display_data"
    },
    {
     "name": "stdout",
     "output_type": "stream",
     "text": [
      "['Completed independently (competent)']\n"
     ]
    },
    {
     "data": {
      "text/plain": [
       "Completed independently (competent)    2\n",
       "Name: count, dtype: int64"
      ]
     },
     "metadata": {},
     "output_type": "display_data"
    },
    {
     "data": {
      "text/plain": [
       "Q8_1\n",
       "3.0    2\n",
       "Name: count, dtype: int64"
      ]
     },
     "metadata": {},
     "output_type": "display_data"
    },
    {
     "name": "stdout",
     "output_type": "stream",
     "text": [
      "['Completed independently (competent)']\n"
     ]
    },
    {
     "data": {
      "text/plain": [
       "Completed independently (competent)    2\n",
       "Name: count, dtype: int64"
      ]
     },
     "metadata": {},
     "output_type": "display_data"
    },
    {
     "data": {
      "text/plain": [
       "Q8_2\n",
       "3.0    2\n",
       "Name: count, dtype: int64"
      ]
     },
     "metadata": {},
     "output_type": "display_data"
    },
    {
     "name": "stdout",
     "output_type": "stream",
     "text": [
      "['Completed independently (competent)']\n"
     ]
    },
    {
     "data": {
      "text/plain": [
       "Completed independently (competent)    2\n",
       "Name: count, dtype: int64"
      ]
     },
     "metadata": {},
     "output_type": "display_data"
    },
    {
     "data": {
      "text/plain": [
       "Q8_3\n",
       "3.0    1\n",
       "2.0    1\n",
       "Name: count, dtype: int64"
      ]
     },
     "metadata": {},
     "output_type": "display_data"
    },
    {
     "name": "stdout",
     "output_type": "stream",
     "text": [
      "['Completed independently (competent)', 'Completed with minimal assistance']\n"
     ]
    },
    {
     "data": {
      "text/plain": [
       "Completed independently (competent)    1\n",
       "Completed with minimal assistance      1\n",
       "Name: count, dtype: int64"
      ]
     },
     "metadata": {},
     "output_type": "display_data"
    },
    {
     "data": {
      "text/plain": [
       "Q8_4\n",
       "3.0    1\n",
       "1.0    1\n",
       "Name: count, dtype: int64"
      ]
     },
     "metadata": {},
     "output_type": "display_data"
    },
    {
     "name": "stdout",
     "output_type": "stream",
     "text": [
      "['Completed independently (competent)', 'Completed with substantial assistance']\n"
     ]
    },
    {
     "data": {
      "text/plain": [
       "Completed independently (competent)      1\n",
       "Completed with substantial assistance    1\n",
       "Name: count, dtype: int64"
      ]
     },
     "metadata": {},
     "output_type": "display_data"
    },
    {
     "data": {
      "text/plain": [
       "Q8_5\n",
       "3.0    1\n",
       "2.0    1\n",
       "Name: count, dtype: int64"
      ]
     },
     "metadata": {},
     "output_type": "display_data"
    },
    {
     "name": "stdout",
     "output_type": "stream",
     "text": [
      "['Completed independently (competent)', 'Completed with minimal assistance']\n"
     ]
    },
    {
     "data": {
      "text/plain": [
       "Completed independently (competent)    1\n",
       "Completed with minimal assistance      1\n",
       "Name: count, dtype: int64"
      ]
     },
     "metadata": {},
     "output_type": "display_data"
    },
    {
     "data": {
      "text/plain": [
       "Q8_6\n",
       "3.0    1\n",
       "1.0    1\n",
       "Name: count, dtype: int64"
      ]
     },
     "metadata": {},
     "output_type": "display_data"
    },
    {
     "name": "stdout",
     "output_type": "stream",
     "text": [
      "['Completed independently (competent)', 'Completed with substantial assistance']\n"
     ]
    },
    {
     "data": {
      "text/plain": [
       "Completed independently (competent)      1\n",
       "Completed with substantial assistance    1\n",
       "Name: count, dtype: int64"
      ]
     },
     "metadata": {},
     "output_type": "display_data"
    },
    {
     "data": {
      "text/plain": [
       "Q8_7\n",
       "3.0    1\n",
       "1.0    1\n",
       "Name: count, dtype: int64"
      ]
     },
     "metadata": {},
     "output_type": "display_data"
    },
    {
     "name": "stdout",
     "output_type": "stream",
     "text": [
      "['Completed independently (competent)', 'Completed with substantial assistance']\n"
     ]
    },
    {
     "data": {
      "text/plain": [
       "Completed independently (competent)      1\n",
       "Completed with substantial assistance    1\n",
       "Name: count, dtype: int64"
      ]
     },
     "metadata": {},
     "output_type": "display_data"
    },
    {
     "data": {
      "text/plain": [
       "Q8_8\n",
       "3.0    1\n",
       "2.0    1\n",
       "Name: count, dtype: int64"
      ]
     },
     "metadata": {},
     "output_type": "display_data"
    },
    {
     "name": "stdout",
     "output_type": "stream",
     "text": [
      "['Completed independently (competent)', 'Completed with minimal assistance']\n"
     ]
    },
    {
     "data": {
      "text/plain": [
       "Completed independently (competent)    1\n",
       "Completed with minimal assistance      1\n",
       "Name: count, dtype: int64"
      ]
     },
     "metadata": {},
     "output_type": "display_data"
    },
    {
     "data": {
      "text/plain": [
       "Q8_9\n",
       "3.0    1\n",
       "2.0    1\n",
       "Name: count, dtype: int64"
      ]
     },
     "metadata": {},
     "output_type": "display_data"
    },
    {
     "name": "stdout",
     "output_type": "stream",
     "text": [
      "['Completed independently (competent)', 'Completed with minimal assistance']\n"
     ]
    },
    {
     "data": {
      "text/plain": [
       "Completed independently (competent)    1\n",
       "Completed with minimal assistance      1\n",
       "Name: count, dtype: int64"
      ]
     },
     "metadata": {},
     "output_type": "display_data"
    },
    {
     "data": {
      "text/plain": [
       "Q8_10\n",
       "3.0    2\n",
       "Name: count, dtype: int64"
      ]
     },
     "metadata": {},
     "output_type": "display_data"
    },
    {
     "name": "stdout",
     "output_type": "stream",
     "text": [
      "['Completed independently (competent)']\n"
     ]
    },
    {
     "data": {
      "text/plain": [
       "Completed independently (competent)    2\n",
       "Name: count, dtype: int64"
      ]
     },
     "metadata": {},
     "output_type": "display_data"
    },
    {
     "data": {
      "text/plain": [
       "Q9_1\n",
       "4.0    2\n",
       "Name: count, dtype: int64"
      ]
     },
     "metadata": {},
     "output_type": "display_data"
    },
    {
     "name": "stdout",
     "output_type": "stream",
     "text": [
      "['ALWAYS']\n"
     ]
    },
    {
     "data": {
      "text/plain": [
       "ALWAYS    2\n",
       "Name: count, dtype: int64"
      ]
     },
     "metadata": {},
     "output_type": "display_data"
    },
    {
     "data": {
      "text/plain": [
       "Q9_2\n",
       "4.0    2\n",
       "Name: count, dtype: int64"
      ]
     },
     "metadata": {},
     "output_type": "display_data"
    },
    {
     "name": "stdout",
     "output_type": "stream",
     "text": [
      "['ALWAYS']\n"
     ]
    },
    {
     "data": {
      "text/plain": [
       "ALWAYS    2\n",
       "Name: count, dtype: int64"
      ]
     },
     "metadata": {},
     "output_type": "display_data"
    },
    {
     "data": {
      "text/plain": [
       "Q9_3\n",
       "4.0    2\n",
       "Name: count, dtype: int64"
      ]
     },
     "metadata": {},
     "output_type": "display_data"
    },
    {
     "name": "stdout",
     "output_type": "stream",
     "text": [
      "['ALWAYS']\n"
     ]
    },
    {
     "data": {
      "text/plain": [
       "ALWAYS    2\n",
       "Name: count, dtype: int64"
      ]
     },
     "metadata": {},
     "output_type": "display_data"
    },
    {
     "data": {
      "text/plain": [
       "Q9_4\n",
       "4.0    2\n",
       "Name: count, dtype: int64"
      ]
     },
     "metadata": {},
     "output_type": "display_data"
    },
    {
     "name": "stdout",
     "output_type": "stream",
     "text": [
      "['ALWAYS']\n"
     ]
    },
    {
     "data": {
      "text/plain": [
       "ALWAYS    2\n",
       "Name: count, dtype: int64"
      ]
     },
     "metadata": {},
     "output_type": "display_data"
    },
    {
     "data": {
      "text/plain": [
       "Q9_5\n",
       "4.0    2\n",
       "Name: count, dtype: int64"
      ]
     },
     "metadata": {},
     "output_type": "display_data"
    },
    {
     "name": "stdout",
     "output_type": "stream",
     "text": [
      "['ALWAYS']\n"
     ]
    },
    {
     "data": {
      "text/plain": [
       "ALWAYS    2\n",
       "Name: count, dtype: int64"
      ]
     },
     "metadata": {},
     "output_type": "display_data"
    },
    {
     "data": {
      "text/plain": [
       "Q9_6\n",
       "NaN    1\n",
       "4.0    1\n",
       "Name: count, dtype: int64"
      ]
     },
     "metadata": {},
     "output_type": "display_data"
    },
    {
     "name": "stdout",
     "output_type": "stream",
     "text": [
      "['Not graded', 'ALWAYS']\n"
     ]
    },
    {
     "data": {
      "text/plain": [
       "Not graded    1\n",
       "ALWAYS        1\n",
       "Name: count, dtype: int64"
      ]
     },
     "metadata": {},
     "output_type": "display_data"
    },
    {
     "data": {
      "text/plain": [
       "Q9_7\n",
       "NaN    1\n",
       "4.0    1\n",
       "Name: count, dtype: int64"
      ]
     },
     "metadata": {},
     "output_type": "display_data"
    },
    {
     "name": "stdout",
     "output_type": "stream",
     "text": [
      "['Not graded', 'ALWAYS']\n"
     ]
    },
    {
     "data": {
      "text/plain": [
       "Not graded    1\n",
       "ALWAYS        1\n",
       "Name: count, dtype: int64"
      ]
     },
     "metadata": {},
     "output_type": "display_data"
    },
    {
     "data": {
      "text/plain": [
       "Q9_8\n",
       "NaN    1\n",
       "4.0    1\n",
       "Name: count, dtype: int64"
      ]
     },
     "metadata": {},
     "output_type": "display_data"
    },
    {
     "name": "stdout",
     "output_type": "stream",
     "text": [
      "['Not graded', 'ALWAYS']\n"
     ]
    },
    {
     "data": {
      "text/plain": [
       "Not graded    1\n",
       "ALWAYS        1\n",
       "Name: count, dtype: int64"
      ]
     },
     "metadata": {},
     "output_type": "display_data"
    },
    {
     "data": {
      "text/plain": [
       "Q9_9\n",
       "NaN    1\n",
       "4.0    1\n",
       "Name: count, dtype: int64"
      ]
     },
     "metadata": {},
     "output_type": "display_data"
    },
    {
     "name": "stdout",
     "output_type": "stream",
     "text": [
      "['Not graded', 'ALWAYS']\n"
     ]
    },
    {
     "data": {
      "text/plain": [
       "Not graded    1\n",
       "ALWAYS        1\n",
       "Name: count, dtype: int64"
      ]
     },
     "metadata": {},
     "output_type": "display_data"
    },
    {
     "data": {
      "text/html": [
       "<div>\n",
       "<style scoped>\n",
       "    .dataframe tbody tr th:only-of-type {\n",
       "        vertical-align: middle;\n",
       "    }\n",
       "\n",
       "    .dataframe tbody tr th {\n",
       "        vertical-align: top;\n",
       "    }\n",
       "\n",
       "    .dataframe thead th {\n",
       "        text-align: right;\n",
       "    }\n",
       "</style>\n",
       "<table border=\"1\" class=\"dataframe\">\n",
       "  <thead>\n",
       "    <tr style=\"text-align: right;\">\n",
       "      <th></th>\n",
       "      <th>Staff</th>\n",
       "      <th>Comments</th>\n",
       "    </tr>\n",
       "  </thead>\n",
       "  <tbody>\n",
       "    <tr>\n",
       "      <th>1</th>\n",
       "      <td>Jaafar Abduo</td>\n",
       "      <td>lkjb</td>\n",
       "    </tr>\n",
       "    <tr>\n",
       "      <th>13</th>\n",
       "      <td>Chen Chen</td>\n",
       "      <td>Good demonstration of managing pt expectations...</td>\n",
       "    </tr>\n",
       "  </tbody>\n",
       "</table>\n",
       "</div>"
      ],
      "text/plain": [
       "           Staff                                           Comments\n",
       "1   Jaafar Abduo                                               lkjb\n",
       "13     Chen Chen  Good demonstration of managing pt expectations..."
      ]
     },
     "metadata": {},
     "output_type": "display_data"
    },
    {
     "name": "stdout",
     "output_type": "stream",
     "text": [
      "Creating table for Reflect on the student's performance across the month - what are some strengths and areas you have identified for improvement.\n"
     ]
    },
    {
     "data": {
      "text/html": [
       "<div>\n",
       "<style scoped>\n",
       "    .dataframe tbody tr th:only-of-type {\n",
       "        vertical-align: middle;\n",
       "    }\n",
       "\n",
       "    .dataframe tbody tr th {\n",
       "        vertical-align: top;\n",
       "    }\n",
       "\n",
       "    .dataframe thead th {\n",
       "        text-align: right;\n",
       "    }\n",
       "</style>\n",
       "<table border=\"1\" class=\"dataframe\">\n",
       "  <thead>\n",
       "    <tr style=\"text-align: right;\">\n",
       "      <th></th>\n",
       "      <th>Staff</th>\n",
       "      <th>Comments</th>\n",
       "    </tr>\n",
       "  </thead>\n",
       "  <tbody>\n",
       "    <tr>\n",
       "      <th>1</th>\n",
       "      <td>Jaafar Abduo</td>\n",
       "      <td>Yes</td>\n",
       "    </tr>\n",
       "    <tr>\n",
       "      <th>13</th>\n",
       "      <td>Chen Chen</td>\n",
       "      <td>No</td>\n",
       "    </tr>\n",
       "  </tbody>\n",
       "</table>\n",
       "</div>"
      ],
      "text/plain": [
       "           Staff Comments\n",
       "1   Jaafar Abduo      Yes\n",
       "13     Chen Chen       No"
      ]
     },
     "metadata": {},
     "output_type": "display_data"
    },
    {
     "name": "stdout",
     "output_type": "stream",
     "text": [
      "Creating table for Has a clinical incident occurred during this month while you were supervising this student?\n"
     ]
    },
    {
     "data": {
      "text/html": [
       "<div>\n",
       "<style scoped>\n",
       "    .dataframe tbody tr th:only-of-type {\n",
       "        vertical-align: middle;\n",
       "    }\n",
       "\n",
       "    .dataframe tbody tr th {\n",
       "        vertical-align: top;\n",
       "    }\n",
       "\n",
       "    .dataframe thead th {\n",
       "        text-align: right;\n",
       "    }\n",
       "</style>\n",
       "<table border=\"1\" class=\"dataframe\">\n",
       "  <thead>\n",
       "    <tr style=\"text-align: right;\">\n",
       "      <th></th>\n",
       "      <th>StartDate</th>\n",
       "      <th>EndDate</th>\n",
       "      <th>Status</th>\n",
       "      <th>IPAddress</th>\n",
       "      <th>Progress</th>\n",
       "      <th>Duration (in seconds)</th>\n",
       "      <th>Finished</th>\n",
       "      <th>RecordedDate</th>\n",
       "      <th>ResponseId</th>\n",
       "      <th>RecipientLastName</th>\n",
       "      <th>RecipientFirstName</th>\n",
       "      <th>RecipientEmail</th>\n",
       "      <th>ExternalReference</th>\n",
       "      <th>LocationLatitude</th>\n",
       "      <th>LocationLongitude</th>\n",
       "      <th>DistributionChannel</th>\n",
       "      <th>UserLanguage</th>\n",
       "      <th>Date</th>\n",
       "      <th>Student Name</th>\n",
       "      <th>Site</th>\n",
       "      <th>Staff</th>\n",
       "      <th>Q7_1</th>\n",
       "      <th>Q7_2</th>\n",
       "      <th>Q8_1</th>\n",
       "      <th>Q8_2</th>\n",
       "      <th>Q8_3</th>\n",
       "      <th>Q8_4</th>\n",
       "      <th>Q8_5</th>\n",
       "      <th>Q8_6</th>\n",
       "      <th>Q8_7</th>\n",
       "      <th>Q8_8</th>\n",
       "      <th>Q8_9</th>\n",
       "      <th>Q8_10</th>\n",
       "      <th>Q9_1</th>\n",
       "      <th>Q9_2</th>\n",
       "      <th>Q9_3</th>\n",
       "      <th>Q9_4</th>\n",
       "      <th>Q9_5</th>\n",
       "      <th>Q9_6</th>\n",
       "      <th>Q9_7</th>\n",
       "      <th>Q9_8</th>\n",
       "      <th>Q9_9</th>\n",
       "      <th>Q10</th>\n",
       "      <th>Critical incident</th>\n",
       "      <th>CI Details</th>\n",
       "      <th>Time management</th>\n",
       "      <th>Entrustment scale</th>\n",
       "      <th>#3</th>\n",
       "      <th>#2</th>\n",
       "      <th>#1</th>\n",
       "      <th>#nan</th>\n",
       "    </tr>\n",
       "  </thead>\n",
       "  <tbody>\n",
       "    <tr>\n",
       "      <th>28</th>\n",
       "      <td>2025-05-07 06:30:57</td>\n",
       "      <td>2025-05-07 06:31:26</td>\n",
       "      <td>IP Address</td>\n",
       "      <td>116.255.53.75</td>\n",
       "      <td>40</td>\n",
       "      <td>29</td>\n",
       "      <td>False</td>\n",
       "      <td>2025-05-14 06:31:30.593000</td>\n",
       "      <td>R_95XdAXEEOgQDL4N</td>\n",
       "      <td>NaN</td>\n",
       "      <td>NaN</td>\n",
       "      <td>NaN</td>\n",
       "      <td>NaN</td>\n",
       "      <td>-37.8008</td>\n",
       "      <td>144.9876</td>\n",
       "      <td>anonymous</td>\n",
       "      <td>EN</td>\n",
       "      <td>2025-05-02</td>\n",
       "      <td>Esha Zahid</td>\n",
       "      <td>Royal Dental Hospital Melbourne RDHM</td>\n",
       "      <td>Carolina Perez Rodriguez</td>\n",
       "      <td>NaN</td>\n",
       "      <td>NaN</td>\n",
       "      <td>NaN</td>\n",
       "      <td>NaN</td>\n",
       "      <td>NaN</td>\n",
       "      <td>NaN</td>\n",
       "      <td>NaN</td>\n",
       "      <td>NaN</td>\n",
       "      <td>NaN</td>\n",
       "      <td>NaN</td>\n",
       "      <td>NaN</td>\n",
       "      <td>NaN</td>\n",
       "      <td>NaN</td>\n",
       "      <td>NaN</td>\n",
       "      <td>NaN</td>\n",
       "      <td>NaN</td>\n",
       "      <td>NaN</td>\n",
       "      <td>NaN</td>\n",
       "      <td>NaN</td>\n",
       "      <td>NaN</td>\n",
       "      <td>NaN</td>\n",
       "      <td>NaN</td>\n",
       "      <td>NaN</td>\n",
       "      <td>NaN</td>\n",
       "      <td>NaN</td>\n",
       "      <td>NaN</td>\n",
       "      <td>0</td>\n",
       "      <td>0</td>\n",
       "      <td>0</td>\n",
       "      <td>12</td>\n",
       "    </tr>\n",
       "    <tr>\n",
       "      <th>12</th>\n",
       "      <td>2025-05-08 23:06:17</td>\n",
       "      <td>2025-05-08 23:14:15</td>\n",
       "      <td>IP Address</td>\n",
       "      <td>122.150.165.229</td>\n",
       "      <td>100</td>\n",
       "      <td>478</td>\n",
       "      <td>True</td>\n",
       "      <td>2025-05-08 23:14:16.785000</td>\n",
       "      <td>R_4nAFNwXTwk5FF03</td>\n",
       "      <td>NaN</td>\n",
       "      <td>NaN</td>\n",
       "      <td>NaN</td>\n",
       "      <td>NaN</td>\n",
       "      <td>-37.8186</td>\n",
       "      <td>145.1277</td>\n",
       "      <td>anonymous</td>\n",
       "      <td>EN</td>\n",
       "      <td>2025-05-08</td>\n",
       "      <td>Esha Zahid</td>\n",
       "      <td>Royal Dental Hospital Melbourne RDHM</td>\n",
       "      <td>Chen Chen</td>\n",
       "      <td>3.0</td>\n",
       "      <td>3.0</td>\n",
       "      <td>2.0</td>\n",
       "      <td>2.0</td>\n",
       "      <td>2.0</td>\n",
       "      <td>2.0</td>\n",
       "      <td>2.0</td>\n",
       "      <td>2.0</td>\n",
       "      <td>2.0</td>\n",
       "      <td>2.0</td>\n",
       "      <td>2.0</td>\n",
       "      <td>2.0</td>\n",
       "      <td>4.0</td>\n",
       "      <td>4.0</td>\n",
       "      <td>4.0</td>\n",
       "      <td>4.0</td>\n",
       "      <td>4.0</td>\n",
       "      <td>4.0</td>\n",
       "      <td>4.0</td>\n",
       "      <td>3.0</td>\n",
       "      <td>4.0</td>\n",
       "      <td>Competent clinically, but has difficulty makin...</td>\n",
       "      <td>No</td>\n",
       "      <td>NaN</td>\n",
       "      <td>Lvl 2: Reaches a step (or point) in the proced...</td>\n",
       "      <td>Lvl 3: Student can be trusted to perform task ...</td>\n",
       "      <td>2</td>\n",
       "      <td>10</td>\n",
       "      <td>0</td>\n",
       "      <td>0</td>\n",
       "    </tr>\n",
       "    <tr>\n",
       "      <th>26</th>\n",
       "      <td>2025-05-12 14:58:38</td>\n",
       "      <td>2025-05-12 15:04:20</td>\n",
       "      <td>IP Address</td>\n",
       "      <td>1.145.158.121</td>\n",
       "      <td>100</td>\n",
       "      <td>342</td>\n",
       "      <td>True</td>\n",
       "      <td>2025-05-12 15:04:21.572000</td>\n",
       "      <td>R_9P0CPtDlZNftWjy</td>\n",
       "      <td>NaN</td>\n",
       "      <td>NaN</td>\n",
       "      <td>NaN</td>\n",
       "      <td>NaN</td>\n",
       "      <td>-37.8335</td>\n",
       "      <td>145.0012</td>\n",
       "      <td>anonymous</td>\n",
       "      <td>EN</td>\n",
       "      <td>2025-05-12</td>\n",
       "      <td>Esha Zahid</td>\n",
       "      <td>Royal Dental Hospital Melbourne RDHM</td>\n",
       "      <td>John Pearson</td>\n",
       "      <td>2.0</td>\n",
       "      <td>3.0</td>\n",
       "      <td>2.0</td>\n",
       "      <td>2.0</td>\n",
       "      <td>1.0</td>\n",
       "      <td>2.0</td>\n",
       "      <td>2.0</td>\n",
       "      <td>1.0</td>\n",
       "      <td>2.0</td>\n",
       "      <td>2.0</td>\n",
       "      <td>3.0</td>\n",
       "      <td>3.0</td>\n",
       "      <td>3.0</td>\n",
       "      <td>3.0</td>\n",
       "      <td>4.0</td>\n",
       "      <td>4.0</td>\n",
       "      <td>4.0</td>\n",
       "      <td>4.0</td>\n",
       "      <td>3.0</td>\n",
       "      <td>4.0</td>\n",
       "      <td>4.0</td>\n",
       "      <td>Over the time Esher has been in clinic there h...</td>\n",
       "      <td>No</td>\n",
       "      <td>NaN</td>\n",
       "      <td>Lvl 2: Reaches a step (or point) in the proced...</td>\n",
       "      <td>Lvl 3: Student can be trusted to perform task ...</td>\n",
       "      <td>3</td>\n",
       "      <td>7</td>\n",
       "      <td>2</td>\n",
       "      <td>0</td>\n",
       "    </tr>\n",
       "  </tbody>\n",
       "</table>\n",
       "</div>"
      ],
      "text/plain": [
       "              StartDate              EndDate      Status        IPAddress  \\\n",
       "28  2025-05-07 06:30:57  2025-05-07 06:31:26  IP Address    116.255.53.75   \n",
       "12  2025-05-08 23:06:17  2025-05-08 23:14:15  IP Address  122.150.165.229   \n",
       "26  2025-05-12 14:58:38  2025-05-12 15:04:20  IP Address    1.145.158.121   \n",
       "\n",
       "   Progress Duration (in seconds) Finished                RecordedDate  \\\n",
       "28       40                    29    False  2025-05-14 06:31:30.593000   \n",
       "12      100                   478     True  2025-05-08 23:14:16.785000   \n",
       "26      100                   342     True  2025-05-12 15:04:21.572000   \n",
       "\n",
       "           ResponseId RecipientLastName RecipientFirstName RecipientEmail  \\\n",
       "28  R_95XdAXEEOgQDL4N               NaN                NaN            NaN   \n",
       "12  R_4nAFNwXTwk5FF03               NaN                NaN            NaN   \n",
       "26  R_9P0CPtDlZNftWjy               NaN                NaN            NaN   \n",
       "\n",
       "   ExternalReference LocationLatitude LocationLongitude DistributionChannel  \\\n",
       "28               NaN         -37.8008          144.9876           anonymous   \n",
       "12               NaN         -37.8186          145.1277           anonymous   \n",
       "26               NaN         -37.8335          145.0012           anonymous   \n",
       "\n",
       "   UserLanguage        Date Student Name  \\\n",
       "28           EN  2025-05-02   Esha Zahid   \n",
       "12           EN  2025-05-08   Esha Zahid   \n",
       "26           EN  2025-05-12   Esha Zahid   \n",
       "\n",
       "                                    Site                     Staff  Q7_1  \\\n",
       "28  Royal Dental Hospital Melbourne RDHM  Carolina Perez Rodriguez   NaN   \n",
       "12  Royal Dental Hospital Melbourne RDHM                 Chen Chen   3.0   \n",
       "26  Royal Dental Hospital Melbourne RDHM              John Pearson   2.0   \n",
       "\n",
       "    Q7_2  Q8_1  Q8_2  Q8_3  Q8_4  Q8_5  Q8_6  Q8_7  Q8_8  Q8_9  Q8_10  Q9_1  \\\n",
       "28   NaN   NaN   NaN   NaN   NaN   NaN   NaN   NaN   NaN   NaN    NaN   NaN   \n",
       "12   3.0   2.0   2.0   2.0   2.0   2.0   2.0   2.0   2.0   2.0    2.0   4.0   \n",
       "26   3.0   2.0   2.0   1.0   2.0   2.0   1.0   2.0   2.0   3.0    3.0   3.0   \n",
       "\n",
       "    Q9_2  Q9_3  Q9_4  Q9_5  Q9_6  Q9_7  Q9_8  Q9_9  \\\n",
       "28   NaN   NaN   NaN   NaN   NaN   NaN   NaN   NaN   \n",
       "12   4.0   4.0   4.0   4.0   4.0   4.0   3.0   4.0   \n",
       "26   3.0   4.0   4.0   4.0   4.0   3.0   4.0   4.0   \n",
       "\n",
       "                                                  Q10 Critical incident  \\\n",
       "28                                                NaN               NaN   \n",
       "12  Competent clinically, but has difficulty makin...                No   \n",
       "26  Over the time Esher has been in clinic there h...                No   \n",
       "\n",
       "   CI Details                                    Time management  \\\n",
       "28        NaN                                                NaN   \n",
       "12        NaN  Lvl 2: Reaches a step (or point) in the proced...   \n",
       "26        NaN  Lvl 2: Reaches a step (or point) in the proced...   \n",
       "\n",
       "                                    Entrustment scale  #3  #2  #1  #nan  \n",
       "28                                                NaN   0   0   0    12  \n",
       "12  Lvl 3: Student can be trusted to perform task ...   2  10   0     0  \n",
       "26  Lvl 3: Student can be trusted to perform task ...   3   7   2     0  "
      ]
     },
     "metadata": {},
     "output_type": "display_data"
    },
    {
     "data": {
      "text/plain": [
       "Q7_1\n",
       "NaN    1\n",
       "3.0    1\n",
       "2.0    1\n",
       "Name: count, dtype: int64"
      ]
     },
     "metadata": {},
     "output_type": "display_data"
    },
    {
     "name": "stdout",
     "output_type": "stream",
     "text": [
      "['No basis for evaluation', 'Completed independently (competent)', 'Completed with minimal assistance']\n"
     ]
    },
    {
     "data": {
      "text/plain": [
       "No basis for evaluation                1\n",
       "Completed independently (competent)    1\n",
       "Completed with minimal assistance      1\n",
       "Name: count, dtype: int64"
      ]
     },
     "metadata": {},
     "output_type": "display_data"
    },
    {
     "data": {
      "text/plain": [
       "Q7_2\n",
       "3.0    2\n",
       "NaN    1\n",
       "Name: count, dtype: int64"
      ]
     },
     "metadata": {},
     "output_type": "display_data"
    },
    {
     "name": "stdout",
     "output_type": "stream",
     "text": [
      "['Completed independently (competent)', 'No basis for evaluation']\n"
     ]
    },
    {
     "data": {
      "text/plain": [
       "Completed independently (competent)    2\n",
       "No basis for evaluation                1\n",
       "Name: count, dtype: int64"
      ]
     },
     "metadata": {},
     "output_type": "display_data"
    },
    {
     "data": {
      "text/plain": [
       "Q8_1\n",
       "2.0    2\n",
       "NaN    1\n",
       "Name: count, dtype: int64"
      ]
     },
     "metadata": {},
     "output_type": "display_data"
    },
    {
     "name": "stdout",
     "output_type": "stream",
     "text": [
      "['Completed with minimal assistance', 'No basis for evaluation']\n"
     ]
    },
    {
     "data": {
      "text/plain": [
       "Completed with minimal assistance    2\n",
       "No basis for evaluation              1\n",
       "Name: count, dtype: int64"
      ]
     },
     "metadata": {},
     "output_type": "display_data"
    },
    {
     "data": {
      "text/plain": [
       "Q8_2\n",
       "2.0    2\n",
       "NaN    1\n",
       "Name: count, dtype: int64"
      ]
     },
     "metadata": {},
     "output_type": "display_data"
    },
    {
     "name": "stdout",
     "output_type": "stream",
     "text": [
      "['Completed with minimal assistance', 'No basis for evaluation']\n"
     ]
    },
    {
     "data": {
      "text/plain": [
       "Completed with minimal assistance    2\n",
       "No basis for evaluation              1\n",
       "Name: count, dtype: int64"
      ]
     },
     "metadata": {},
     "output_type": "display_data"
    },
    {
     "data": {
      "text/plain": [
       "Q8_3\n",
       "NaN    1\n",
       "2.0    1\n",
       "1.0    1\n",
       "Name: count, dtype: int64"
      ]
     },
     "metadata": {},
     "output_type": "display_data"
    },
    {
     "name": "stdout",
     "output_type": "stream",
     "text": [
      "['No basis for evaluation', 'Completed with minimal assistance', 'Completed with substantial assistance']\n"
     ]
    },
    {
     "data": {
      "text/plain": [
       "No basis for evaluation                  1\n",
       "Completed with minimal assistance        1\n",
       "Completed with substantial assistance    1\n",
       "Name: count, dtype: int64"
      ]
     },
     "metadata": {},
     "output_type": "display_data"
    },
    {
     "data": {
      "text/plain": [
       "Q8_4\n",
       "2.0    2\n",
       "NaN    1\n",
       "Name: count, dtype: int64"
      ]
     },
     "metadata": {},
     "output_type": "display_data"
    },
    {
     "name": "stdout",
     "output_type": "stream",
     "text": [
      "['Completed with minimal assistance', 'No basis for evaluation']\n"
     ]
    },
    {
     "data": {
      "text/plain": [
       "Completed with minimal assistance    2\n",
       "No basis for evaluation              1\n",
       "Name: count, dtype: int64"
      ]
     },
     "metadata": {},
     "output_type": "display_data"
    },
    {
     "data": {
      "text/plain": [
       "Q8_5\n",
       "2.0    2\n",
       "NaN    1\n",
       "Name: count, dtype: int64"
      ]
     },
     "metadata": {},
     "output_type": "display_data"
    },
    {
     "name": "stdout",
     "output_type": "stream",
     "text": [
      "['Completed with minimal assistance', 'No basis for evaluation']\n"
     ]
    },
    {
     "data": {
      "text/plain": [
       "Completed with minimal assistance    2\n",
       "No basis for evaluation              1\n",
       "Name: count, dtype: int64"
      ]
     },
     "metadata": {},
     "output_type": "display_data"
    },
    {
     "data": {
      "text/plain": [
       "Q8_6\n",
       "NaN    1\n",
       "2.0    1\n",
       "1.0    1\n",
       "Name: count, dtype: int64"
      ]
     },
     "metadata": {},
     "output_type": "display_data"
    },
    {
     "name": "stdout",
     "output_type": "stream",
     "text": [
      "['No basis for evaluation', 'Completed with minimal assistance', 'Completed with substantial assistance']\n"
     ]
    },
    {
     "data": {
      "text/plain": [
       "No basis for evaluation                  1\n",
       "Completed with minimal assistance        1\n",
       "Completed with substantial assistance    1\n",
       "Name: count, dtype: int64"
      ]
     },
     "metadata": {},
     "output_type": "display_data"
    },
    {
     "data": {
      "text/plain": [
       "Q8_7\n",
       "2.0    2\n",
       "NaN    1\n",
       "Name: count, dtype: int64"
      ]
     },
     "metadata": {},
     "output_type": "display_data"
    },
    {
     "name": "stdout",
     "output_type": "stream",
     "text": [
      "['Completed with minimal assistance', 'No basis for evaluation']\n"
     ]
    },
    {
     "data": {
      "text/plain": [
       "Completed with minimal assistance    2\n",
       "No basis for evaluation              1\n",
       "Name: count, dtype: int64"
      ]
     },
     "metadata": {},
     "output_type": "display_data"
    },
    {
     "data": {
      "text/plain": [
       "Q8_8\n",
       "2.0    2\n",
       "NaN    1\n",
       "Name: count, dtype: int64"
      ]
     },
     "metadata": {},
     "output_type": "display_data"
    },
    {
     "name": "stdout",
     "output_type": "stream",
     "text": [
      "['Completed with minimal assistance', 'No basis for evaluation']\n"
     ]
    },
    {
     "data": {
      "text/plain": [
       "Completed with minimal assistance    2\n",
       "No basis for evaluation              1\n",
       "Name: count, dtype: int64"
      ]
     },
     "metadata": {},
     "output_type": "display_data"
    },
    {
     "data": {
      "text/plain": [
       "Q8_9\n",
       "NaN    1\n",
       "2.0    1\n",
       "3.0    1\n",
       "Name: count, dtype: int64"
      ]
     },
     "metadata": {},
     "output_type": "display_data"
    },
    {
     "name": "stdout",
     "output_type": "stream",
     "text": [
      "['No basis for evaluation', 'Completed with minimal assistance', 'Completed independently (competent)']\n"
     ]
    },
    {
     "data": {
      "text/plain": [
       "No basis for evaluation                1\n",
       "Completed with minimal assistance      1\n",
       "Completed independently (competent)    1\n",
       "Name: count, dtype: int64"
      ]
     },
     "metadata": {},
     "output_type": "display_data"
    },
    {
     "data": {
      "text/plain": [
       "Q8_10\n",
       "NaN    1\n",
       "2.0    1\n",
       "3.0    1\n",
       "Name: count, dtype: int64"
      ]
     },
     "metadata": {},
     "output_type": "display_data"
    },
    {
     "name": "stdout",
     "output_type": "stream",
     "text": [
      "['No basis for evaluation', 'Completed with minimal assistance', 'Completed independently (competent)']\n"
     ]
    },
    {
     "data": {
      "text/plain": [
       "No basis for evaluation                1\n",
       "Completed with minimal assistance      1\n",
       "Completed independently (competent)    1\n",
       "Name: count, dtype: int64"
      ]
     },
     "metadata": {},
     "output_type": "display_data"
    },
    {
     "data": {
      "text/plain": [
       "Q9_1\n",
       "NaN    1\n",
       "4.0    1\n",
       "3.0    1\n",
       "Name: count, dtype: int64"
      ]
     },
     "metadata": {},
     "output_type": "display_data"
    },
    {
     "name": "stdout",
     "output_type": "stream",
     "text": [
      "['Not graded', 'ALWAYS', 'OFTEN']\n"
     ]
    },
    {
     "data": {
      "text/plain": [
       "Not graded    1\n",
       "ALWAYS        1\n",
       "OFTEN         1\n",
       "Name: count, dtype: int64"
      ]
     },
     "metadata": {},
     "output_type": "display_data"
    },
    {
     "data": {
      "text/plain": [
       "Q9_2\n",
       "NaN    1\n",
       "4.0    1\n",
       "3.0    1\n",
       "Name: count, dtype: int64"
      ]
     },
     "metadata": {},
     "output_type": "display_data"
    },
    {
     "name": "stdout",
     "output_type": "stream",
     "text": [
      "['Not graded', 'ALWAYS', 'OFTEN']\n"
     ]
    },
    {
     "data": {
      "text/plain": [
       "Not graded    1\n",
       "ALWAYS        1\n",
       "OFTEN         1\n",
       "Name: count, dtype: int64"
      ]
     },
     "metadata": {},
     "output_type": "display_data"
    },
    {
     "data": {
      "text/plain": [
       "Q9_3\n",
       "4.0    2\n",
       "NaN    1\n",
       "Name: count, dtype: int64"
      ]
     },
     "metadata": {},
     "output_type": "display_data"
    },
    {
     "name": "stdout",
     "output_type": "stream",
     "text": [
      "['ALWAYS', 'Not graded']\n"
     ]
    },
    {
     "data": {
      "text/plain": [
       "ALWAYS        2\n",
       "Not graded    1\n",
       "Name: count, dtype: int64"
      ]
     },
     "metadata": {},
     "output_type": "display_data"
    },
    {
     "data": {
      "text/plain": [
       "Q9_4\n",
       "4.0    2\n",
       "NaN    1\n",
       "Name: count, dtype: int64"
      ]
     },
     "metadata": {},
     "output_type": "display_data"
    },
    {
     "name": "stdout",
     "output_type": "stream",
     "text": [
      "['ALWAYS', 'Not graded']\n"
     ]
    },
    {
     "data": {
      "text/plain": [
       "ALWAYS        2\n",
       "Not graded    1\n",
       "Name: count, dtype: int64"
      ]
     },
     "metadata": {},
     "output_type": "display_data"
    },
    {
     "data": {
      "text/plain": [
       "Q9_5\n",
       "4.0    2\n",
       "NaN    1\n",
       "Name: count, dtype: int64"
      ]
     },
     "metadata": {},
     "output_type": "display_data"
    },
    {
     "name": "stdout",
     "output_type": "stream",
     "text": [
      "['ALWAYS', 'Not graded']\n"
     ]
    },
    {
     "data": {
      "text/plain": [
       "ALWAYS        2\n",
       "Not graded    1\n",
       "Name: count, dtype: int64"
      ]
     },
     "metadata": {},
     "output_type": "display_data"
    },
    {
     "data": {
      "text/plain": [
       "Q9_6\n",
       "4.0    2\n",
       "NaN    1\n",
       "Name: count, dtype: int64"
      ]
     },
     "metadata": {},
     "output_type": "display_data"
    },
    {
     "name": "stdout",
     "output_type": "stream",
     "text": [
      "['ALWAYS', 'Not graded']\n"
     ]
    },
    {
     "data": {
      "text/plain": [
       "ALWAYS        2\n",
       "Not graded    1\n",
       "Name: count, dtype: int64"
      ]
     },
     "metadata": {},
     "output_type": "display_data"
    },
    {
     "data": {
      "text/plain": [
       "Q9_7\n",
       "NaN    1\n",
       "4.0    1\n",
       "3.0    1\n",
       "Name: count, dtype: int64"
      ]
     },
     "metadata": {},
     "output_type": "display_data"
    },
    {
     "name": "stdout",
     "output_type": "stream",
     "text": [
      "['Not graded', 'ALWAYS', 'OFTEN']\n"
     ]
    },
    {
     "data": {
      "text/plain": [
       "Not graded    1\n",
       "ALWAYS        1\n",
       "OFTEN         1\n",
       "Name: count, dtype: int64"
      ]
     },
     "metadata": {},
     "output_type": "display_data"
    },
    {
     "data": {
      "text/plain": [
       "Q9_8\n",
       "NaN    1\n",
       "3.0    1\n",
       "4.0    1\n",
       "Name: count, dtype: int64"
      ]
     },
     "metadata": {},
     "output_type": "display_data"
    },
    {
     "name": "stdout",
     "output_type": "stream",
     "text": [
      "['Not graded', 'OFTEN', 'ALWAYS']\n"
     ]
    },
    {
     "data": {
      "text/plain": [
       "Not graded    1\n",
       "OFTEN         1\n",
       "ALWAYS        1\n",
       "Name: count, dtype: int64"
      ]
     },
     "metadata": {},
     "output_type": "display_data"
    },
    {
     "data": {
      "text/plain": [
       "Q9_9\n",
       "4.0    2\n",
       "NaN    1\n",
       "Name: count, dtype: int64"
      ]
     },
     "metadata": {},
     "output_type": "display_data"
    },
    {
     "name": "stdout",
     "output_type": "stream",
     "text": [
      "['ALWAYS', 'Not graded']\n"
     ]
    },
    {
     "data": {
      "text/plain": [
       "ALWAYS        2\n",
       "Not graded    1\n",
       "Name: count, dtype: int64"
      ]
     },
     "metadata": {},
     "output_type": "display_data"
    },
    {
     "data": {
      "text/html": [
       "<div>\n",
       "<style scoped>\n",
       "    .dataframe tbody tr th:only-of-type {\n",
       "        vertical-align: middle;\n",
       "    }\n",
       "\n",
       "    .dataframe tbody tr th {\n",
       "        vertical-align: top;\n",
       "    }\n",
       "\n",
       "    .dataframe thead th {\n",
       "        text-align: right;\n",
       "    }\n",
       "</style>\n",
       "<table border=\"1\" class=\"dataframe\">\n",
       "  <thead>\n",
       "    <tr style=\"text-align: right;\">\n",
       "      <th></th>\n",
       "      <th>Staff</th>\n",
       "      <th>Comments</th>\n",
       "    </tr>\n",
       "  </thead>\n",
       "  <tbody>\n",
       "    <tr>\n",
       "      <th>12</th>\n",
       "      <td>Chen Chen</td>\n",
       "      <td>Competent clinically, but has difficulty makin...</td>\n",
       "    </tr>\n",
       "    <tr>\n",
       "      <th>26</th>\n",
       "      <td>John Pearson</td>\n",
       "      <td>Over the time Esher has been in clinic there h...</td>\n",
       "    </tr>\n",
       "  </tbody>\n",
       "</table>\n",
       "</div>"
      ],
      "text/plain": [
       "           Staff                                           Comments\n",
       "12     Chen Chen  Competent clinically, but has difficulty makin...\n",
       "26  John Pearson  Over the time Esher has been in clinic there h..."
      ]
     },
     "metadata": {},
     "output_type": "display_data"
    },
    {
     "name": "stdout",
     "output_type": "stream",
     "text": [
      "Creating table for Reflect on the student's performance across the month - what are some strengths and areas you have identified for improvement.\n"
     ]
    },
    {
     "data": {
      "text/html": [
       "<div>\n",
       "<style scoped>\n",
       "    .dataframe tbody tr th:only-of-type {\n",
       "        vertical-align: middle;\n",
       "    }\n",
       "\n",
       "    .dataframe tbody tr th {\n",
       "        vertical-align: top;\n",
       "    }\n",
       "\n",
       "    .dataframe thead th {\n",
       "        text-align: right;\n",
       "    }\n",
       "</style>\n",
       "<table border=\"1\" class=\"dataframe\">\n",
       "  <thead>\n",
       "    <tr style=\"text-align: right;\">\n",
       "      <th></th>\n",
       "      <th>Staff</th>\n",
       "      <th>Comments</th>\n",
       "    </tr>\n",
       "  </thead>\n",
       "  <tbody>\n",
       "    <tr>\n",
       "      <th>12</th>\n",
       "      <td>Chen Chen</td>\n",
       "      <td>No</td>\n",
       "    </tr>\n",
       "    <tr>\n",
       "      <th>26</th>\n",
       "      <td>John Pearson</td>\n",
       "      <td>No</td>\n",
       "    </tr>\n",
       "  </tbody>\n",
       "</table>\n",
       "</div>"
      ],
      "text/plain": [
       "           Staff Comments\n",
       "12     Chen Chen       No\n",
       "26  John Pearson       No"
      ]
     },
     "metadata": {},
     "output_type": "display_data"
    },
    {
     "name": "stdout",
     "output_type": "stream",
     "text": [
      "Creating table for Has a clinical incident occurred during this month while you were supervising this student?\n"
     ]
    },
    {
     "data": {
      "text/html": [
       "<div>\n",
       "<style scoped>\n",
       "    .dataframe tbody tr th:only-of-type {\n",
       "        vertical-align: middle;\n",
       "    }\n",
       "\n",
       "    .dataframe tbody tr th {\n",
       "        vertical-align: top;\n",
       "    }\n",
       "\n",
       "    .dataframe thead th {\n",
       "        text-align: right;\n",
       "    }\n",
       "</style>\n",
       "<table border=\"1\" class=\"dataframe\">\n",
       "  <thead>\n",
       "    <tr style=\"text-align: right;\">\n",
       "      <th></th>\n",
       "      <th>StartDate</th>\n",
       "      <th>EndDate</th>\n",
       "      <th>Status</th>\n",
       "      <th>IPAddress</th>\n",
       "      <th>Progress</th>\n",
       "      <th>Duration (in seconds)</th>\n",
       "      <th>Finished</th>\n",
       "      <th>RecordedDate</th>\n",
       "      <th>ResponseId</th>\n",
       "      <th>RecipientLastName</th>\n",
       "      <th>RecipientFirstName</th>\n",
       "      <th>RecipientEmail</th>\n",
       "      <th>ExternalReference</th>\n",
       "      <th>LocationLatitude</th>\n",
       "      <th>LocationLongitude</th>\n",
       "      <th>DistributionChannel</th>\n",
       "      <th>UserLanguage</th>\n",
       "      <th>Date</th>\n",
       "      <th>Student Name</th>\n",
       "      <th>Site</th>\n",
       "      <th>Staff</th>\n",
       "      <th>Q7_1</th>\n",
       "      <th>Q7_2</th>\n",
       "      <th>Q8_1</th>\n",
       "      <th>Q8_2</th>\n",
       "      <th>Q8_3</th>\n",
       "      <th>Q8_4</th>\n",
       "      <th>Q8_5</th>\n",
       "      <th>Q8_6</th>\n",
       "      <th>Q8_7</th>\n",
       "      <th>Q8_8</th>\n",
       "      <th>Q8_9</th>\n",
       "      <th>Q8_10</th>\n",
       "      <th>Q9_1</th>\n",
       "      <th>Q9_2</th>\n",
       "      <th>Q9_3</th>\n",
       "      <th>Q9_4</th>\n",
       "      <th>Q9_5</th>\n",
       "      <th>Q9_6</th>\n",
       "      <th>Q9_7</th>\n",
       "      <th>Q9_8</th>\n",
       "      <th>Q9_9</th>\n",
       "      <th>Q10</th>\n",
       "      <th>Critical incident</th>\n",
       "      <th>CI Details</th>\n",
       "      <th>Time management</th>\n",
       "      <th>Entrustment scale</th>\n",
       "      <th>#3</th>\n",
       "      <th>#2</th>\n",
       "      <th>#1</th>\n",
       "      <th>#nan</th>\n",
       "    </tr>\n",
       "  </thead>\n",
       "  <tbody>\n",
       "    <tr>\n",
       "      <th>2</th>\n",
       "      <td>2025-03-20 13:45:05</td>\n",
       "      <td>2025-03-20 13:45:29</td>\n",
       "      <td>IP Address</td>\n",
       "      <td>61.69.124.49</td>\n",
       "      <td>38</td>\n",
       "      <td>23</td>\n",
       "      <td>False</td>\n",
       "      <td>2025-03-27 13:45:31.887000</td>\n",
       "      <td>R_9dhTC2Qu3zaybr5</td>\n",
       "      <td>NaN</td>\n",
       "      <td>NaN</td>\n",
       "      <td>NaN</td>\n",
       "      <td>NaN</td>\n",
       "      <td>-37.8024</td>\n",
       "      <td>144.9659</td>\n",
       "      <td>anonymous</td>\n",
       "      <td>EN</td>\n",
       "      <td>2025-03-20</td>\n",
       "      <td>Hamza Al Salieti</td>\n",
       "      <td>Melbourne Dental Clinic</td>\n",
       "      <td>Jaafar Abduo</td>\n",
       "      <td>NaN</td>\n",
       "      <td>NaN</td>\n",
       "      <td>NaN</td>\n",
       "      <td>NaN</td>\n",
       "      <td>NaN</td>\n",
       "      <td>NaN</td>\n",
       "      <td>NaN</td>\n",
       "      <td>NaN</td>\n",
       "      <td>NaN</td>\n",
       "      <td>NaN</td>\n",
       "      <td>NaN</td>\n",
       "      <td>NaN</td>\n",
       "      <td>NaN</td>\n",
       "      <td>NaN</td>\n",
       "      <td>NaN</td>\n",
       "      <td>NaN</td>\n",
       "      <td>NaN</td>\n",
       "      <td>NaN</td>\n",
       "      <td>NaN</td>\n",
       "      <td>NaN</td>\n",
       "      <td>NaN</td>\n",
       "      <td>NaN</td>\n",
       "      <td>NaN</td>\n",
       "      <td>NaN</td>\n",
       "      <td>NaN</td>\n",
       "      <td>NaN</td>\n",
       "      <td>0</td>\n",
       "      <td>0</td>\n",
       "      <td>0</td>\n",
       "      <td>12</td>\n",
       "    </tr>\n",
       "    <tr>\n",
       "      <th>4</th>\n",
       "      <td>2025-03-25 15:07:05</td>\n",
       "      <td>2025-03-25 15:08:30</td>\n",
       "      <td>IP Address</td>\n",
       "      <td>128.250.0.18</td>\n",
       "      <td>75</td>\n",
       "      <td>84</td>\n",
       "      <td>False</td>\n",
       "      <td>2025-04-01 15:08:38.924000</td>\n",
       "      <td>R_4KNr8ecPgIBE6NO</td>\n",
       "      <td>NaN</td>\n",
       "      <td>NaN</td>\n",
       "      <td>NaN</td>\n",
       "      <td>NaN</td>\n",
       "      <td>-37.8024</td>\n",
       "      <td>144.9659</td>\n",
       "      <td>anonymous</td>\n",
       "      <td>EN</td>\n",
       "      <td>2025-03-25</td>\n",
       "      <td>Hamza Al Salieti</td>\n",
       "      <td>Melbourne Dental Clinic</td>\n",
       "      <td>Jaafar Abduo</td>\n",
       "      <td>NaN</td>\n",
       "      <td>NaN</td>\n",
       "      <td>NaN</td>\n",
       "      <td>NaN</td>\n",
       "      <td>NaN</td>\n",
       "      <td>NaN</td>\n",
       "      <td>NaN</td>\n",
       "      <td>NaN</td>\n",
       "      <td>NaN</td>\n",
       "      <td>NaN</td>\n",
       "      <td>NaN</td>\n",
       "      <td>NaN</td>\n",
       "      <td>0.0</td>\n",
       "      <td>0.0</td>\n",
       "      <td>0.0</td>\n",
       "      <td>0.0</td>\n",
       "      <td>0.0</td>\n",
       "      <td>NaN</td>\n",
       "      <td>NaN</td>\n",
       "      <td>NaN</td>\n",
       "      <td>NaN</td>\n",
       "      <td>wdqwfwF</td>\n",
       "      <td>No</td>\n",
       "      <td>NaN</td>\n",
       "      <td>NaN</td>\n",
       "      <td>NaN</td>\n",
       "      <td>0</td>\n",
       "      <td>0</td>\n",
       "      <td>0</td>\n",
       "      <td>12</td>\n",
       "    </tr>\n",
       "    <tr>\n",
       "      <th>6</th>\n",
       "      <td>2025-04-02 12:42:05</td>\n",
       "      <td>2025-04-02 12:43:21</td>\n",
       "      <td>IP Address</td>\n",
       "      <td>128.250.0.103</td>\n",
       "      <td>75</td>\n",
       "      <td>75</td>\n",
       "      <td>False</td>\n",
       "      <td>2025-04-09 11:43:26.257000</td>\n",
       "      <td>R_9eaDSBZhqChJxno</td>\n",
       "      <td>NaN</td>\n",
       "      <td>NaN</td>\n",
       "      <td>NaN</td>\n",
       "      <td>NaN</td>\n",
       "      <td>-37.8024</td>\n",
       "      <td>144.9659</td>\n",
       "      <td>anonymous</td>\n",
       "      <td>EN</td>\n",
       "      <td>2025-04-02</td>\n",
       "      <td>Hamza Al Salieti</td>\n",
       "      <td>Melbourne Dental Clinic</td>\n",
       "      <td>Jaafar Abduo</td>\n",
       "      <td>3.0</td>\n",
       "      <td>3.0</td>\n",
       "      <td>3.0</td>\n",
       "      <td>3.0</td>\n",
       "      <td>3.0</td>\n",
       "      <td>3.0</td>\n",
       "      <td>3.0</td>\n",
       "      <td>3.0</td>\n",
       "      <td>3.0</td>\n",
       "      <td>3.0</td>\n",
       "      <td>3.0</td>\n",
       "      <td>3.0</td>\n",
       "      <td>4.0</td>\n",
       "      <td>4.0</td>\n",
       "      <td>4.0</td>\n",
       "      <td>4.0</td>\n",
       "      <td>4.0</td>\n",
       "      <td>NaN</td>\n",
       "      <td>NaN</td>\n",
       "      <td>NaN</td>\n",
       "      <td>NaN</td>\n",
       "      <td>wfwf</td>\n",
       "      <td>No</td>\n",
       "      <td>NaN</td>\n",
       "      <td>NaN</td>\n",
       "      <td>NaN</td>\n",
       "      <td>12</td>\n",
       "      <td>0</td>\n",
       "      <td>0</td>\n",
       "      <td>0</td>\n",
       "    </tr>\n",
       "    <tr>\n",
       "      <th>7</th>\n",
       "      <td>2025-05-08 20:20:56</td>\n",
       "      <td>2025-05-08 20:28:52</td>\n",
       "      <td>IP Address</td>\n",
       "      <td>122.150.165.11</td>\n",
       "      <td>100</td>\n",
       "      <td>475</td>\n",
       "      <td>True</td>\n",
       "      <td>2025-05-08 20:28:53.667000</td>\n",
       "      <td>R_4YEXy5khDwiqqw0</td>\n",
       "      <td>NaN</td>\n",
       "      <td>NaN</td>\n",
       "      <td>NaN</td>\n",
       "      <td>NaN</td>\n",
       "      <td>-37.8186</td>\n",
       "      <td>145.1277</td>\n",
       "      <td>anonymous</td>\n",
       "      <td>EN</td>\n",
       "      <td>2025-05-08</td>\n",
       "      <td>Hamza Al Salieti</td>\n",
       "      <td>Royal Dental Hospital Melbourne RDHM</td>\n",
       "      <td>Chen Chen</td>\n",
       "      <td>1.0</td>\n",
       "      <td>1.0</td>\n",
       "      <td>2.0</td>\n",
       "      <td>2.0</td>\n",
       "      <td>1.0</td>\n",
       "      <td>1.0</td>\n",
       "      <td>1.0</td>\n",
       "      <td>1.0</td>\n",
       "      <td>NaN</td>\n",
       "      <td>1.0</td>\n",
       "      <td>2.0</td>\n",
       "      <td>1.0</td>\n",
       "      <td>3.0</td>\n",
       "      <td>4.0</td>\n",
       "      <td>4.0</td>\n",
       "      <td>4.0</td>\n",
       "      <td>4.0</td>\n",
       "      <td>4.0</td>\n",
       "      <td>2.0</td>\n",
       "      <td>4.0</td>\n",
       "      <td>4.0</td>\n",
       "      <td>Minimal clinical time as yet. \\nHas shown some...</td>\n",
       "      <td>No</td>\n",
       "      <td>NaN</td>\n",
       "      <td>Lvl 3: Completes clinical procedures in alloca...</td>\n",
       "      <td>Lvl 2: Student can be trusted to perform task ...</td>\n",
       "      <td>0</td>\n",
       "      <td>3</td>\n",
       "      <td>8</td>\n",
       "      <td>1</td>\n",
       "    </tr>\n",
       "    <tr>\n",
       "      <th>15</th>\n",
       "      <td>2025-05-09 13:42:19</td>\n",
       "      <td>2025-05-09 13:47:40</td>\n",
       "      <td>IP Address</td>\n",
       "      <td>128.250.0.112</td>\n",
       "      <td>100</td>\n",
       "      <td>321</td>\n",
       "      <td>True</td>\n",
       "      <td>2025-05-09 13:47:41.581000</td>\n",
       "      <td>R_4WNlzHfK0dkK4nE</td>\n",
       "      <td>NaN</td>\n",
       "      <td>NaN</td>\n",
       "      <td>NaN</td>\n",
       "      <td>NaN</td>\n",
       "      <td>-37.8024</td>\n",
       "      <td>144.9659</td>\n",
       "      <td>anonymous</td>\n",
       "      <td>EN</td>\n",
       "      <td>2025-05-09</td>\n",
       "      <td>Hamza Al Salieti</td>\n",
       "      <td>Melbourne Dental Clinic,Royal Dental Hospital ...</td>\n",
       "      <td>Jaafar Abduo</td>\n",
       "      <td>3.0</td>\n",
       "      <td>3.0</td>\n",
       "      <td>3.0</td>\n",
       "      <td>3.0</td>\n",
       "      <td>2.0</td>\n",
       "      <td>2.0</td>\n",
       "      <td>NaN</td>\n",
       "      <td>2.0</td>\n",
       "      <td>NaN</td>\n",
       "      <td>2.0</td>\n",
       "      <td>NaN</td>\n",
       "      <td>2.0</td>\n",
       "      <td>3.0</td>\n",
       "      <td>4.0</td>\n",
       "      <td>4.0</td>\n",
       "      <td>4.0</td>\n",
       "      <td>4.0</td>\n",
       "      <td>4.0</td>\n",
       "      <td>3.0</td>\n",
       "      <td>4.0</td>\n",
       "      <td>4.0</td>\n",
       "      <td>Hamza started the clinic very recently, due to...</td>\n",
       "      <td>No</td>\n",
       "      <td>NaN</td>\n",
       "      <td>Lvl 3: Completes clinical procedures in alloca...</td>\n",
       "      <td>Lvl 3: Student can be trusted to perform task ...</td>\n",
       "      <td>4</td>\n",
       "      <td>5</td>\n",
       "      <td>0</td>\n",
       "      <td>3</td>\n",
       "    </tr>\n",
       "  </tbody>\n",
       "</table>\n",
       "</div>"
      ],
      "text/plain": [
       "              StartDate              EndDate      Status       IPAddress  \\\n",
       "2   2025-03-20 13:45:05  2025-03-20 13:45:29  IP Address    61.69.124.49   \n",
       "4   2025-03-25 15:07:05  2025-03-25 15:08:30  IP Address    128.250.0.18   \n",
       "6   2025-04-02 12:42:05  2025-04-02 12:43:21  IP Address   128.250.0.103   \n",
       "7   2025-05-08 20:20:56  2025-05-08 20:28:52  IP Address  122.150.165.11   \n",
       "15  2025-05-09 13:42:19  2025-05-09 13:47:40  IP Address   128.250.0.112   \n",
       "\n",
       "   Progress Duration (in seconds) Finished                RecordedDate  \\\n",
       "2        38                    23    False  2025-03-27 13:45:31.887000   \n",
       "4        75                    84    False  2025-04-01 15:08:38.924000   \n",
       "6        75                    75    False  2025-04-09 11:43:26.257000   \n",
       "7       100                   475     True  2025-05-08 20:28:53.667000   \n",
       "15      100                   321     True  2025-05-09 13:47:41.581000   \n",
       "\n",
       "           ResponseId RecipientLastName RecipientFirstName RecipientEmail  \\\n",
       "2   R_9dhTC2Qu3zaybr5               NaN                NaN            NaN   \n",
       "4   R_4KNr8ecPgIBE6NO               NaN                NaN            NaN   \n",
       "6   R_9eaDSBZhqChJxno               NaN                NaN            NaN   \n",
       "7   R_4YEXy5khDwiqqw0               NaN                NaN            NaN   \n",
       "15  R_4WNlzHfK0dkK4nE               NaN                NaN            NaN   \n",
       "\n",
       "   ExternalReference LocationLatitude LocationLongitude DistributionChannel  \\\n",
       "2                NaN         -37.8024          144.9659           anonymous   \n",
       "4                NaN         -37.8024          144.9659           anonymous   \n",
       "6                NaN         -37.8024          144.9659           anonymous   \n",
       "7                NaN         -37.8186          145.1277           anonymous   \n",
       "15               NaN         -37.8024          144.9659           anonymous   \n",
       "\n",
       "   UserLanguage        Date      Student Name  \\\n",
       "2            EN  2025-03-20  Hamza Al Salieti   \n",
       "4            EN  2025-03-25  Hamza Al Salieti   \n",
       "6            EN  2025-04-02  Hamza Al Salieti   \n",
       "7            EN  2025-05-08  Hamza Al Salieti   \n",
       "15           EN  2025-05-09  Hamza Al Salieti   \n",
       "\n",
       "                                                 Site         Staff  Q7_1  \\\n",
       "2                             Melbourne Dental Clinic  Jaafar Abduo   NaN   \n",
       "4                             Melbourne Dental Clinic  Jaafar Abduo   NaN   \n",
       "6                             Melbourne Dental Clinic  Jaafar Abduo   3.0   \n",
       "7                Royal Dental Hospital Melbourne RDHM     Chen Chen   1.0   \n",
       "15  Melbourne Dental Clinic,Royal Dental Hospital ...  Jaafar Abduo   3.0   \n",
       "\n",
       "    Q7_2  Q8_1  Q8_2  Q8_3  Q8_4  Q8_5  Q8_6  Q8_7  Q8_8  Q8_9  Q8_10  Q9_1  \\\n",
       "2    NaN   NaN   NaN   NaN   NaN   NaN   NaN   NaN   NaN   NaN    NaN   NaN   \n",
       "4    NaN   NaN   NaN   NaN   NaN   NaN   NaN   NaN   NaN   NaN    NaN   0.0   \n",
       "6    3.0   3.0   3.0   3.0   3.0   3.0   3.0   3.0   3.0   3.0    3.0   4.0   \n",
       "7    1.0   2.0   2.0   1.0   1.0   1.0   1.0   NaN   1.0   2.0    1.0   3.0   \n",
       "15   3.0   3.0   3.0   2.0   2.0   NaN   2.0   NaN   2.0   NaN    2.0   3.0   \n",
       "\n",
       "    Q9_2  Q9_3  Q9_4  Q9_5  Q9_6  Q9_7  Q9_8  Q9_9  \\\n",
       "2    NaN   NaN   NaN   NaN   NaN   NaN   NaN   NaN   \n",
       "4    0.0   0.0   0.0   0.0   NaN   NaN   NaN   NaN   \n",
       "6    4.0   4.0   4.0   4.0   NaN   NaN   NaN   NaN   \n",
       "7    4.0   4.0   4.0   4.0   4.0   2.0   4.0   4.0   \n",
       "15   4.0   4.0   4.0   4.0   4.0   3.0   4.0   4.0   \n",
       "\n",
       "                                                  Q10 Critical incident  \\\n",
       "2                                                 NaN               NaN   \n",
       "4                                             wdqwfwF                No   \n",
       "6                                                wfwf                No   \n",
       "7   Minimal clinical time as yet. \\nHas shown some...                No   \n",
       "15  Hamza started the clinic very recently, due to...                No   \n",
       "\n",
       "   CI Details                                    Time management  \\\n",
       "2         NaN                                                NaN   \n",
       "4         NaN                                                NaN   \n",
       "6         NaN                                                NaN   \n",
       "7         NaN  Lvl 3: Completes clinical procedures in alloca...   \n",
       "15        NaN  Lvl 3: Completes clinical procedures in alloca...   \n",
       "\n",
       "                                    Entrustment scale  #3  #2  #1  #nan  \n",
       "2                                                 NaN   0   0   0    12  \n",
       "4                                                 NaN   0   0   0    12  \n",
       "6                                                 NaN  12   0   0     0  \n",
       "7   Lvl 2: Student can be trusted to perform task ...   0   3   8     1  \n",
       "15  Lvl 3: Student can be trusted to perform task ...   4   5   0     3  "
      ]
     },
     "metadata": {},
     "output_type": "display_data"
    },
    {
     "data": {
      "text/plain": [
       "Q7_1\n",
       "NaN    2\n",
       "3.0    2\n",
       "1.0    1\n",
       "Name: count, dtype: int64"
      ]
     },
     "metadata": {},
     "output_type": "display_data"
    },
    {
     "name": "stdout",
     "output_type": "stream",
     "text": [
      "['No basis for evaluation', 'Completed independently (competent)', 'Completed with substantial assistance']\n"
     ]
    },
    {
     "data": {
      "text/plain": [
       "No basis for evaluation                  2\n",
       "Completed independently (competent)      2\n",
       "Completed with substantial assistance    1\n",
       "Name: count, dtype: int64"
      ]
     },
     "metadata": {},
     "output_type": "display_data"
    },
    {
     "data": {
      "text/plain": [
       "Q7_2\n",
       "NaN    2\n",
       "3.0    2\n",
       "1.0    1\n",
       "Name: count, dtype: int64"
      ]
     },
     "metadata": {},
     "output_type": "display_data"
    },
    {
     "name": "stdout",
     "output_type": "stream",
     "text": [
      "['No basis for evaluation', 'Completed independently (competent)', 'Completed with substantial assistance']\n"
     ]
    },
    {
     "data": {
      "text/plain": [
       "No basis for evaluation                  2\n",
       "Completed independently (competent)      2\n",
       "Completed with substantial assistance    1\n",
       "Name: count, dtype: int64"
      ]
     },
     "metadata": {},
     "output_type": "display_data"
    },
    {
     "data": {
      "text/plain": [
       "Q8_1\n",
       "NaN    2\n",
       "3.0    2\n",
       "2.0    1\n",
       "Name: count, dtype: int64"
      ]
     },
     "metadata": {},
     "output_type": "display_data"
    },
    {
     "name": "stdout",
     "output_type": "stream",
     "text": [
      "['No basis for evaluation', 'Completed independently (competent)', 'Completed with minimal assistance']\n"
     ]
    },
    {
     "data": {
      "text/plain": [
       "No basis for evaluation                2\n",
       "Completed independently (competent)    2\n",
       "Completed with minimal assistance      1\n",
       "Name: count, dtype: int64"
      ]
     },
     "metadata": {},
     "output_type": "display_data"
    },
    {
     "data": {
      "text/plain": [
       "Q8_2\n",
       "NaN    2\n",
       "3.0    2\n",
       "2.0    1\n",
       "Name: count, dtype: int64"
      ]
     },
     "metadata": {},
     "output_type": "display_data"
    },
    {
     "name": "stdout",
     "output_type": "stream",
     "text": [
      "['No basis for evaluation', 'Completed independently (competent)', 'Completed with minimal assistance']\n"
     ]
    },
    {
     "data": {
      "text/plain": [
       "No basis for evaluation                2\n",
       "Completed independently (competent)    2\n",
       "Completed with minimal assistance      1\n",
       "Name: count, dtype: int64"
      ]
     },
     "metadata": {},
     "output_type": "display_data"
    },
    {
     "data": {
      "text/plain": [
       "Q8_3\n",
       "NaN    2\n",
       "3.0    1\n",
       "1.0    1\n",
       "2.0    1\n",
       "Name: count, dtype: int64"
      ]
     },
     "metadata": {},
     "output_type": "display_data"
    },
    {
     "name": "stdout",
     "output_type": "stream",
     "text": [
      "['No basis for evaluation', 'Completed independently (competent)', 'Completed with substantial assistance', 'Completed with minimal assistance']\n"
     ]
    },
    {
     "data": {
      "text/plain": [
       "No basis for evaluation                  2\n",
       "Completed independently (competent)      1\n",
       "Completed with substantial assistance    1\n",
       "Completed with minimal assistance        1\n",
       "Name: count, dtype: int64"
      ]
     },
     "metadata": {},
     "output_type": "display_data"
    },
    {
     "data": {
      "text/plain": [
       "Q8_4\n",
       "NaN    2\n",
       "3.0    1\n",
       "1.0    1\n",
       "2.0    1\n",
       "Name: count, dtype: int64"
      ]
     },
     "metadata": {},
     "output_type": "display_data"
    },
    {
     "name": "stdout",
     "output_type": "stream",
     "text": [
      "['No basis for evaluation', 'Completed independently (competent)', 'Completed with substantial assistance', 'Completed with minimal assistance']\n"
     ]
    },
    {
     "data": {
      "text/plain": [
       "No basis for evaluation                  2\n",
       "Completed independently (competent)      1\n",
       "Completed with substantial assistance    1\n",
       "Completed with minimal assistance        1\n",
       "Name: count, dtype: int64"
      ]
     },
     "metadata": {},
     "output_type": "display_data"
    },
    {
     "data": {
      "text/plain": [
       "Q8_5\n",
       "NaN    3\n",
       "3.0    1\n",
       "1.0    1\n",
       "Name: count, dtype: int64"
      ]
     },
     "metadata": {},
     "output_type": "display_data"
    },
    {
     "name": "stdout",
     "output_type": "stream",
     "text": [
      "['No basis for evaluation', 'Completed independently (competent)', 'Completed with substantial assistance']\n"
     ]
    },
    {
     "data": {
      "text/plain": [
       "No basis for evaluation                  3\n",
       "Completed independently (competent)      1\n",
       "Completed with substantial assistance    1\n",
       "Name: count, dtype: int64"
      ]
     },
     "metadata": {},
     "output_type": "display_data"
    },
    {
     "data": {
      "text/plain": [
       "Q8_6\n",
       "NaN    2\n",
       "3.0    1\n",
       "1.0    1\n",
       "2.0    1\n",
       "Name: count, dtype: int64"
      ]
     },
     "metadata": {},
     "output_type": "display_data"
    },
    {
     "name": "stdout",
     "output_type": "stream",
     "text": [
      "['No basis for evaluation', 'Completed independently (competent)', 'Completed with substantial assistance', 'Completed with minimal assistance']\n"
     ]
    },
    {
     "data": {
      "text/plain": [
       "No basis for evaluation                  2\n",
       "Completed independently (competent)      1\n",
       "Completed with substantial assistance    1\n",
       "Completed with minimal assistance        1\n",
       "Name: count, dtype: int64"
      ]
     },
     "metadata": {},
     "output_type": "display_data"
    },
    {
     "data": {
      "text/plain": [
       "Q8_7\n",
       "NaN    4\n",
       "3.0    1\n",
       "Name: count, dtype: int64"
      ]
     },
     "metadata": {},
     "output_type": "display_data"
    },
    {
     "name": "stdout",
     "output_type": "stream",
     "text": [
      "['No basis for evaluation', 'Completed independently (competent)']\n"
     ]
    },
    {
     "data": {
      "text/plain": [
       "No basis for evaluation                4\n",
       "Completed independently (competent)    1\n",
       "Name: count, dtype: int64"
      ]
     },
     "metadata": {},
     "output_type": "display_data"
    },
    {
     "data": {
      "text/plain": [
       "Q8_8\n",
       "NaN    2\n",
       "3.0    1\n",
       "1.0    1\n",
       "2.0    1\n",
       "Name: count, dtype: int64"
      ]
     },
     "metadata": {},
     "output_type": "display_data"
    },
    {
     "name": "stdout",
     "output_type": "stream",
     "text": [
      "['No basis for evaluation', 'Completed independently (competent)', 'Completed with substantial assistance', 'Completed with minimal assistance']\n"
     ]
    },
    {
     "data": {
      "text/plain": [
       "No basis for evaluation                  2\n",
       "Completed independently (competent)      1\n",
       "Completed with substantial assistance    1\n",
       "Completed with minimal assistance        1\n",
       "Name: count, dtype: int64"
      ]
     },
     "metadata": {},
     "output_type": "display_data"
    },
    {
     "data": {
      "text/plain": [
       "Q8_9\n",
       "NaN    3\n",
       "3.0    1\n",
       "2.0    1\n",
       "Name: count, dtype: int64"
      ]
     },
     "metadata": {},
     "output_type": "display_data"
    },
    {
     "name": "stdout",
     "output_type": "stream",
     "text": [
      "['No basis for evaluation', 'Completed independently (competent)', 'Completed with minimal assistance']\n"
     ]
    },
    {
     "data": {
      "text/plain": [
       "No basis for evaluation                3\n",
       "Completed independently (competent)    1\n",
       "Completed with minimal assistance      1\n",
       "Name: count, dtype: int64"
      ]
     },
     "metadata": {},
     "output_type": "display_data"
    },
    {
     "data": {
      "text/plain": [
       "Q8_10\n",
       "NaN    2\n",
       "3.0    1\n",
       "1.0    1\n",
       "2.0    1\n",
       "Name: count, dtype: int64"
      ]
     },
     "metadata": {},
     "output_type": "display_data"
    },
    {
     "name": "stdout",
     "output_type": "stream",
     "text": [
      "['No basis for evaluation', 'Completed independently (competent)', 'Completed with substantial assistance', 'Completed with minimal assistance']\n"
     ]
    },
    {
     "data": {
      "text/plain": [
       "No basis for evaluation                  2\n",
       "Completed independently (competent)      1\n",
       "Completed with substantial assistance    1\n",
       "Completed with minimal assistance        1\n",
       "Name: count, dtype: int64"
      ]
     },
     "metadata": {},
     "output_type": "display_data"
    },
    {
     "data": {
      "text/plain": [
       "Q9_1\n",
       "3.0    2\n",
       "NaN    1\n",
       "0.0    1\n",
       "4.0    1\n",
       "Name: count, dtype: int64"
      ]
     },
     "metadata": {},
     "output_type": "display_data"
    },
    {
     "name": "stdout",
     "output_type": "stream",
     "text": [
      "['OFTEN', 'Not graded', 'NEVER', 'ALWAYS']\n"
     ]
    },
    {
     "data": {
      "text/plain": [
       "OFTEN         2\n",
       "Not graded    1\n",
       "NEVER         1\n",
       "ALWAYS        1\n",
       "Name: count, dtype: int64"
      ]
     },
     "metadata": {},
     "output_type": "display_data"
    },
    {
     "data": {
      "text/plain": [
       "Q9_2\n",
       "4.0    3\n",
       "NaN    1\n",
       "0.0    1\n",
       "Name: count, dtype: int64"
      ]
     },
     "metadata": {},
     "output_type": "display_data"
    },
    {
     "name": "stdout",
     "output_type": "stream",
     "text": [
      "['ALWAYS', 'Not graded', 'NEVER']\n"
     ]
    },
    {
     "data": {
      "text/plain": [
       "ALWAYS        3\n",
       "Not graded    1\n",
       "NEVER         1\n",
       "Name: count, dtype: int64"
      ]
     },
     "metadata": {},
     "output_type": "display_data"
    },
    {
     "data": {
      "text/plain": [
       "Q9_3\n",
       "4.0    3\n",
       "NaN    1\n",
       "0.0    1\n",
       "Name: count, dtype: int64"
      ]
     },
     "metadata": {},
     "output_type": "display_data"
    },
    {
     "name": "stdout",
     "output_type": "stream",
     "text": [
      "['ALWAYS', 'Not graded', 'NEVER']\n"
     ]
    },
    {
     "data": {
      "text/plain": [
       "ALWAYS        3\n",
       "Not graded    1\n",
       "NEVER         1\n",
       "Name: count, dtype: int64"
      ]
     },
     "metadata": {},
     "output_type": "display_data"
    },
    {
     "data": {
      "text/plain": [
       "Q9_4\n",
       "4.0    3\n",
       "NaN    1\n",
       "0.0    1\n",
       "Name: count, dtype: int64"
      ]
     },
     "metadata": {},
     "output_type": "display_data"
    },
    {
     "name": "stdout",
     "output_type": "stream",
     "text": [
      "['ALWAYS', 'Not graded', 'NEVER']\n"
     ]
    },
    {
     "data": {
      "text/plain": [
       "ALWAYS        3\n",
       "Not graded    1\n",
       "NEVER         1\n",
       "Name: count, dtype: int64"
      ]
     },
     "metadata": {},
     "output_type": "display_data"
    },
    {
     "data": {
      "text/plain": [
       "Q9_5\n",
       "4.0    3\n",
       "NaN    1\n",
       "0.0    1\n",
       "Name: count, dtype: int64"
      ]
     },
     "metadata": {},
     "output_type": "display_data"
    },
    {
     "name": "stdout",
     "output_type": "stream",
     "text": [
      "['ALWAYS', 'Not graded', 'NEVER']\n"
     ]
    },
    {
     "data": {
      "text/plain": [
       "ALWAYS        3\n",
       "Not graded    1\n",
       "NEVER         1\n",
       "Name: count, dtype: int64"
      ]
     },
     "metadata": {},
     "output_type": "display_data"
    },
    {
     "data": {
      "text/plain": [
       "Q9_6\n",
       "NaN    3\n",
       "4.0    2\n",
       "Name: count, dtype: int64"
      ]
     },
     "metadata": {},
     "output_type": "display_data"
    },
    {
     "name": "stdout",
     "output_type": "stream",
     "text": [
      "['Not graded', 'ALWAYS']\n"
     ]
    },
    {
     "data": {
      "text/plain": [
       "Not graded    3\n",
       "ALWAYS        2\n",
       "Name: count, dtype: int64"
      ]
     },
     "metadata": {},
     "output_type": "display_data"
    },
    {
     "data": {
      "text/plain": [
       "Q9_7\n",
       "NaN    3\n",
       "2.0    1\n",
       "3.0    1\n",
       "Name: count, dtype: int64"
      ]
     },
     "metadata": {},
     "output_type": "display_data"
    },
    {
     "name": "stdout",
     "output_type": "stream",
     "text": [
      "['Not graded', 'SOMETIMES', 'OFTEN']\n"
     ]
    },
    {
     "data": {
      "text/plain": [
       "Not graded    3\n",
       "SOMETIMES     1\n",
       "OFTEN         1\n",
       "Name: count, dtype: int64"
      ]
     },
     "metadata": {},
     "output_type": "display_data"
    },
    {
     "data": {
      "text/plain": [
       "Q9_8\n",
       "NaN    3\n",
       "4.0    2\n",
       "Name: count, dtype: int64"
      ]
     },
     "metadata": {},
     "output_type": "display_data"
    },
    {
     "name": "stdout",
     "output_type": "stream",
     "text": [
      "['Not graded', 'ALWAYS']\n"
     ]
    },
    {
     "data": {
      "text/plain": [
       "Not graded    3\n",
       "ALWAYS        2\n",
       "Name: count, dtype: int64"
      ]
     },
     "metadata": {},
     "output_type": "display_data"
    },
    {
     "data": {
      "text/plain": [
       "Q9_9\n",
       "NaN    3\n",
       "4.0    2\n",
       "Name: count, dtype: int64"
      ]
     },
     "metadata": {},
     "output_type": "display_data"
    },
    {
     "name": "stdout",
     "output_type": "stream",
     "text": [
      "['Not graded', 'ALWAYS']\n"
     ]
    },
    {
     "data": {
      "text/plain": [
       "Not graded    3\n",
       "ALWAYS        2\n",
       "Name: count, dtype: int64"
      ]
     },
     "metadata": {},
     "output_type": "display_data"
    },
    {
     "data": {
      "text/html": [
       "<div>\n",
       "<style scoped>\n",
       "    .dataframe tbody tr th:only-of-type {\n",
       "        vertical-align: middle;\n",
       "    }\n",
       "\n",
       "    .dataframe tbody tr th {\n",
       "        vertical-align: top;\n",
       "    }\n",
       "\n",
       "    .dataframe thead th {\n",
       "        text-align: right;\n",
       "    }\n",
       "</style>\n",
       "<table border=\"1\" class=\"dataframe\">\n",
       "  <thead>\n",
       "    <tr style=\"text-align: right;\">\n",
       "      <th></th>\n",
       "      <th>Staff</th>\n",
       "      <th>Comments</th>\n",
       "    </tr>\n",
       "  </thead>\n",
       "  <tbody>\n",
       "    <tr>\n",
       "      <th>4</th>\n",
       "      <td>Jaafar Abduo</td>\n",
       "      <td>wdqwfwF</td>\n",
       "    </tr>\n",
       "    <tr>\n",
       "      <th>6</th>\n",
       "      <td>Jaafar Abduo</td>\n",
       "      <td>wfwf</td>\n",
       "    </tr>\n",
       "    <tr>\n",
       "      <th>7</th>\n",
       "      <td>Chen Chen</td>\n",
       "      <td>Minimal clinical time as yet. \\nHas shown some...</td>\n",
       "    </tr>\n",
       "    <tr>\n",
       "      <th>15</th>\n",
       "      <td>Jaafar Abduo</td>\n",
       "      <td>Hamza started the clinic very recently, due to...</td>\n",
       "    </tr>\n",
       "  </tbody>\n",
       "</table>\n",
       "</div>"
      ],
      "text/plain": [
       "           Staff                                           Comments\n",
       "4   Jaafar Abduo                                            wdqwfwF\n",
       "6   Jaafar Abduo                                               wfwf\n",
       "7      Chen Chen  Minimal clinical time as yet. \\nHas shown some...\n",
       "15  Jaafar Abduo  Hamza started the clinic very recently, due to..."
      ]
     },
     "metadata": {},
     "output_type": "display_data"
    },
    {
     "name": "stdout",
     "output_type": "stream",
     "text": [
      "Creating table for Reflect on the student's performance across the month - what are some strengths and areas you have identified for improvement.\n"
     ]
    },
    {
     "data": {
      "text/html": [
       "<div>\n",
       "<style scoped>\n",
       "    .dataframe tbody tr th:only-of-type {\n",
       "        vertical-align: middle;\n",
       "    }\n",
       "\n",
       "    .dataframe tbody tr th {\n",
       "        vertical-align: top;\n",
       "    }\n",
       "\n",
       "    .dataframe thead th {\n",
       "        text-align: right;\n",
       "    }\n",
       "</style>\n",
       "<table border=\"1\" class=\"dataframe\">\n",
       "  <thead>\n",
       "    <tr style=\"text-align: right;\">\n",
       "      <th></th>\n",
       "      <th>Staff</th>\n",
       "      <th>Comments</th>\n",
       "    </tr>\n",
       "  </thead>\n",
       "  <tbody>\n",
       "    <tr>\n",
       "      <th>4</th>\n",
       "      <td>Jaafar Abduo</td>\n",
       "      <td>No</td>\n",
       "    </tr>\n",
       "    <tr>\n",
       "      <th>6</th>\n",
       "      <td>Jaafar Abduo</td>\n",
       "      <td>No</td>\n",
       "    </tr>\n",
       "    <tr>\n",
       "      <th>7</th>\n",
       "      <td>Chen Chen</td>\n",
       "      <td>No</td>\n",
       "    </tr>\n",
       "    <tr>\n",
       "      <th>15</th>\n",
       "      <td>Jaafar Abduo</td>\n",
       "      <td>No</td>\n",
       "    </tr>\n",
       "  </tbody>\n",
       "</table>\n",
       "</div>"
      ],
      "text/plain": [
       "           Staff Comments\n",
       "4   Jaafar Abduo       No\n",
       "6   Jaafar Abduo       No\n",
       "7      Chen Chen       No\n",
       "15  Jaafar Abduo       No"
      ]
     },
     "metadata": {},
     "output_type": "display_data"
    },
    {
     "name": "stdout",
     "output_type": "stream",
     "text": [
      "Creating table for Has a clinical incident occurred during this month while you were supervising this student?\n"
     ]
    },
    {
     "data": {
      "text/html": [
       "<div>\n",
       "<style scoped>\n",
       "    .dataframe tbody tr th:only-of-type {\n",
       "        vertical-align: middle;\n",
       "    }\n",
       "\n",
       "    .dataframe tbody tr th {\n",
       "        vertical-align: top;\n",
       "    }\n",
       "\n",
       "    .dataframe thead th {\n",
       "        text-align: right;\n",
       "    }\n",
       "</style>\n",
       "<table border=\"1\" class=\"dataframe\">\n",
       "  <thead>\n",
       "    <tr style=\"text-align: right;\">\n",
       "      <th></th>\n",
       "      <th>StartDate</th>\n",
       "      <th>EndDate</th>\n",
       "      <th>Status</th>\n",
       "      <th>IPAddress</th>\n",
       "      <th>Progress</th>\n",
       "      <th>Duration (in seconds)</th>\n",
       "      <th>Finished</th>\n",
       "      <th>RecordedDate</th>\n",
       "      <th>ResponseId</th>\n",
       "      <th>RecipientLastName</th>\n",
       "      <th>RecipientFirstName</th>\n",
       "      <th>RecipientEmail</th>\n",
       "      <th>ExternalReference</th>\n",
       "      <th>LocationLatitude</th>\n",
       "      <th>LocationLongitude</th>\n",
       "      <th>DistributionChannel</th>\n",
       "      <th>UserLanguage</th>\n",
       "      <th>Date</th>\n",
       "      <th>Student Name</th>\n",
       "      <th>Site</th>\n",
       "      <th>Staff</th>\n",
       "      <th>Q7_1</th>\n",
       "      <th>Q7_2</th>\n",
       "      <th>Q8_1</th>\n",
       "      <th>Q8_2</th>\n",
       "      <th>Q8_3</th>\n",
       "      <th>Q8_4</th>\n",
       "      <th>Q8_5</th>\n",
       "      <th>Q8_6</th>\n",
       "      <th>Q8_7</th>\n",
       "      <th>Q8_8</th>\n",
       "      <th>Q8_9</th>\n",
       "      <th>Q8_10</th>\n",
       "      <th>Q9_1</th>\n",
       "      <th>Q9_2</th>\n",
       "      <th>Q9_3</th>\n",
       "      <th>Q9_4</th>\n",
       "      <th>Q9_5</th>\n",
       "      <th>Q9_6</th>\n",
       "      <th>Q9_7</th>\n",
       "      <th>Q9_8</th>\n",
       "      <th>Q9_9</th>\n",
       "      <th>Q10</th>\n",
       "      <th>Critical incident</th>\n",
       "      <th>CI Details</th>\n",
       "      <th>Time management</th>\n",
       "      <th>Entrustment scale</th>\n",
       "      <th>#3</th>\n",
       "      <th>#2</th>\n",
       "      <th>#1</th>\n",
       "      <th>#nan</th>\n",
       "    </tr>\n",
       "  </thead>\n",
       "  <tbody>\n",
       "    <tr>\n",
       "      <th>11</th>\n",
       "      <td>2025-05-08 22:18:40</td>\n",
       "      <td>2025-05-08 22:24:52</td>\n",
       "      <td>IP Address</td>\n",
       "      <td>122.150.165.151</td>\n",
       "      <td>100</td>\n",
       "      <td>371</td>\n",
       "      <td>True</td>\n",
       "      <td>2025-05-08 22:24:53.373000</td>\n",
       "      <td>R_4nGzovBlogdQhy3</td>\n",
       "      <td>NaN</td>\n",
       "      <td>NaN</td>\n",
       "      <td>NaN</td>\n",
       "      <td>NaN</td>\n",
       "      <td>-37.8186</td>\n",
       "      <td>145.1277</td>\n",
       "      <td>anonymous</td>\n",
       "      <td>EN</td>\n",
       "      <td>2025-05-08</td>\n",
       "      <td>Karen Liang</td>\n",
       "      <td>Royal Dental Hospital Melbourne RDHM</td>\n",
       "      <td>Chen Chen</td>\n",
       "      <td>1.0</td>\n",
       "      <td>1.0</td>\n",
       "      <td>2.0</td>\n",
       "      <td>2.0</td>\n",
       "      <td>1.0</td>\n",
       "      <td>1.0</td>\n",
       "      <td>1.0</td>\n",
       "      <td>1.0</td>\n",
       "      <td>1.0</td>\n",
       "      <td>2.0</td>\n",
       "      <td>1.0</td>\n",
       "      <td>1.0</td>\n",
       "      <td>3.0</td>\n",
       "      <td>4.0</td>\n",
       "      <td>4.0</td>\n",
       "      <td>4.0</td>\n",
       "      <td>4.0</td>\n",
       "      <td>4.0</td>\n",
       "      <td>4.0</td>\n",
       "      <td>4.0</td>\n",
       "      <td>4.0</td>\n",
       "      <td>Needs help with diagnosing, treatment planning...</td>\n",
       "      <td>No</td>\n",
       "      <td>NaN</td>\n",
       "      <td>Lvl 2: Reaches a step (or point) in the proced...</td>\n",
       "      <td>Lvl 2: Student can be trusted to perform task ...</td>\n",
       "      <td>0</td>\n",
       "      <td>3</td>\n",
       "      <td>9</td>\n",
       "      <td>0</td>\n",
       "    </tr>\n",
       "    <tr>\n",
       "      <th>20</th>\n",
       "      <td>2025-05-09 14:02:03</td>\n",
       "      <td>2025-05-09 14:04:53</td>\n",
       "      <td>IP Address</td>\n",
       "      <td>128.250.0.112</td>\n",
       "      <td>100</td>\n",
       "      <td>169</td>\n",
       "      <td>True</td>\n",
       "      <td>2025-05-09 14:04:54.618000</td>\n",
       "      <td>R_4JelxgUcuUtobWF</td>\n",
       "      <td>NaN</td>\n",
       "      <td>NaN</td>\n",
       "      <td>NaN</td>\n",
       "      <td>NaN</td>\n",
       "      <td>-37.8024</td>\n",
       "      <td>144.9659</td>\n",
       "      <td>anonymous</td>\n",
       "      <td>EN</td>\n",
       "      <td>2025-05-09</td>\n",
       "      <td>Karen Liang</td>\n",
       "      <td>Melbourne Dental Clinic,Royal Dental Hospital ...</td>\n",
       "      <td>Jaafar Abduo</td>\n",
       "      <td>3.0</td>\n",
       "      <td>3.0</td>\n",
       "      <td>3.0</td>\n",
       "      <td>3.0</td>\n",
       "      <td>3.0</td>\n",
       "      <td>2.0</td>\n",
       "      <td>NaN</td>\n",
       "      <td>2.0</td>\n",
       "      <td>3.0</td>\n",
       "      <td>NaN</td>\n",
       "      <td>2.0</td>\n",
       "      <td>3.0</td>\n",
       "      <td>4.0</td>\n",
       "      <td>4.0</td>\n",
       "      <td>4.0</td>\n",
       "      <td>4.0</td>\n",
       "      <td>4.0</td>\n",
       "      <td>4.0</td>\n",
       "      <td>4.0</td>\n",
       "      <td>4.0</td>\n",
       "      <td>4.0</td>\n",
       "      <td>Alex had a promising start. Still at the preli...</td>\n",
       "      <td>No</td>\n",
       "      <td>NaN</td>\n",
       "      <td>Lvl 3: Completes clinical procedures in alloca...</td>\n",
       "      <td>Lvl 3: Student can be trusted to perform task ...</td>\n",
       "      <td>7</td>\n",
       "      <td>3</td>\n",
       "      <td>0</td>\n",
       "      <td>2</td>\n",
       "    </tr>\n",
       "    <tr>\n",
       "      <th>21</th>\n",
       "      <td>2025-05-09 14:04:56</td>\n",
       "      <td>2025-05-09 14:06:59</td>\n",
       "      <td>IP Address</td>\n",
       "      <td>128.250.0.112</td>\n",
       "      <td>100</td>\n",
       "      <td>123</td>\n",
       "      <td>True</td>\n",
       "      <td>2025-05-09 14:07:01.204000</td>\n",
       "      <td>R_9c1adySDO2z3cJR</td>\n",
       "      <td>NaN</td>\n",
       "      <td>NaN</td>\n",
       "      <td>NaN</td>\n",
       "      <td>NaN</td>\n",
       "      <td>-37.8024</td>\n",
       "      <td>144.9659</td>\n",
       "      <td>anonymous</td>\n",
       "      <td>EN</td>\n",
       "      <td>2025-05-09</td>\n",
       "      <td>Karen Liang</td>\n",
       "      <td>Melbourne Dental Clinic,Royal Dental Hospital ...</td>\n",
       "      <td>Jaafar Abduo</td>\n",
       "      <td>3.0</td>\n",
       "      <td>3.0</td>\n",
       "      <td>3.0</td>\n",
       "      <td>3.0</td>\n",
       "      <td>3.0</td>\n",
       "      <td>2.0</td>\n",
       "      <td>2.0</td>\n",
       "      <td>2.0</td>\n",
       "      <td>1.0</td>\n",
       "      <td>3.0</td>\n",
       "      <td>NaN</td>\n",
       "      <td>2.0</td>\n",
       "      <td>4.0</td>\n",
       "      <td>4.0</td>\n",
       "      <td>4.0</td>\n",
       "      <td>4.0</td>\n",
       "      <td>4.0</td>\n",
       "      <td>4.0</td>\n",
       "      <td>4.0</td>\n",
       "      <td>4.0</td>\n",
       "      <td>4.0</td>\n",
       "      <td>Karen had a promising start. Still very early ...</td>\n",
       "      <td>No</td>\n",
       "      <td>NaN</td>\n",
       "      <td>Lvl 3: Completes clinical procedures in alloca...</td>\n",
       "      <td>Lvl 3: Student can be trusted to perform task ...</td>\n",
       "      <td>6</td>\n",
       "      <td>4</td>\n",
       "      <td>1</td>\n",
       "      <td>1</td>\n",
       "    </tr>\n",
       "  </tbody>\n",
       "</table>\n",
       "</div>"
      ],
      "text/plain": [
       "              StartDate              EndDate      Status        IPAddress  \\\n",
       "11  2025-05-08 22:18:40  2025-05-08 22:24:52  IP Address  122.150.165.151   \n",
       "20  2025-05-09 14:02:03  2025-05-09 14:04:53  IP Address    128.250.0.112   \n",
       "21  2025-05-09 14:04:56  2025-05-09 14:06:59  IP Address    128.250.0.112   \n",
       "\n",
       "   Progress Duration (in seconds) Finished                RecordedDate  \\\n",
       "11      100                   371     True  2025-05-08 22:24:53.373000   \n",
       "20      100                   169     True  2025-05-09 14:04:54.618000   \n",
       "21      100                   123     True  2025-05-09 14:07:01.204000   \n",
       "\n",
       "           ResponseId RecipientLastName RecipientFirstName RecipientEmail  \\\n",
       "11  R_4nGzovBlogdQhy3               NaN                NaN            NaN   \n",
       "20  R_4JelxgUcuUtobWF               NaN                NaN            NaN   \n",
       "21  R_9c1adySDO2z3cJR               NaN                NaN            NaN   \n",
       "\n",
       "   ExternalReference LocationLatitude LocationLongitude DistributionChannel  \\\n",
       "11               NaN         -37.8186          145.1277           anonymous   \n",
       "20               NaN         -37.8024          144.9659           anonymous   \n",
       "21               NaN         -37.8024          144.9659           anonymous   \n",
       "\n",
       "   UserLanguage        Date Student Name  \\\n",
       "11           EN  2025-05-08  Karen Liang   \n",
       "20           EN  2025-05-09  Karen Liang   \n",
       "21           EN  2025-05-09  Karen Liang   \n",
       "\n",
       "                                                 Site         Staff  Q7_1  \\\n",
       "11               Royal Dental Hospital Melbourne RDHM     Chen Chen   1.0   \n",
       "20  Melbourne Dental Clinic,Royal Dental Hospital ...  Jaafar Abduo   3.0   \n",
       "21  Melbourne Dental Clinic,Royal Dental Hospital ...  Jaafar Abduo   3.0   \n",
       "\n",
       "    Q7_2  Q8_1  Q8_2  Q8_3  Q8_4  Q8_5  Q8_6  Q8_7  Q8_8  Q8_9  Q8_10  Q9_1  \\\n",
       "11   1.0   2.0   2.0   1.0   1.0   1.0   1.0   1.0   2.0   1.0    1.0   3.0   \n",
       "20   3.0   3.0   3.0   3.0   2.0   NaN   2.0   3.0   NaN   2.0    3.0   4.0   \n",
       "21   3.0   3.0   3.0   3.0   2.0   2.0   2.0   1.0   3.0   NaN    2.0   4.0   \n",
       "\n",
       "    Q9_2  Q9_3  Q9_4  Q9_5  Q9_6  Q9_7  Q9_8  Q9_9  \\\n",
       "11   4.0   4.0   4.0   4.0   4.0   4.0   4.0   4.0   \n",
       "20   4.0   4.0   4.0   4.0   4.0   4.0   4.0   4.0   \n",
       "21   4.0   4.0   4.0   4.0   4.0   4.0   4.0   4.0   \n",
       "\n",
       "                                                  Q10 Critical incident  \\\n",
       "11  Needs help with diagnosing, treatment planning...                No   \n",
       "20  Alex had a promising start. Still at the preli...                No   \n",
       "21  Karen had a promising start. Still very early ...                No   \n",
       "\n",
       "   CI Details                                    Time management  \\\n",
       "11        NaN  Lvl 2: Reaches a step (or point) in the proced...   \n",
       "20        NaN  Lvl 3: Completes clinical procedures in alloca...   \n",
       "21        NaN  Lvl 3: Completes clinical procedures in alloca...   \n",
       "\n",
       "                                    Entrustment scale  #3  #2  #1  #nan  \n",
       "11  Lvl 2: Student can be trusted to perform task ...   0   3   9     0  \n",
       "20  Lvl 3: Student can be trusted to perform task ...   7   3   0     2  \n",
       "21  Lvl 3: Student can be trusted to perform task ...   6   4   1     1  "
      ]
     },
     "metadata": {},
     "output_type": "display_data"
    },
    {
     "data": {
      "text/plain": [
       "Q7_1\n",
       "3.0    2\n",
       "1.0    1\n",
       "Name: count, dtype: int64"
      ]
     },
     "metadata": {},
     "output_type": "display_data"
    },
    {
     "name": "stdout",
     "output_type": "stream",
     "text": [
      "['Completed independently (competent)', 'Completed with substantial assistance']\n"
     ]
    },
    {
     "data": {
      "text/plain": [
       "Completed independently (competent)      2\n",
       "Completed with substantial assistance    1\n",
       "Name: count, dtype: int64"
      ]
     },
     "metadata": {},
     "output_type": "display_data"
    },
    {
     "data": {
      "text/plain": [
       "Q7_2\n",
       "3.0    2\n",
       "1.0    1\n",
       "Name: count, dtype: int64"
      ]
     },
     "metadata": {},
     "output_type": "display_data"
    },
    {
     "name": "stdout",
     "output_type": "stream",
     "text": [
      "['Completed independently (competent)', 'Completed with substantial assistance']\n"
     ]
    },
    {
     "data": {
      "text/plain": [
       "Completed independently (competent)      2\n",
       "Completed with substantial assistance    1\n",
       "Name: count, dtype: int64"
      ]
     },
     "metadata": {},
     "output_type": "display_data"
    },
    {
     "data": {
      "text/plain": [
       "Q8_1\n",
       "3.0    2\n",
       "2.0    1\n",
       "Name: count, dtype: int64"
      ]
     },
     "metadata": {},
     "output_type": "display_data"
    },
    {
     "name": "stdout",
     "output_type": "stream",
     "text": [
      "['Completed independently (competent)', 'Completed with minimal assistance']\n"
     ]
    },
    {
     "data": {
      "text/plain": [
       "Completed independently (competent)    2\n",
       "Completed with minimal assistance      1\n",
       "Name: count, dtype: int64"
      ]
     },
     "metadata": {},
     "output_type": "display_data"
    },
    {
     "data": {
      "text/plain": [
       "Q8_2\n",
       "3.0    2\n",
       "2.0    1\n",
       "Name: count, dtype: int64"
      ]
     },
     "metadata": {},
     "output_type": "display_data"
    },
    {
     "name": "stdout",
     "output_type": "stream",
     "text": [
      "['Completed independently (competent)', 'Completed with minimal assistance']\n"
     ]
    },
    {
     "data": {
      "text/plain": [
       "Completed independently (competent)    2\n",
       "Completed with minimal assistance      1\n",
       "Name: count, dtype: int64"
      ]
     },
     "metadata": {},
     "output_type": "display_data"
    },
    {
     "data": {
      "text/plain": [
       "Q8_3\n",
       "3.0    2\n",
       "1.0    1\n",
       "Name: count, dtype: int64"
      ]
     },
     "metadata": {},
     "output_type": "display_data"
    },
    {
     "name": "stdout",
     "output_type": "stream",
     "text": [
      "['Completed independently (competent)', 'Completed with substantial assistance']\n"
     ]
    },
    {
     "data": {
      "text/plain": [
       "Completed independently (competent)      2\n",
       "Completed with substantial assistance    1\n",
       "Name: count, dtype: int64"
      ]
     },
     "metadata": {},
     "output_type": "display_data"
    },
    {
     "data": {
      "text/plain": [
       "Q8_4\n",
       "2.0    2\n",
       "1.0    1\n",
       "Name: count, dtype: int64"
      ]
     },
     "metadata": {},
     "output_type": "display_data"
    },
    {
     "name": "stdout",
     "output_type": "stream",
     "text": [
      "['Completed with minimal assistance', 'Completed with substantial assistance']\n"
     ]
    },
    {
     "data": {
      "text/plain": [
       "Completed with minimal assistance        2\n",
       "Completed with substantial assistance    1\n",
       "Name: count, dtype: int64"
      ]
     },
     "metadata": {},
     "output_type": "display_data"
    },
    {
     "data": {
      "text/plain": [
       "Q8_5\n",
       "1.0    1\n",
       "NaN    1\n",
       "2.0    1\n",
       "Name: count, dtype: int64"
      ]
     },
     "metadata": {},
     "output_type": "display_data"
    },
    {
     "name": "stdout",
     "output_type": "stream",
     "text": [
      "['Completed with substantial assistance', 'No basis for evaluation', 'Completed with minimal assistance']\n"
     ]
    },
    {
     "data": {
      "text/plain": [
       "Completed with substantial assistance    1\n",
       "No basis for evaluation                  1\n",
       "Completed with minimal assistance        1\n",
       "Name: count, dtype: int64"
      ]
     },
     "metadata": {},
     "output_type": "display_data"
    },
    {
     "data": {
      "text/plain": [
       "Q8_6\n",
       "2.0    2\n",
       "1.0    1\n",
       "Name: count, dtype: int64"
      ]
     },
     "metadata": {},
     "output_type": "display_data"
    },
    {
     "name": "stdout",
     "output_type": "stream",
     "text": [
      "['Completed with minimal assistance', 'Completed with substantial assistance']\n"
     ]
    },
    {
     "data": {
      "text/plain": [
       "Completed with minimal assistance        2\n",
       "Completed with substantial assistance    1\n",
       "Name: count, dtype: int64"
      ]
     },
     "metadata": {},
     "output_type": "display_data"
    },
    {
     "data": {
      "text/plain": [
       "Q8_7\n",
       "1.0    2\n",
       "3.0    1\n",
       "Name: count, dtype: int64"
      ]
     },
     "metadata": {},
     "output_type": "display_data"
    },
    {
     "name": "stdout",
     "output_type": "stream",
     "text": [
      "['Completed with substantial assistance', 'Completed independently (competent)']\n"
     ]
    },
    {
     "data": {
      "text/plain": [
       "Completed with substantial assistance    2\n",
       "Completed independently (competent)      1\n",
       "Name: count, dtype: int64"
      ]
     },
     "metadata": {},
     "output_type": "display_data"
    },
    {
     "data": {
      "text/plain": [
       "Q8_8\n",
       "2.0    1\n",
       "NaN    1\n",
       "3.0    1\n",
       "Name: count, dtype: int64"
      ]
     },
     "metadata": {},
     "output_type": "display_data"
    },
    {
     "name": "stdout",
     "output_type": "stream",
     "text": [
      "['Completed with minimal assistance', 'No basis for evaluation', 'Completed independently (competent)']\n"
     ]
    },
    {
     "data": {
      "text/plain": [
       "Completed with minimal assistance      1\n",
       "No basis for evaluation                1\n",
       "Completed independently (competent)    1\n",
       "Name: count, dtype: int64"
      ]
     },
     "metadata": {},
     "output_type": "display_data"
    },
    {
     "data": {
      "text/plain": [
       "Q8_9\n",
       "1.0    1\n",
       "2.0    1\n",
       "NaN    1\n",
       "Name: count, dtype: int64"
      ]
     },
     "metadata": {},
     "output_type": "display_data"
    },
    {
     "name": "stdout",
     "output_type": "stream",
     "text": [
      "['Completed with substantial assistance', 'Completed with minimal assistance', 'No basis for evaluation']\n"
     ]
    },
    {
     "data": {
      "text/plain": [
       "Completed with substantial assistance    1\n",
       "Completed with minimal assistance        1\n",
       "No basis for evaluation                  1\n",
       "Name: count, dtype: int64"
      ]
     },
     "metadata": {},
     "output_type": "display_data"
    },
    {
     "data": {
      "text/plain": [
       "Q8_10\n",
       "1.0    1\n",
       "3.0    1\n",
       "2.0    1\n",
       "Name: count, dtype: int64"
      ]
     },
     "metadata": {},
     "output_type": "display_data"
    },
    {
     "name": "stdout",
     "output_type": "stream",
     "text": [
      "['Completed with substantial assistance', 'Completed independently (competent)', 'Completed with minimal assistance']\n"
     ]
    },
    {
     "data": {
      "text/plain": [
       "Completed with substantial assistance    1\n",
       "Completed independently (competent)      1\n",
       "Completed with minimal assistance        1\n",
       "Name: count, dtype: int64"
      ]
     },
     "metadata": {},
     "output_type": "display_data"
    },
    {
     "data": {
      "text/plain": [
       "Q9_1\n",
       "4.0    2\n",
       "3.0    1\n",
       "Name: count, dtype: int64"
      ]
     },
     "metadata": {},
     "output_type": "display_data"
    },
    {
     "name": "stdout",
     "output_type": "stream",
     "text": [
      "['ALWAYS', 'OFTEN']\n"
     ]
    },
    {
     "data": {
      "text/plain": [
       "ALWAYS    2\n",
       "OFTEN     1\n",
       "Name: count, dtype: int64"
      ]
     },
     "metadata": {},
     "output_type": "display_data"
    },
    {
     "data": {
      "text/plain": [
       "Q9_2\n",
       "4.0    3\n",
       "Name: count, dtype: int64"
      ]
     },
     "metadata": {},
     "output_type": "display_data"
    },
    {
     "name": "stdout",
     "output_type": "stream",
     "text": [
      "['ALWAYS']\n"
     ]
    },
    {
     "data": {
      "text/plain": [
       "ALWAYS    3\n",
       "Name: count, dtype: int64"
      ]
     },
     "metadata": {},
     "output_type": "display_data"
    },
    {
     "data": {
      "text/plain": [
       "Q9_3\n",
       "4.0    3\n",
       "Name: count, dtype: int64"
      ]
     },
     "metadata": {},
     "output_type": "display_data"
    },
    {
     "name": "stdout",
     "output_type": "stream",
     "text": [
      "['ALWAYS']\n"
     ]
    },
    {
     "data": {
      "text/plain": [
       "ALWAYS    3\n",
       "Name: count, dtype: int64"
      ]
     },
     "metadata": {},
     "output_type": "display_data"
    },
    {
     "data": {
      "text/plain": [
       "Q9_4\n",
       "4.0    3\n",
       "Name: count, dtype: int64"
      ]
     },
     "metadata": {},
     "output_type": "display_data"
    },
    {
     "name": "stdout",
     "output_type": "stream",
     "text": [
      "['ALWAYS']\n"
     ]
    },
    {
     "data": {
      "text/plain": [
       "ALWAYS    3\n",
       "Name: count, dtype: int64"
      ]
     },
     "metadata": {},
     "output_type": "display_data"
    },
    {
     "data": {
      "text/plain": [
       "Q9_5\n",
       "4.0    3\n",
       "Name: count, dtype: int64"
      ]
     },
     "metadata": {},
     "output_type": "display_data"
    },
    {
     "name": "stdout",
     "output_type": "stream",
     "text": [
      "['ALWAYS']\n"
     ]
    },
    {
     "data": {
      "text/plain": [
       "ALWAYS    3\n",
       "Name: count, dtype: int64"
      ]
     },
     "metadata": {},
     "output_type": "display_data"
    },
    {
     "data": {
      "text/plain": [
       "Q9_6\n",
       "4.0    3\n",
       "Name: count, dtype: int64"
      ]
     },
     "metadata": {},
     "output_type": "display_data"
    },
    {
     "name": "stdout",
     "output_type": "stream",
     "text": [
      "['ALWAYS']\n"
     ]
    },
    {
     "data": {
      "text/plain": [
       "ALWAYS    3\n",
       "Name: count, dtype: int64"
      ]
     },
     "metadata": {},
     "output_type": "display_data"
    },
    {
     "data": {
      "text/plain": [
       "Q9_7\n",
       "4.0    3\n",
       "Name: count, dtype: int64"
      ]
     },
     "metadata": {},
     "output_type": "display_data"
    },
    {
     "name": "stdout",
     "output_type": "stream",
     "text": [
      "['ALWAYS']\n"
     ]
    },
    {
     "data": {
      "text/plain": [
       "ALWAYS    3\n",
       "Name: count, dtype: int64"
      ]
     },
     "metadata": {},
     "output_type": "display_data"
    },
    {
     "data": {
      "text/plain": [
       "Q9_8\n",
       "4.0    3\n",
       "Name: count, dtype: int64"
      ]
     },
     "metadata": {},
     "output_type": "display_data"
    },
    {
     "name": "stdout",
     "output_type": "stream",
     "text": [
      "['ALWAYS']\n"
     ]
    },
    {
     "data": {
      "text/plain": [
       "ALWAYS    3\n",
       "Name: count, dtype: int64"
      ]
     },
     "metadata": {},
     "output_type": "display_data"
    },
    {
     "data": {
      "text/plain": [
       "Q9_9\n",
       "4.0    3\n",
       "Name: count, dtype: int64"
      ]
     },
     "metadata": {},
     "output_type": "display_data"
    },
    {
     "name": "stdout",
     "output_type": "stream",
     "text": [
      "['ALWAYS']\n"
     ]
    },
    {
     "data": {
      "text/plain": [
       "ALWAYS    3\n",
       "Name: count, dtype: int64"
      ]
     },
     "metadata": {},
     "output_type": "display_data"
    },
    {
     "data": {
      "text/html": [
       "<div>\n",
       "<style scoped>\n",
       "    .dataframe tbody tr th:only-of-type {\n",
       "        vertical-align: middle;\n",
       "    }\n",
       "\n",
       "    .dataframe tbody tr th {\n",
       "        vertical-align: top;\n",
       "    }\n",
       "\n",
       "    .dataframe thead th {\n",
       "        text-align: right;\n",
       "    }\n",
       "</style>\n",
       "<table border=\"1\" class=\"dataframe\">\n",
       "  <thead>\n",
       "    <tr style=\"text-align: right;\">\n",
       "      <th></th>\n",
       "      <th>Staff</th>\n",
       "      <th>Comments</th>\n",
       "    </tr>\n",
       "  </thead>\n",
       "  <tbody>\n",
       "    <tr>\n",
       "      <th>11</th>\n",
       "      <td>Chen Chen</td>\n",
       "      <td>Needs help with diagnosing, treatment planning...</td>\n",
       "    </tr>\n",
       "    <tr>\n",
       "      <th>20</th>\n",
       "      <td>Jaafar Abduo</td>\n",
       "      <td>Alex had a promising start. Still at the preli...</td>\n",
       "    </tr>\n",
       "    <tr>\n",
       "      <th>21</th>\n",
       "      <td>Jaafar Abduo</td>\n",
       "      <td>Karen had a promising start. Still very early ...</td>\n",
       "    </tr>\n",
       "  </tbody>\n",
       "</table>\n",
       "</div>"
      ],
      "text/plain": [
       "           Staff                                           Comments\n",
       "11     Chen Chen  Needs help with diagnosing, treatment planning...\n",
       "20  Jaafar Abduo  Alex had a promising start. Still at the preli...\n",
       "21  Jaafar Abduo  Karen had a promising start. Still very early ..."
      ]
     },
     "metadata": {},
     "output_type": "display_data"
    },
    {
     "name": "stdout",
     "output_type": "stream",
     "text": [
      "Creating table for Reflect on the student's performance across the month - what are some strengths and areas you have identified for improvement.\n"
     ]
    },
    {
     "data": {
      "text/html": [
       "<div>\n",
       "<style scoped>\n",
       "    .dataframe tbody tr th:only-of-type {\n",
       "        vertical-align: middle;\n",
       "    }\n",
       "\n",
       "    .dataframe tbody tr th {\n",
       "        vertical-align: top;\n",
       "    }\n",
       "\n",
       "    .dataframe thead th {\n",
       "        text-align: right;\n",
       "    }\n",
       "</style>\n",
       "<table border=\"1\" class=\"dataframe\">\n",
       "  <thead>\n",
       "    <tr style=\"text-align: right;\">\n",
       "      <th></th>\n",
       "      <th>Staff</th>\n",
       "      <th>Comments</th>\n",
       "    </tr>\n",
       "  </thead>\n",
       "  <tbody>\n",
       "    <tr>\n",
       "      <th>11</th>\n",
       "      <td>Chen Chen</td>\n",
       "      <td>No</td>\n",
       "    </tr>\n",
       "    <tr>\n",
       "      <th>20</th>\n",
       "      <td>Jaafar Abduo</td>\n",
       "      <td>No</td>\n",
       "    </tr>\n",
       "    <tr>\n",
       "      <th>21</th>\n",
       "      <td>Jaafar Abduo</td>\n",
       "      <td>No</td>\n",
       "    </tr>\n",
       "  </tbody>\n",
       "</table>\n",
       "</div>"
      ],
      "text/plain": [
       "           Staff Comments\n",
       "11     Chen Chen       No\n",
       "20  Jaafar Abduo       No\n",
       "21  Jaafar Abduo       No"
      ]
     },
     "metadata": {},
     "output_type": "display_data"
    },
    {
     "name": "stdout",
     "output_type": "stream",
     "text": [
      "Creating table for Has a clinical incident occurred during this month while you were supervising this student?\n"
     ]
    },
    {
     "data": {
      "text/html": [
       "<div>\n",
       "<style scoped>\n",
       "    .dataframe tbody tr th:only-of-type {\n",
       "        vertical-align: middle;\n",
       "    }\n",
       "\n",
       "    .dataframe tbody tr th {\n",
       "        vertical-align: top;\n",
       "    }\n",
       "\n",
       "    .dataframe thead th {\n",
       "        text-align: right;\n",
       "    }\n",
       "</style>\n",
       "<table border=\"1\" class=\"dataframe\">\n",
       "  <thead>\n",
       "    <tr style=\"text-align: right;\">\n",
       "      <th></th>\n",
       "      <th>StartDate</th>\n",
       "      <th>EndDate</th>\n",
       "      <th>Status</th>\n",
       "      <th>IPAddress</th>\n",
       "      <th>Progress</th>\n",
       "      <th>Duration (in seconds)</th>\n",
       "      <th>Finished</th>\n",
       "      <th>RecordedDate</th>\n",
       "      <th>ResponseId</th>\n",
       "      <th>RecipientLastName</th>\n",
       "      <th>RecipientFirstName</th>\n",
       "      <th>RecipientEmail</th>\n",
       "      <th>ExternalReference</th>\n",
       "      <th>LocationLatitude</th>\n",
       "      <th>LocationLongitude</th>\n",
       "      <th>DistributionChannel</th>\n",
       "      <th>UserLanguage</th>\n",
       "      <th>Date</th>\n",
       "      <th>Student Name</th>\n",
       "      <th>Site</th>\n",
       "      <th>Staff</th>\n",
       "      <th>Q7_1</th>\n",
       "      <th>Q7_2</th>\n",
       "      <th>Q8_1</th>\n",
       "      <th>Q8_2</th>\n",
       "      <th>Q8_3</th>\n",
       "      <th>Q8_4</th>\n",
       "      <th>Q8_5</th>\n",
       "      <th>Q8_6</th>\n",
       "      <th>Q8_7</th>\n",
       "      <th>Q8_8</th>\n",
       "      <th>Q8_9</th>\n",
       "      <th>Q8_10</th>\n",
       "      <th>Q9_1</th>\n",
       "      <th>Q9_2</th>\n",
       "      <th>Q9_3</th>\n",
       "      <th>Q9_4</th>\n",
       "      <th>Q9_5</th>\n",
       "      <th>Q9_6</th>\n",
       "      <th>Q9_7</th>\n",
       "      <th>Q9_8</th>\n",
       "      <th>Q9_9</th>\n",
       "      <th>Q10</th>\n",
       "      <th>Critical incident</th>\n",
       "      <th>CI Details</th>\n",
       "      <th>Time management</th>\n",
       "      <th>Entrustment scale</th>\n",
       "      <th>#3</th>\n",
       "      <th>#2</th>\n",
       "      <th>#1</th>\n",
       "      <th>#nan</th>\n",
       "    </tr>\n",
       "  </thead>\n",
       "  <tbody>\n",
       "    <tr>\n",
       "      <th>5</th>\n",
       "      <td>2025-03-31 11:34:54</td>\n",
       "      <td>2025-03-31 11:41:08</td>\n",
       "      <td>IP Address</td>\n",
       "      <td>1.145.208.162</td>\n",
       "      <td>38</td>\n",
       "      <td>374</td>\n",
       "      <td>False</td>\n",
       "      <td>2025-04-07 10:41:10.913000</td>\n",
       "      <td>R_91XzKswB6klU58b</td>\n",
       "      <td>NaN</td>\n",
       "      <td>NaN</td>\n",
       "      <td>NaN</td>\n",
       "      <td>NaN</td>\n",
       "      <td>-37.8159</td>\n",
       "      <td>144.9669</td>\n",
       "      <td>anonymous</td>\n",
       "      <td>EN</td>\n",
       "      <td>2025-03-31</td>\n",
       "      <td>Mark Teo</td>\n",
       "      <td>Royal Dental Hospital Melbourne RDHM</td>\n",
       "      <td>John Pearson</td>\n",
       "      <td>NaN</td>\n",
       "      <td>NaN</td>\n",
       "      <td>NaN</td>\n",
       "      <td>NaN</td>\n",
       "      <td>NaN</td>\n",
       "      <td>NaN</td>\n",
       "      <td>NaN</td>\n",
       "      <td>NaN</td>\n",
       "      <td>NaN</td>\n",
       "      <td>NaN</td>\n",
       "      <td>NaN</td>\n",
       "      <td>NaN</td>\n",
       "      <td>NaN</td>\n",
       "      <td>NaN</td>\n",
       "      <td>NaN</td>\n",
       "      <td>NaN</td>\n",
       "      <td>NaN</td>\n",
       "      <td>NaN</td>\n",
       "      <td>NaN</td>\n",
       "      <td>NaN</td>\n",
       "      <td>NaN</td>\n",
       "      <td>NaN</td>\n",
       "      <td>NaN</td>\n",
       "      <td>NaN</td>\n",
       "      <td>NaN</td>\n",
       "      <td>NaN</td>\n",
       "      <td>0</td>\n",
       "      <td>0</td>\n",
       "      <td>0</td>\n",
       "      <td>12</td>\n",
       "    </tr>\n",
       "    <tr>\n",
       "      <th>9</th>\n",
       "      <td>2025-05-08 21:41:39</td>\n",
       "      <td>2025-05-08 21:56:23</td>\n",
       "      <td>IP Address</td>\n",
       "      <td>122.150.165.11</td>\n",
       "      <td>100</td>\n",
       "      <td>883</td>\n",
       "      <td>True</td>\n",
       "      <td>2025-05-08 21:56:24.511000</td>\n",
       "      <td>R_9LRI4Ox7U3vUzdW</td>\n",
       "      <td>NaN</td>\n",
       "      <td>NaN</td>\n",
       "      <td>NaN</td>\n",
       "      <td>NaN</td>\n",
       "      <td>-37.8186</td>\n",
       "      <td>145.1277</td>\n",
       "      <td>anonymous</td>\n",
       "      <td>EN</td>\n",
       "      <td>2025-05-08</td>\n",
       "      <td>Mark Teo</td>\n",
       "      <td>Royal Dental Hospital Melbourne RDHM</td>\n",
       "      <td>Chen Chen</td>\n",
       "      <td>3.0</td>\n",
       "      <td>3.0</td>\n",
       "      <td>3.0</td>\n",
       "      <td>3.0</td>\n",
       "      <td>3.0</td>\n",
       "      <td>2.0</td>\n",
       "      <td>3.0</td>\n",
       "      <td>3.0</td>\n",
       "      <td>3.0</td>\n",
       "      <td>3.0</td>\n",
       "      <td>3.0</td>\n",
       "      <td>3.0</td>\n",
       "      <td>4.0</td>\n",
       "      <td>4.0</td>\n",
       "      <td>3.0</td>\n",
       "      <td>4.0</td>\n",
       "      <td>4.0</td>\n",
       "      <td>4.0</td>\n",
       "      <td>4.0</td>\n",
       "      <td>4.0</td>\n",
       "      <td>4.0</td>\n",
       "      <td>Confident clinically and generally does well w...</td>\n",
       "      <td>No</td>\n",
       "      <td>NaN</td>\n",
       "      <td>Lvl 4: Manages time to complete simulation or ...</td>\n",
       "      <td>Lvl 4: Student can be trusted to perform this ...</td>\n",
       "      <td>11</td>\n",
       "      <td>1</td>\n",
       "      <td>0</td>\n",
       "      <td>0</td>\n",
       "    </tr>\n",
       "    <tr>\n",
       "      <th>17</th>\n",
       "      <td>2025-05-09 13:50:06</td>\n",
       "      <td>2025-05-09 13:53:58</td>\n",
       "      <td>IP Address</td>\n",
       "      <td>128.250.0.112</td>\n",
       "      <td>100</td>\n",
       "      <td>231</td>\n",
       "      <td>True</td>\n",
       "      <td>2025-05-09 13:53:59.631000</td>\n",
       "      <td>R_9zam0zPsboyUaCl</td>\n",
       "      <td>NaN</td>\n",
       "      <td>NaN</td>\n",
       "      <td>NaN</td>\n",
       "      <td>NaN</td>\n",
       "      <td>-37.8024</td>\n",
       "      <td>144.9659</td>\n",
       "      <td>anonymous</td>\n",
       "      <td>EN</td>\n",
       "      <td>2025-05-09</td>\n",
       "      <td>Mark Teo</td>\n",
       "      <td>Melbourne Dental Clinic,Royal Dental Hospital ...</td>\n",
       "      <td>Jaafar Abduo</td>\n",
       "      <td>3.0</td>\n",
       "      <td>3.0</td>\n",
       "      <td>3.0</td>\n",
       "      <td>2.0</td>\n",
       "      <td>3.0</td>\n",
       "      <td>3.0</td>\n",
       "      <td>3.0</td>\n",
       "      <td>2.0</td>\n",
       "      <td>2.0</td>\n",
       "      <td>3.0</td>\n",
       "      <td>3.0</td>\n",
       "      <td>2.0</td>\n",
       "      <td>4.0</td>\n",
       "      <td>4.0</td>\n",
       "      <td>4.0</td>\n",
       "      <td>4.0</td>\n",
       "      <td>4.0</td>\n",
       "      <td>4.0</td>\n",
       "      <td>4.0</td>\n",
       "      <td>4.0</td>\n",
       "      <td>4.0</td>\n",
       "      <td>Esha is progressing well. Had some challenging...</td>\n",
       "      <td>No</td>\n",
       "      <td>NaN</td>\n",
       "      <td>Lvl 4: Manages time to complete simulation or ...</td>\n",
       "      <td>Lvl 4: Student can be trusted to perform this ...</td>\n",
       "      <td>8</td>\n",
       "      <td>4</td>\n",
       "      <td>0</td>\n",
       "      <td>0</td>\n",
       "    </tr>\n",
       "    <tr>\n",
       "      <th>19</th>\n",
       "      <td>2025-05-09 13:59:51</td>\n",
       "      <td>2025-05-09 14:02:00</td>\n",
       "      <td>IP Address</td>\n",
       "      <td>128.250.0.112</td>\n",
       "      <td>100</td>\n",
       "      <td>129</td>\n",
       "      <td>True</td>\n",
       "      <td>2025-05-09 14:02:02.036000</td>\n",
       "      <td>R_4q9zEt7Jf05fg7p</td>\n",
       "      <td>NaN</td>\n",
       "      <td>NaN</td>\n",
       "      <td>NaN</td>\n",
       "      <td>NaN</td>\n",
       "      <td>-37.8024</td>\n",
       "      <td>144.9659</td>\n",
       "      <td>anonymous</td>\n",
       "      <td>EN</td>\n",
       "      <td>2025-05-09</td>\n",
       "      <td>Mark Teo</td>\n",
       "      <td>Melbourne Dental Clinic,Royal Dental Hospital ...</td>\n",
       "      <td>Jaafar Abduo</td>\n",
       "      <td>3.0</td>\n",
       "      <td>3.0</td>\n",
       "      <td>3.0</td>\n",
       "      <td>3.0</td>\n",
       "      <td>3.0</td>\n",
       "      <td>3.0</td>\n",
       "      <td>3.0</td>\n",
       "      <td>3.0</td>\n",
       "      <td>3.0</td>\n",
       "      <td>3.0</td>\n",
       "      <td>2.0</td>\n",
       "      <td>3.0</td>\n",
       "      <td>4.0</td>\n",
       "      <td>4.0</td>\n",
       "      <td>4.0</td>\n",
       "      <td>4.0</td>\n",
       "      <td>4.0</td>\n",
       "      <td>4.0</td>\n",
       "      <td>4.0</td>\n",
       "      <td>4.0</td>\n",
       "      <td>4.0</td>\n",
       "      <td>Mark is progressing well within his final year.</td>\n",
       "      <td>No</td>\n",
       "      <td>NaN</td>\n",
       "      <td>Lvl 4: Manages time to complete simulation or ...</td>\n",
       "      <td>Lvl 4: Student can be trusted to perform this ...</td>\n",
       "      <td>11</td>\n",
       "      <td>1</td>\n",
       "      <td>0</td>\n",
       "      <td>0</td>\n",
       "    </tr>\n",
       "    <tr>\n",
       "      <th>24</th>\n",
       "      <td>2025-05-12 14:43:39</td>\n",
       "      <td>2025-05-12 14:51:28</td>\n",
       "      <td>IP Address</td>\n",
       "      <td>1.145.158.121</td>\n",
       "      <td>100</td>\n",
       "      <td>468</td>\n",
       "      <td>True</td>\n",
       "      <td>2025-05-12 14:51:29.513000</td>\n",
       "      <td>R_4yFfehisGVslOX7</td>\n",
       "      <td>NaN</td>\n",
       "      <td>NaN</td>\n",
       "      <td>NaN</td>\n",
       "      <td>NaN</td>\n",
       "      <td>-37.8335</td>\n",
       "      <td>145.0012</td>\n",
       "      <td>anonymous</td>\n",
       "      <td>EN</td>\n",
       "      <td>2025-05-12</td>\n",
       "      <td>Mark Teo</td>\n",
       "      <td>Royal Dental Hospital Melbourne RDHM</td>\n",
       "      <td>John Pearson</td>\n",
       "      <td>3.0</td>\n",
       "      <td>3.0</td>\n",
       "      <td>2.0</td>\n",
       "      <td>2.0</td>\n",
       "      <td>2.0</td>\n",
       "      <td>3.0</td>\n",
       "      <td>3.0</td>\n",
       "      <td>2.0</td>\n",
       "      <td>3.0</td>\n",
       "      <td>2.0</td>\n",
       "      <td>3.0</td>\n",
       "      <td>2.0</td>\n",
       "      <td>4.0</td>\n",
       "      <td>2.0</td>\n",
       "      <td>3.0</td>\n",
       "      <td>4.0</td>\n",
       "      <td>4.0</td>\n",
       "      <td>4.0</td>\n",
       "      <td>3.0</td>\n",
       "      <td>3.0</td>\n",
       "      <td>3.0</td>\n",
       "      <td>Communication with patients is for treatment p...</td>\n",
       "      <td>No</td>\n",
       "      <td>NaN</td>\n",
       "      <td>Lvl 2: Reaches a step (or point) in the proced...</td>\n",
       "      <td>Lvl 4: Student can be trusted to perform this ...</td>\n",
       "      <td>6</td>\n",
       "      <td>6</td>\n",
       "      <td>0</td>\n",
       "      <td>0</td>\n",
       "    </tr>\n",
       "  </tbody>\n",
       "</table>\n",
       "</div>"
      ],
      "text/plain": [
       "              StartDate              EndDate      Status       IPAddress  \\\n",
       "5   2025-03-31 11:34:54  2025-03-31 11:41:08  IP Address   1.145.208.162   \n",
       "9   2025-05-08 21:41:39  2025-05-08 21:56:23  IP Address  122.150.165.11   \n",
       "17  2025-05-09 13:50:06  2025-05-09 13:53:58  IP Address   128.250.0.112   \n",
       "19  2025-05-09 13:59:51  2025-05-09 14:02:00  IP Address   128.250.0.112   \n",
       "24  2025-05-12 14:43:39  2025-05-12 14:51:28  IP Address   1.145.158.121   \n",
       "\n",
       "   Progress Duration (in seconds) Finished                RecordedDate  \\\n",
       "5        38                   374    False  2025-04-07 10:41:10.913000   \n",
       "9       100                   883     True  2025-05-08 21:56:24.511000   \n",
       "17      100                   231     True  2025-05-09 13:53:59.631000   \n",
       "19      100                   129     True  2025-05-09 14:02:02.036000   \n",
       "24      100                   468     True  2025-05-12 14:51:29.513000   \n",
       "\n",
       "           ResponseId RecipientLastName RecipientFirstName RecipientEmail  \\\n",
       "5   R_91XzKswB6klU58b               NaN                NaN            NaN   \n",
       "9   R_9LRI4Ox7U3vUzdW               NaN                NaN            NaN   \n",
       "17  R_9zam0zPsboyUaCl               NaN                NaN            NaN   \n",
       "19  R_4q9zEt7Jf05fg7p               NaN                NaN            NaN   \n",
       "24  R_4yFfehisGVslOX7               NaN                NaN            NaN   \n",
       "\n",
       "   ExternalReference LocationLatitude LocationLongitude DistributionChannel  \\\n",
       "5                NaN         -37.8159          144.9669           anonymous   \n",
       "9                NaN         -37.8186          145.1277           anonymous   \n",
       "17               NaN         -37.8024          144.9659           anonymous   \n",
       "19               NaN         -37.8024          144.9659           anonymous   \n",
       "24               NaN         -37.8335          145.0012           anonymous   \n",
       "\n",
       "   UserLanguage        Date Student Name  \\\n",
       "5            EN  2025-03-31     Mark Teo   \n",
       "9            EN  2025-05-08     Mark Teo   \n",
       "17           EN  2025-05-09     Mark Teo   \n",
       "19           EN  2025-05-09     Mark Teo   \n",
       "24           EN  2025-05-12     Mark Teo   \n",
       "\n",
       "                                                 Site         Staff  Q7_1  \\\n",
       "5                Royal Dental Hospital Melbourne RDHM  John Pearson   NaN   \n",
       "9                Royal Dental Hospital Melbourne RDHM     Chen Chen   3.0   \n",
       "17  Melbourne Dental Clinic,Royal Dental Hospital ...  Jaafar Abduo   3.0   \n",
       "19  Melbourne Dental Clinic,Royal Dental Hospital ...  Jaafar Abduo   3.0   \n",
       "24               Royal Dental Hospital Melbourne RDHM  John Pearson   3.0   \n",
       "\n",
       "    Q7_2  Q8_1  Q8_2  Q8_3  Q8_4  Q8_5  Q8_6  Q8_7  Q8_8  Q8_9  Q8_10  Q9_1  \\\n",
       "5    NaN   NaN   NaN   NaN   NaN   NaN   NaN   NaN   NaN   NaN    NaN   NaN   \n",
       "9    3.0   3.0   3.0   3.0   2.0   3.0   3.0   3.0   3.0   3.0    3.0   4.0   \n",
       "17   3.0   3.0   2.0   3.0   3.0   3.0   2.0   2.0   3.0   3.0    2.0   4.0   \n",
       "19   3.0   3.0   3.0   3.0   3.0   3.0   3.0   3.0   3.0   2.0    3.0   4.0   \n",
       "24   3.0   2.0   2.0   2.0   3.0   3.0   2.0   3.0   2.0   3.0    2.0   4.0   \n",
       "\n",
       "    Q9_2  Q9_3  Q9_4  Q9_5  Q9_6  Q9_7  Q9_8  Q9_9  \\\n",
       "5    NaN   NaN   NaN   NaN   NaN   NaN   NaN   NaN   \n",
       "9    4.0   3.0   4.0   4.0   4.0   4.0   4.0   4.0   \n",
       "17   4.0   4.0   4.0   4.0   4.0   4.0   4.0   4.0   \n",
       "19   4.0   4.0   4.0   4.0   4.0   4.0   4.0   4.0   \n",
       "24   2.0   3.0   4.0   4.0   4.0   3.0   3.0   3.0   \n",
       "\n",
       "                                                  Q10 Critical incident  \\\n",
       "5                                                 NaN               NaN   \n",
       "9   Confident clinically and generally does well w...                No   \n",
       "17  Esha is progressing well. Had some challenging...                No   \n",
       "19    Mark is progressing well within his final year.                No   \n",
       "24  Communication with patients is for treatment p...                No   \n",
       "\n",
       "   CI Details                                    Time management  \\\n",
       "5         NaN                                                NaN   \n",
       "9         NaN  Lvl 4: Manages time to complete simulation or ...   \n",
       "17        NaN  Lvl 4: Manages time to complete simulation or ...   \n",
       "19        NaN  Lvl 4: Manages time to complete simulation or ...   \n",
       "24        NaN  Lvl 2: Reaches a step (or point) in the proced...   \n",
       "\n",
       "                                    Entrustment scale  #3  #2  #1  #nan  \n",
       "5                                                 NaN   0   0   0    12  \n",
       "9   Lvl 4: Student can be trusted to perform this ...  11   1   0     0  \n",
       "17  Lvl 4: Student can be trusted to perform this ...   8   4   0     0  \n",
       "19  Lvl 4: Student can be trusted to perform this ...  11   1   0     0  \n",
       "24  Lvl 4: Student can be trusted to perform this ...   6   6   0     0  "
      ]
     },
     "metadata": {},
     "output_type": "display_data"
    },
    {
     "data": {
      "text/plain": [
       "Q7_1\n",
       "3.0    4\n",
       "NaN    1\n",
       "Name: count, dtype: int64"
      ]
     },
     "metadata": {},
     "output_type": "display_data"
    },
    {
     "name": "stdout",
     "output_type": "stream",
     "text": [
      "['Completed independently (competent)', 'No basis for evaluation']\n"
     ]
    },
    {
     "data": {
      "text/plain": [
       "Completed independently (competent)    4\n",
       "No basis for evaluation                1\n",
       "Name: count, dtype: int64"
      ]
     },
     "metadata": {},
     "output_type": "display_data"
    },
    {
     "data": {
      "text/plain": [
       "Q7_2\n",
       "3.0    4\n",
       "NaN    1\n",
       "Name: count, dtype: int64"
      ]
     },
     "metadata": {},
     "output_type": "display_data"
    },
    {
     "name": "stdout",
     "output_type": "stream",
     "text": [
      "['Completed independently (competent)', 'No basis for evaluation']\n"
     ]
    },
    {
     "data": {
      "text/plain": [
       "Completed independently (competent)    4\n",
       "No basis for evaluation                1\n",
       "Name: count, dtype: int64"
      ]
     },
     "metadata": {},
     "output_type": "display_data"
    },
    {
     "data": {
      "text/plain": [
       "Q8_1\n",
       "3.0    3\n",
       "NaN    1\n",
       "2.0    1\n",
       "Name: count, dtype: int64"
      ]
     },
     "metadata": {},
     "output_type": "display_data"
    },
    {
     "name": "stdout",
     "output_type": "stream",
     "text": [
      "['Completed independently (competent)', 'No basis for evaluation', 'Completed with minimal assistance']\n"
     ]
    },
    {
     "data": {
      "text/plain": [
       "Completed independently (competent)    3\n",
       "No basis for evaluation                1\n",
       "Completed with minimal assistance      1\n",
       "Name: count, dtype: int64"
      ]
     },
     "metadata": {},
     "output_type": "display_data"
    },
    {
     "data": {
      "text/plain": [
       "Q8_2\n",
       "3.0    2\n",
       "2.0    2\n",
       "NaN    1\n",
       "Name: count, dtype: int64"
      ]
     },
     "metadata": {},
     "output_type": "display_data"
    },
    {
     "name": "stdout",
     "output_type": "stream",
     "text": [
      "['Completed independently (competent)', 'Completed with minimal assistance', 'No basis for evaluation']\n"
     ]
    },
    {
     "data": {
      "text/plain": [
       "Completed independently (competent)    2\n",
       "Completed with minimal assistance      2\n",
       "No basis for evaluation                1\n",
       "Name: count, dtype: int64"
      ]
     },
     "metadata": {},
     "output_type": "display_data"
    },
    {
     "data": {
      "text/plain": [
       "Q8_3\n",
       "3.0    3\n",
       "NaN    1\n",
       "2.0    1\n",
       "Name: count, dtype: int64"
      ]
     },
     "metadata": {},
     "output_type": "display_data"
    },
    {
     "name": "stdout",
     "output_type": "stream",
     "text": [
      "['Completed independently (competent)', 'No basis for evaluation', 'Completed with minimal assistance']\n"
     ]
    },
    {
     "data": {
      "text/plain": [
       "Completed independently (competent)    3\n",
       "No basis for evaluation                1\n",
       "Completed with minimal assistance      1\n",
       "Name: count, dtype: int64"
      ]
     },
     "metadata": {},
     "output_type": "display_data"
    },
    {
     "data": {
      "text/plain": [
       "Q8_4\n",
       "3.0    3\n",
       "NaN    1\n",
       "2.0    1\n",
       "Name: count, dtype: int64"
      ]
     },
     "metadata": {},
     "output_type": "display_data"
    },
    {
     "name": "stdout",
     "output_type": "stream",
     "text": [
      "['Completed independently (competent)', 'No basis for evaluation', 'Completed with minimal assistance']\n"
     ]
    },
    {
     "data": {
      "text/plain": [
       "Completed independently (competent)    3\n",
       "No basis for evaluation                1\n",
       "Completed with minimal assistance      1\n",
       "Name: count, dtype: int64"
      ]
     },
     "metadata": {},
     "output_type": "display_data"
    },
    {
     "data": {
      "text/plain": [
       "Q8_5\n",
       "3.0    4\n",
       "NaN    1\n",
       "Name: count, dtype: int64"
      ]
     },
     "metadata": {},
     "output_type": "display_data"
    },
    {
     "name": "stdout",
     "output_type": "stream",
     "text": [
      "['Completed independently (competent)', 'No basis for evaluation']\n"
     ]
    },
    {
     "data": {
      "text/plain": [
       "Completed independently (competent)    4\n",
       "No basis for evaluation                1\n",
       "Name: count, dtype: int64"
      ]
     },
     "metadata": {},
     "output_type": "display_data"
    },
    {
     "data": {
      "text/plain": [
       "Q8_6\n",
       "3.0    2\n",
       "2.0    2\n",
       "NaN    1\n",
       "Name: count, dtype: int64"
      ]
     },
     "metadata": {},
     "output_type": "display_data"
    },
    {
     "name": "stdout",
     "output_type": "stream",
     "text": [
      "['Completed independently (competent)', 'Completed with minimal assistance', 'No basis for evaluation']\n"
     ]
    },
    {
     "data": {
      "text/plain": [
       "Completed independently (competent)    2\n",
       "Completed with minimal assistance      2\n",
       "No basis for evaluation                1\n",
       "Name: count, dtype: int64"
      ]
     },
     "metadata": {},
     "output_type": "display_data"
    },
    {
     "data": {
      "text/plain": [
       "Q8_7\n",
       "3.0    3\n",
       "NaN    1\n",
       "2.0    1\n",
       "Name: count, dtype: int64"
      ]
     },
     "metadata": {},
     "output_type": "display_data"
    },
    {
     "name": "stdout",
     "output_type": "stream",
     "text": [
      "['Completed independently (competent)', 'No basis for evaluation', 'Completed with minimal assistance']\n"
     ]
    },
    {
     "data": {
      "text/plain": [
       "Completed independently (competent)    3\n",
       "No basis for evaluation                1\n",
       "Completed with minimal assistance      1\n",
       "Name: count, dtype: int64"
      ]
     },
     "metadata": {},
     "output_type": "display_data"
    },
    {
     "data": {
      "text/plain": [
       "Q8_8\n",
       "3.0    3\n",
       "NaN    1\n",
       "2.0    1\n",
       "Name: count, dtype: int64"
      ]
     },
     "metadata": {},
     "output_type": "display_data"
    },
    {
     "name": "stdout",
     "output_type": "stream",
     "text": [
      "['Completed independently (competent)', 'No basis for evaluation', 'Completed with minimal assistance']\n"
     ]
    },
    {
     "data": {
      "text/plain": [
       "Completed independently (competent)    3\n",
       "No basis for evaluation                1\n",
       "Completed with minimal assistance      1\n",
       "Name: count, dtype: int64"
      ]
     },
     "metadata": {},
     "output_type": "display_data"
    },
    {
     "data": {
      "text/plain": [
       "Q8_9\n",
       "3.0    3\n",
       "NaN    1\n",
       "2.0    1\n",
       "Name: count, dtype: int64"
      ]
     },
     "metadata": {},
     "output_type": "display_data"
    },
    {
     "name": "stdout",
     "output_type": "stream",
     "text": [
      "['Completed independently (competent)', 'No basis for evaluation', 'Completed with minimal assistance']\n"
     ]
    },
    {
     "data": {
      "text/plain": [
       "Completed independently (competent)    3\n",
       "No basis for evaluation                1\n",
       "Completed with minimal assistance      1\n",
       "Name: count, dtype: int64"
      ]
     },
     "metadata": {},
     "output_type": "display_data"
    },
    {
     "data": {
      "text/plain": [
       "Q8_10\n",
       "3.0    2\n",
       "2.0    2\n",
       "NaN    1\n",
       "Name: count, dtype: int64"
      ]
     },
     "metadata": {},
     "output_type": "display_data"
    },
    {
     "name": "stdout",
     "output_type": "stream",
     "text": [
      "['Completed independently (competent)', 'Completed with minimal assistance', 'No basis for evaluation']\n"
     ]
    },
    {
     "data": {
      "text/plain": [
       "Completed independently (competent)    2\n",
       "Completed with minimal assistance      2\n",
       "No basis for evaluation                1\n",
       "Name: count, dtype: int64"
      ]
     },
     "metadata": {},
     "output_type": "display_data"
    },
    {
     "data": {
      "text/plain": [
       "Q9_1\n",
       "4.0    4\n",
       "NaN    1\n",
       "Name: count, dtype: int64"
      ]
     },
     "metadata": {},
     "output_type": "display_data"
    },
    {
     "name": "stdout",
     "output_type": "stream",
     "text": [
      "['ALWAYS', 'Not graded']\n"
     ]
    },
    {
     "data": {
      "text/plain": [
       "ALWAYS        4\n",
       "Not graded    1\n",
       "Name: count, dtype: int64"
      ]
     },
     "metadata": {},
     "output_type": "display_data"
    },
    {
     "data": {
      "text/plain": [
       "Q9_2\n",
       "4.0    3\n",
       "NaN    1\n",
       "2.0    1\n",
       "Name: count, dtype: int64"
      ]
     },
     "metadata": {},
     "output_type": "display_data"
    },
    {
     "name": "stdout",
     "output_type": "stream",
     "text": [
      "['ALWAYS', 'Not graded', 'SOMETIMES']\n"
     ]
    },
    {
     "data": {
      "text/plain": [
       "ALWAYS        3\n",
       "Not graded    1\n",
       "SOMETIMES     1\n",
       "Name: count, dtype: int64"
      ]
     },
     "metadata": {},
     "output_type": "display_data"
    },
    {
     "data": {
      "text/plain": [
       "Q9_3\n",
       "3.0    2\n",
       "4.0    2\n",
       "NaN    1\n",
       "Name: count, dtype: int64"
      ]
     },
     "metadata": {},
     "output_type": "display_data"
    },
    {
     "name": "stdout",
     "output_type": "stream",
     "text": [
      "['OFTEN', 'ALWAYS', 'Not graded']\n"
     ]
    },
    {
     "data": {
      "text/plain": [
       "OFTEN         2\n",
       "ALWAYS        2\n",
       "Not graded    1\n",
       "Name: count, dtype: int64"
      ]
     },
     "metadata": {},
     "output_type": "display_data"
    },
    {
     "data": {
      "text/plain": [
       "Q9_4\n",
       "4.0    4\n",
       "NaN    1\n",
       "Name: count, dtype: int64"
      ]
     },
     "metadata": {},
     "output_type": "display_data"
    },
    {
     "name": "stdout",
     "output_type": "stream",
     "text": [
      "['ALWAYS', 'Not graded']\n"
     ]
    },
    {
     "data": {
      "text/plain": [
       "ALWAYS        4\n",
       "Not graded    1\n",
       "Name: count, dtype: int64"
      ]
     },
     "metadata": {},
     "output_type": "display_data"
    },
    {
     "data": {
      "text/plain": [
       "Q9_5\n",
       "4.0    4\n",
       "NaN    1\n",
       "Name: count, dtype: int64"
      ]
     },
     "metadata": {},
     "output_type": "display_data"
    },
    {
     "name": "stdout",
     "output_type": "stream",
     "text": [
      "['ALWAYS', 'Not graded']\n"
     ]
    },
    {
     "data": {
      "text/plain": [
       "ALWAYS        4\n",
       "Not graded    1\n",
       "Name: count, dtype: int64"
      ]
     },
     "metadata": {},
     "output_type": "display_data"
    },
    {
     "data": {
      "text/plain": [
       "Q9_6\n",
       "4.0    4\n",
       "NaN    1\n",
       "Name: count, dtype: int64"
      ]
     },
     "metadata": {},
     "output_type": "display_data"
    },
    {
     "name": "stdout",
     "output_type": "stream",
     "text": [
      "['ALWAYS', 'Not graded']\n"
     ]
    },
    {
     "data": {
      "text/plain": [
       "ALWAYS        4\n",
       "Not graded    1\n",
       "Name: count, dtype: int64"
      ]
     },
     "metadata": {},
     "output_type": "display_data"
    },
    {
     "data": {
      "text/plain": [
       "Q9_7\n",
       "4.0    3\n",
       "NaN    1\n",
       "3.0    1\n",
       "Name: count, dtype: int64"
      ]
     },
     "metadata": {},
     "output_type": "display_data"
    },
    {
     "name": "stdout",
     "output_type": "stream",
     "text": [
      "['ALWAYS', 'Not graded', 'OFTEN']\n"
     ]
    },
    {
     "data": {
      "text/plain": [
       "ALWAYS        3\n",
       "Not graded    1\n",
       "OFTEN         1\n",
       "Name: count, dtype: int64"
      ]
     },
     "metadata": {},
     "output_type": "display_data"
    },
    {
     "data": {
      "text/plain": [
       "Q9_8\n",
       "4.0    3\n",
       "NaN    1\n",
       "3.0    1\n",
       "Name: count, dtype: int64"
      ]
     },
     "metadata": {},
     "output_type": "display_data"
    },
    {
     "name": "stdout",
     "output_type": "stream",
     "text": [
      "['ALWAYS', 'Not graded', 'OFTEN']\n"
     ]
    },
    {
     "data": {
      "text/plain": [
       "ALWAYS        3\n",
       "Not graded    1\n",
       "OFTEN         1\n",
       "Name: count, dtype: int64"
      ]
     },
     "metadata": {},
     "output_type": "display_data"
    },
    {
     "data": {
      "text/plain": [
       "Q9_9\n",
       "4.0    3\n",
       "NaN    1\n",
       "3.0    1\n",
       "Name: count, dtype: int64"
      ]
     },
     "metadata": {},
     "output_type": "display_data"
    },
    {
     "name": "stdout",
     "output_type": "stream",
     "text": [
      "['ALWAYS', 'Not graded', 'OFTEN']\n"
     ]
    },
    {
     "data": {
      "text/plain": [
       "ALWAYS        3\n",
       "Not graded    1\n",
       "OFTEN         1\n",
       "Name: count, dtype: int64"
      ]
     },
     "metadata": {},
     "output_type": "display_data"
    },
    {
     "data": {
      "text/html": [
       "<div>\n",
       "<style scoped>\n",
       "    .dataframe tbody tr th:only-of-type {\n",
       "        vertical-align: middle;\n",
       "    }\n",
       "\n",
       "    .dataframe tbody tr th {\n",
       "        vertical-align: top;\n",
       "    }\n",
       "\n",
       "    .dataframe thead th {\n",
       "        text-align: right;\n",
       "    }\n",
       "</style>\n",
       "<table border=\"1\" class=\"dataframe\">\n",
       "  <thead>\n",
       "    <tr style=\"text-align: right;\">\n",
       "      <th></th>\n",
       "      <th>Staff</th>\n",
       "      <th>Comments</th>\n",
       "    </tr>\n",
       "  </thead>\n",
       "  <tbody>\n",
       "    <tr>\n",
       "      <th>9</th>\n",
       "      <td>Chen Chen</td>\n",
       "      <td>Confident clinically and generally does well w...</td>\n",
       "    </tr>\n",
       "    <tr>\n",
       "      <th>17</th>\n",
       "      <td>Jaafar Abduo</td>\n",
       "      <td>Esha is progressing well. Had some challenging...</td>\n",
       "    </tr>\n",
       "    <tr>\n",
       "      <th>19</th>\n",
       "      <td>Jaafar Abduo</td>\n",
       "      <td>Mark is progressing well within his final year.</td>\n",
       "    </tr>\n",
       "    <tr>\n",
       "      <th>24</th>\n",
       "      <td>John Pearson</td>\n",
       "      <td>Communication with patients is for treatment p...</td>\n",
       "    </tr>\n",
       "  </tbody>\n",
       "</table>\n",
       "</div>"
      ],
      "text/plain": [
       "           Staff                                           Comments\n",
       "9      Chen Chen  Confident clinically and generally does well w...\n",
       "17  Jaafar Abduo  Esha is progressing well. Had some challenging...\n",
       "19  Jaafar Abduo    Mark is progressing well within his final year.\n",
       "24  John Pearson  Communication with patients is for treatment p..."
      ]
     },
     "metadata": {},
     "output_type": "display_data"
    },
    {
     "name": "stdout",
     "output_type": "stream",
     "text": [
      "Creating table for Reflect on the student's performance across the month - what are some strengths and areas you have identified for improvement.\n"
     ]
    },
    {
     "data": {
      "text/html": [
       "<div>\n",
       "<style scoped>\n",
       "    .dataframe tbody tr th:only-of-type {\n",
       "        vertical-align: middle;\n",
       "    }\n",
       "\n",
       "    .dataframe tbody tr th {\n",
       "        vertical-align: top;\n",
       "    }\n",
       "\n",
       "    .dataframe thead th {\n",
       "        text-align: right;\n",
       "    }\n",
       "</style>\n",
       "<table border=\"1\" class=\"dataframe\">\n",
       "  <thead>\n",
       "    <tr style=\"text-align: right;\">\n",
       "      <th></th>\n",
       "      <th>Staff</th>\n",
       "      <th>Comments</th>\n",
       "    </tr>\n",
       "  </thead>\n",
       "  <tbody>\n",
       "    <tr>\n",
       "      <th>9</th>\n",
       "      <td>Chen Chen</td>\n",
       "      <td>No</td>\n",
       "    </tr>\n",
       "    <tr>\n",
       "      <th>17</th>\n",
       "      <td>Jaafar Abduo</td>\n",
       "      <td>No</td>\n",
       "    </tr>\n",
       "    <tr>\n",
       "      <th>19</th>\n",
       "      <td>Jaafar Abduo</td>\n",
       "      <td>No</td>\n",
       "    </tr>\n",
       "    <tr>\n",
       "      <th>24</th>\n",
       "      <td>John Pearson</td>\n",
       "      <td>No</td>\n",
       "    </tr>\n",
       "  </tbody>\n",
       "</table>\n",
       "</div>"
      ],
      "text/plain": [
       "           Staff Comments\n",
       "9      Chen Chen       No\n",
       "17  Jaafar Abduo       No\n",
       "19  Jaafar Abduo       No\n",
       "24  John Pearson       No"
      ]
     },
     "metadata": {},
     "output_type": "display_data"
    },
    {
     "name": "stdout",
     "output_type": "stream",
     "text": [
      "Creating table for Has a clinical incident occurred during this month while you were supervising this student?\n"
     ]
    },
    {
     "data": {
      "text/html": [
       "<div>\n",
       "<style scoped>\n",
       "    .dataframe tbody tr th:only-of-type {\n",
       "        vertical-align: middle;\n",
       "    }\n",
       "\n",
       "    .dataframe tbody tr th {\n",
       "        vertical-align: top;\n",
       "    }\n",
       "\n",
       "    .dataframe thead th {\n",
       "        text-align: right;\n",
       "    }\n",
       "</style>\n",
       "<table border=\"1\" class=\"dataframe\">\n",
       "  <thead>\n",
       "    <tr style=\"text-align: right;\">\n",
       "      <th></th>\n",
       "      <th>StartDate</th>\n",
       "      <th>EndDate</th>\n",
       "      <th>Status</th>\n",
       "      <th>IPAddress</th>\n",
       "      <th>Progress</th>\n",
       "      <th>Duration (in seconds)</th>\n",
       "      <th>Finished</th>\n",
       "      <th>RecordedDate</th>\n",
       "      <th>ResponseId</th>\n",
       "      <th>RecipientLastName</th>\n",
       "      <th>RecipientFirstName</th>\n",
       "      <th>RecipientEmail</th>\n",
       "      <th>ExternalReference</th>\n",
       "      <th>LocationLatitude</th>\n",
       "      <th>LocationLongitude</th>\n",
       "      <th>DistributionChannel</th>\n",
       "      <th>UserLanguage</th>\n",
       "      <th>Date</th>\n",
       "      <th>Student Name</th>\n",
       "      <th>Site</th>\n",
       "      <th>Staff</th>\n",
       "      <th>Q7_1</th>\n",
       "      <th>Q7_2</th>\n",
       "      <th>Q8_1</th>\n",
       "      <th>Q8_2</th>\n",
       "      <th>Q8_3</th>\n",
       "      <th>Q8_4</th>\n",
       "      <th>Q8_5</th>\n",
       "      <th>Q8_6</th>\n",
       "      <th>Q8_7</th>\n",
       "      <th>Q8_8</th>\n",
       "      <th>Q8_9</th>\n",
       "      <th>Q8_10</th>\n",
       "      <th>Q9_1</th>\n",
       "      <th>Q9_2</th>\n",
       "      <th>Q9_3</th>\n",
       "      <th>Q9_4</th>\n",
       "      <th>Q9_5</th>\n",
       "      <th>Q9_6</th>\n",
       "      <th>Q9_7</th>\n",
       "      <th>Q9_8</th>\n",
       "      <th>Q9_9</th>\n",
       "      <th>Q10</th>\n",
       "      <th>Critical incident</th>\n",
       "      <th>CI Details</th>\n",
       "      <th>Time management</th>\n",
       "      <th>Entrustment scale</th>\n",
       "      <th>#3</th>\n",
       "      <th>#2</th>\n",
       "      <th>#1</th>\n",
       "      <th>#nan</th>\n",
       "    </tr>\n",
       "  </thead>\n",
       "  <tbody>\n",
       "    <tr>\n",
       "      <th>3</th>\n",
       "      <td>2025-03-20 18:16:10</td>\n",
       "      <td>2025-03-20 18:16:29</td>\n",
       "      <td>IP Address</td>\n",
       "      <td>49.183.36.8</td>\n",
       "      <td>38</td>\n",
       "      <td>18</td>\n",
       "      <td>False</td>\n",
       "      <td>2025-03-27 18:16:34.451000</td>\n",
       "      <td>R_4LdLxwXmPqbqFLA</td>\n",
       "      <td>NaN</td>\n",
       "      <td>NaN</td>\n",
       "      <td>NaN</td>\n",
       "      <td>NaN</td>\n",
       "      <td>-37.8159</td>\n",
       "      <td>144.9669</td>\n",
       "      <td>anonymous</td>\n",
       "      <td>EN</td>\n",
       "      <td>2025-03-20</td>\n",
       "      <td>Omar Bahakam</td>\n",
       "      <td>Royal Dental Hospital Melbourne RDHM</td>\n",
       "      <td>Jaafar Abduo</td>\n",
       "      <td>NaN</td>\n",
       "      <td>NaN</td>\n",
       "      <td>NaN</td>\n",
       "      <td>NaN</td>\n",
       "      <td>NaN</td>\n",
       "      <td>NaN</td>\n",
       "      <td>NaN</td>\n",
       "      <td>NaN</td>\n",
       "      <td>NaN</td>\n",
       "      <td>NaN</td>\n",
       "      <td>NaN</td>\n",
       "      <td>NaN</td>\n",
       "      <td>NaN</td>\n",
       "      <td>NaN</td>\n",
       "      <td>NaN</td>\n",
       "      <td>NaN</td>\n",
       "      <td>NaN</td>\n",
       "      <td>NaN</td>\n",
       "      <td>NaN</td>\n",
       "      <td>NaN</td>\n",
       "      <td>NaN</td>\n",
       "      <td>NaN</td>\n",
       "      <td>NaN</td>\n",
       "      <td>NaN</td>\n",
       "      <td>NaN</td>\n",
       "      <td>NaN</td>\n",
       "      <td>0</td>\n",
       "      <td>0</td>\n",
       "      <td>0</td>\n",
       "      <td>12</td>\n",
       "    </tr>\n",
       "    <tr>\n",
       "      <th>10</th>\n",
       "      <td>2025-05-08 21:56:30</td>\n",
       "      <td>2025-05-08 22:18:32</td>\n",
       "      <td>IP Address</td>\n",
       "      <td>122.150.165.151</td>\n",
       "      <td>100</td>\n",
       "      <td>1322</td>\n",
       "      <td>True</td>\n",
       "      <td>2025-05-08 22:18:33.318000</td>\n",
       "      <td>R_4abJY3mGC2eaQsF</td>\n",
       "      <td>NaN</td>\n",
       "      <td>NaN</td>\n",
       "      <td>NaN</td>\n",
       "      <td>NaN</td>\n",
       "      <td>-37.8186</td>\n",
       "      <td>145.1277</td>\n",
       "      <td>anonymous</td>\n",
       "      <td>EN</td>\n",
       "      <td>2025-05-08</td>\n",
       "      <td>Omar Bahakam</td>\n",
       "      <td>Royal Dental Hospital Melbourne RDHM</td>\n",
       "      <td>Chen Chen</td>\n",
       "      <td>1.0</td>\n",
       "      <td>1.0</td>\n",
       "      <td>2.0</td>\n",
       "      <td>2.0</td>\n",
       "      <td>1.0</td>\n",
       "      <td>1.0</td>\n",
       "      <td>2.0</td>\n",
       "      <td>1.0</td>\n",
       "      <td>1.0</td>\n",
       "      <td>1.0</td>\n",
       "      <td>2.0</td>\n",
       "      <td>1.0</td>\n",
       "      <td>2.0</td>\n",
       "      <td>3.0</td>\n",
       "      <td>4.0</td>\n",
       "      <td>3.0</td>\n",
       "      <td>3.0</td>\n",
       "      <td>3.0</td>\n",
       "      <td>2.0</td>\n",
       "      <td>2.0</td>\n",
       "      <td>4.0</td>\n",
       "      <td>Clinical skills lacking, and is not always awa...</td>\n",
       "      <td>No</td>\n",
       "      <td>NaN</td>\n",
       "      <td>Lvl 2: Reaches a step (or point) in the proced...</td>\n",
       "      <td>Lvl 2: Student can be trusted to perform task ...</td>\n",
       "      <td>0</td>\n",
       "      <td>4</td>\n",
       "      <td>8</td>\n",
       "      <td>0</td>\n",
       "    </tr>\n",
       "    <tr>\n",
       "      <th>18</th>\n",
       "      <td>2025-05-09 13:54:01</td>\n",
       "      <td>2025-05-09 13:59:48</td>\n",
       "      <td>IP Address</td>\n",
       "      <td>128.250.0.112</td>\n",
       "      <td>100</td>\n",
       "      <td>346</td>\n",
       "      <td>True</td>\n",
       "      <td>2025-05-09 13:59:49.197000</td>\n",
       "      <td>R_4lYKKFfKJA3tmvw</td>\n",
       "      <td>NaN</td>\n",
       "      <td>NaN</td>\n",
       "      <td>NaN</td>\n",
       "      <td>NaN</td>\n",
       "      <td>-37.8024</td>\n",
       "      <td>144.9659</td>\n",
       "      <td>anonymous</td>\n",
       "      <td>EN</td>\n",
       "      <td>2025-05-09</td>\n",
       "      <td>Omar Bahakam</td>\n",
       "      <td>Melbourne Dental Clinic,Royal Dental Hospital ...</td>\n",
       "      <td>Jaafar Abduo</td>\n",
       "      <td>2.0</td>\n",
       "      <td>2.0</td>\n",
       "      <td>2.0</td>\n",
       "      <td>2.0</td>\n",
       "      <td>2.0</td>\n",
       "      <td>2.0</td>\n",
       "      <td>2.0</td>\n",
       "      <td>1.0</td>\n",
       "      <td>2.0</td>\n",
       "      <td>2.0</td>\n",
       "      <td>1.0</td>\n",
       "      <td>1.0</td>\n",
       "      <td>3.0</td>\n",
       "      <td>4.0</td>\n",
       "      <td>3.0</td>\n",
       "      <td>3.0</td>\n",
       "      <td>3.0</td>\n",
       "      <td>4.0</td>\n",
       "      <td>3.0</td>\n",
       "      <td>3.0</td>\n",
       "      <td>4.0</td>\n",
       "      <td>Omar is improving from last year. Still strugg...</td>\n",
       "      <td>No</td>\n",
       "      <td>NaN</td>\n",
       "      <td>Lvl 2: Reaches a step (or point) in the proced...</td>\n",
       "      <td>Lvl 2: Student can be trusted to perform task ...</td>\n",
       "      <td>0</td>\n",
       "      <td>9</td>\n",
       "      <td>3</td>\n",
       "      <td>0</td>\n",
       "    </tr>\n",
       "    <tr>\n",
       "      <th>25</th>\n",
       "      <td>2025-05-12 14:51:44</td>\n",
       "      <td>2025-05-12 14:58:09</td>\n",
       "      <td>IP Address</td>\n",
       "      <td>1.145.158.121</td>\n",
       "      <td>100</td>\n",
       "      <td>384</td>\n",
       "      <td>True</td>\n",
       "      <td>2025-05-12 14:58:11.099000</td>\n",
       "      <td>R_4QKC03n47DIWWSB</td>\n",
       "      <td>NaN</td>\n",
       "      <td>NaN</td>\n",
       "      <td>NaN</td>\n",
       "      <td>NaN</td>\n",
       "      <td>-37.8335</td>\n",
       "      <td>145.0012</td>\n",
       "      <td>anonymous</td>\n",
       "      <td>EN</td>\n",
       "      <td>2025-05-12</td>\n",
       "      <td>Omar Bahakam</td>\n",
       "      <td>Royal Dental Hospital Melbourne RDHM</td>\n",
       "      <td>John Pearson</td>\n",
       "      <td>2.0</td>\n",
       "      <td>2.0</td>\n",
       "      <td>2.0</td>\n",
       "      <td>1.0</td>\n",
       "      <td>1.0</td>\n",
       "      <td>2.0</td>\n",
       "      <td>1.0</td>\n",
       "      <td>1.0</td>\n",
       "      <td>1.0</td>\n",
       "      <td>1.0</td>\n",
       "      <td>2.0</td>\n",
       "      <td>2.0</td>\n",
       "      <td>2.0</td>\n",
       "      <td>2.0</td>\n",
       "      <td>2.0</td>\n",
       "      <td>2.0</td>\n",
       "      <td>2.0</td>\n",
       "      <td>3.0</td>\n",
       "      <td>3.0</td>\n",
       "      <td>3.0</td>\n",
       "      <td>3.0</td>\n",
       "      <td>Happily there seems to be an improvement in qu...</td>\n",
       "      <td>No</td>\n",
       "      <td>NaN</td>\n",
       "      <td>Lvl 1: Work not completed in allocated timeframe.</td>\n",
       "      <td>Lvl 2: Student can be trusted to perform task ...</td>\n",
       "      <td>0</td>\n",
       "      <td>6</td>\n",
       "      <td>6</td>\n",
       "      <td>0</td>\n",
       "    </tr>\n",
       "  </tbody>\n",
       "</table>\n",
       "</div>"
      ],
      "text/plain": [
       "              StartDate              EndDate      Status        IPAddress  \\\n",
       "3   2025-03-20 18:16:10  2025-03-20 18:16:29  IP Address      49.183.36.8   \n",
       "10  2025-05-08 21:56:30  2025-05-08 22:18:32  IP Address  122.150.165.151   \n",
       "18  2025-05-09 13:54:01  2025-05-09 13:59:48  IP Address    128.250.0.112   \n",
       "25  2025-05-12 14:51:44  2025-05-12 14:58:09  IP Address    1.145.158.121   \n",
       "\n",
       "   Progress Duration (in seconds) Finished                RecordedDate  \\\n",
       "3        38                    18    False  2025-03-27 18:16:34.451000   \n",
       "10      100                  1322     True  2025-05-08 22:18:33.318000   \n",
       "18      100                   346     True  2025-05-09 13:59:49.197000   \n",
       "25      100                   384     True  2025-05-12 14:58:11.099000   \n",
       "\n",
       "           ResponseId RecipientLastName RecipientFirstName RecipientEmail  \\\n",
       "3   R_4LdLxwXmPqbqFLA               NaN                NaN            NaN   \n",
       "10  R_4abJY3mGC2eaQsF               NaN                NaN            NaN   \n",
       "18  R_4lYKKFfKJA3tmvw               NaN                NaN            NaN   \n",
       "25  R_4QKC03n47DIWWSB               NaN                NaN            NaN   \n",
       "\n",
       "   ExternalReference LocationLatitude LocationLongitude DistributionChannel  \\\n",
       "3                NaN         -37.8159          144.9669           anonymous   \n",
       "10               NaN         -37.8186          145.1277           anonymous   \n",
       "18               NaN         -37.8024          144.9659           anonymous   \n",
       "25               NaN         -37.8335          145.0012           anonymous   \n",
       "\n",
       "   UserLanguage        Date  Student Name  \\\n",
       "3            EN  2025-03-20  Omar Bahakam   \n",
       "10           EN  2025-05-08  Omar Bahakam   \n",
       "18           EN  2025-05-09  Omar Bahakam   \n",
       "25           EN  2025-05-12  Omar Bahakam   \n",
       "\n",
       "                                                 Site         Staff  Q7_1  \\\n",
       "3                Royal Dental Hospital Melbourne RDHM  Jaafar Abduo   NaN   \n",
       "10               Royal Dental Hospital Melbourne RDHM     Chen Chen   1.0   \n",
       "18  Melbourne Dental Clinic,Royal Dental Hospital ...  Jaafar Abduo   2.0   \n",
       "25               Royal Dental Hospital Melbourne RDHM  John Pearson   2.0   \n",
       "\n",
       "    Q7_2  Q8_1  Q8_2  Q8_3  Q8_4  Q8_5  Q8_6  Q8_7  Q8_8  Q8_9  Q8_10  Q9_1  \\\n",
       "3    NaN   NaN   NaN   NaN   NaN   NaN   NaN   NaN   NaN   NaN    NaN   NaN   \n",
       "10   1.0   2.0   2.0   1.0   1.0   2.0   1.0   1.0   1.0   2.0    1.0   2.0   \n",
       "18   2.0   2.0   2.0   2.0   2.0   2.0   1.0   2.0   2.0   1.0    1.0   3.0   \n",
       "25   2.0   2.0   1.0   1.0   2.0   1.0   1.0   1.0   1.0   2.0    2.0   2.0   \n",
       "\n",
       "    Q9_2  Q9_3  Q9_4  Q9_5  Q9_6  Q9_7  Q9_8  Q9_9  \\\n",
       "3    NaN   NaN   NaN   NaN   NaN   NaN   NaN   NaN   \n",
       "10   3.0   4.0   3.0   3.0   3.0   2.0   2.0   4.0   \n",
       "18   4.0   3.0   3.0   3.0   4.0   3.0   3.0   4.0   \n",
       "25   2.0   2.0   2.0   2.0   3.0   3.0   3.0   3.0   \n",
       "\n",
       "                                                  Q10 Critical incident  \\\n",
       "3                                                 NaN               NaN   \n",
       "10  Clinical skills lacking, and is not always awa...                No   \n",
       "18  Omar is improving from last year. Still strugg...                No   \n",
       "25  Happily there seems to be an improvement in qu...                No   \n",
       "\n",
       "   CI Details                                    Time management  \\\n",
       "3         NaN                                                NaN   \n",
       "10        NaN  Lvl 2: Reaches a step (or point) in the proced...   \n",
       "18        NaN  Lvl 2: Reaches a step (or point) in the proced...   \n",
       "25        NaN  Lvl 1: Work not completed in allocated timeframe.   \n",
       "\n",
       "                                    Entrustment scale  #3  #2  #1  #nan  \n",
       "3                                                 NaN   0   0   0    12  \n",
       "10  Lvl 2: Student can be trusted to perform task ...   0   4   8     0  \n",
       "18  Lvl 2: Student can be trusted to perform task ...   0   9   3     0  \n",
       "25  Lvl 2: Student can be trusted to perform task ...   0   6   6     0  "
      ]
     },
     "metadata": {},
     "output_type": "display_data"
    },
    {
     "data": {
      "text/plain": [
       "Q7_1\n",
       "2.0    2\n",
       "NaN    1\n",
       "1.0    1\n",
       "Name: count, dtype: int64"
      ]
     },
     "metadata": {},
     "output_type": "display_data"
    },
    {
     "name": "stdout",
     "output_type": "stream",
     "text": [
      "['Completed with minimal assistance', 'No basis for evaluation', 'Completed with substantial assistance']\n"
     ]
    },
    {
     "data": {
      "text/plain": [
       "Completed with minimal assistance        2\n",
       "No basis for evaluation                  1\n",
       "Completed with substantial assistance    1\n",
       "Name: count, dtype: int64"
      ]
     },
     "metadata": {},
     "output_type": "display_data"
    },
    {
     "data": {
      "text/plain": [
       "Q7_2\n",
       "2.0    2\n",
       "NaN    1\n",
       "1.0    1\n",
       "Name: count, dtype: int64"
      ]
     },
     "metadata": {},
     "output_type": "display_data"
    },
    {
     "name": "stdout",
     "output_type": "stream",
     "text": [
      "['Completed with minimal assistance', 'No basis for evaluation', 'Completed with substantial assistance']\n"
     ]
    },
    {
     "data": {
      "text/plain": [
       "Completed with minimal assistance        2\n",
       "No basis for evaluation                  1\n",
       "Completed with substantial assistance    1\n",
       "Name: count, dtype: int64"
      ]
     },
     "metadata": {},
     "output_type": "display_data"
    },
    {
     "data": {
      "text/plain": [
       "Q8_1\n",
       "2.0    3\n",
       "NaN    1\n",
       "Name: count, dtype: int64"
      ]
     },
     "metadata": {},
     "output_type": "display_data"
    },
    {
     "name": "stdout",
     "output_type": "stream",
     "text": [
      "['Completed with minimal assistance', 'No basis for evaluation']\n"
     ]
    },
    {
     "data": {
      "text/plain": [
       "Completed with minimal assistance    3\n",
       "No basis for evaluation              1\n",
       "Name: count, dtype: int64"
      ]
     },
     "metadata": {},
     "output_type": "display_data"
    },
    {
     "data": {
      "text/plain": [
       "Q8_2\n",
       "2.0    2\n",
       "NaN    1\n",
       "1.0    1\n",
       "Name: count, dtype: int64"
      ]
     },
     "metadata": {},
     "output_type": "display_data"
    },
    {
     "name": "stdout",
     "output_type": "stream",
     "text": [
      "['Completed with minimal assistance', 'No basis for evaluation', 'Completed with substantial assistance']\n"
     ]
    },
    {
     "data": {
      "text/plain": [
       "Completed with minimal assistance        2\n",
       "No basis for evaluation                  1\n",
       "Completed with substantial assistance    1\n",
       "Name: count, dtype: int64"
      ]
     },
     "metadata": {},
     "output_type": "display_data"
    },
    {
     "data": {
      "text/plain": [
       "Q8_3\n",
       "1.0    2\n",
       "NaN    1\n",
       "2.0    1\n",
       "Name: count, dtype: int64"
      ]
     },
     "metadata": {},
     "output_type": "display_data"
    },
    {
     "name": "stdout",
     "output_type": "stream",
     "text": [
      "['Completed with substantial assistance', 'No basis for evaluation', 'Completed with minimal assistance']\n"
     ]
    },
    {
     "data": {
      "text/plain": [
       "Completed with substantial assistance    2\n",
       "No basis for evaluation                  1\n",
       "Completed with minimal assistance        1\n",
       "Name: count, dtype: int64"
      ]
     },
     "metadata": {},
     "output_type": "display_data"
    },
    {
     "data": {
      "text/plain": [
       "Q8_4\n",
       "2.0    2\n",
       "NaN    1\n",
       "1.0    1\n",
       "Name: count, dtype: int64"
      ]
     },
     "metadata": {},
     "output_type": "display_data"
    },
    {
     "name": "stdout",
     "output_type": "stream",
     "text": [
      "['Completed with minimal assistance', 'No basis for evaluation', 'Completed with substantial assistance']\n"
     ]
    },
    {
     "data": {
      "text/plain": [
       "Completed with minimal assistance        2\n",
       "No basis for evaluation                  1\n",
       "Completed with substantial assistance    1\n",
       "Name: count, dtype: int64"
      ]
     },
     "metadata": {},
     "output_type": "display_data"
    },
    {
     "data": {
      "text/plain": [
       "Q8_5\n",
       "2.0    2\n",
       "NaN    1\n",
       "1.0    1\n",
       "Name: count, dtype: int64"
      ]
     },
     "metadata": {},
     "output_type": "display_data"
    },
    {
     "name": "stdout",
     "output_type": "stream",
     "text": [
      "['Completed with minimal assistance', 'No basis for evaluation', 'Completed with substantial assistance']\n"
     ]
    },
    {
     "data": {
      "text/plain": [
       "Completed with minimal assistance        2\n",
       "No basis for evaluation                  1\n",
       "Completed with substantial assistance    1\n",
       "Name: count, dtype: int64"
      ]
     },
     "metadata": {},
     "output_type": "display_data"
    },
    {
     "data": {
      "text/plain": [
       "Q8_6\n",
       "1.0    3\n",
       "NaN    1\n",
       "Name: count, dtype: int64"
      ]
     },
     "metadata": {},
     "output_type": "display_data"
    },
    {
     "name": "stdout",
     "output_type": "stream",
     "text": [
      "['Completed with substantial assistance', 'No basis for evaluation']\n"
     ]
    },
    {
     "data": {
      "text/plain": [
       "Completed with substantial assistance    3\n",
       "No basis for evaluation                  1\n",
       "Name: count, dtype: int64"
      ]
     },
     "metadata": {},
     "output_type": "display_data"
    },
    {
     "data": {
      "text/plain": [
       "Q8_7\n",
       "1.0    2\n",
       "NaN    1\n",
       "2.0    1\n",
       "Name: count, dtype: int64"
      ]
     },
     "metadata": {},
     "output_type": "display_data"
    },
    {
     "name": "stdout",
     "output_type": "stream",
     "text": [
      "['Completed with substantial assistance', 'No basis for evaluation', 'Completed with minimal assistance']\n"
     ]
    },
    {
     "data": {
      "text/plain": [
       "Completed with substantial assistance    2\n",
       "No basis for evaluation                  1\n",
       "Completed with minimal assistance        1\n",
       "Name: count, dtype: int64"
      ]
     },
     "metadata": {},
     "output_type": "display_data"
    },
    {
     "data": {
      "text/plain": [
       "Q8_8\n",
       "1.0    2\n",
       "NaN    1\n",
       "2.0    1\n",
       "Name: count, dtype: int64"
      ]
     },
     "metadata": {},
     "output_type": "display_data"
    },
    {
     "name": "stdout",
     "output_type": "stream",
     "text": [
      "['Completed with substantial assistance', 'No basis for evaluation', 'Completed with minimal assistance']\n"
     ]
    },
    {
     "data": {
      "text/plain": [
       "Completed with substantial assistance    2\n",
       "No basis for evaluation                  1\n",
       "Completed with minimal assistance        1\n",
       "Name: count, dtype: int64"
      ]
     },
     "metadata": {},
     "output_type": "display_data"
    },
    {
     "data": {
      "text/plain": [
       "Q8_9\n",
       "2.0    2\n",
       "NaN    1\n",
       "1.0    1\n",
       "Name: count, dtype: int64"
      ]
     },
     "metadata": {},
     "output_type": "display_data"
    },
    {
     "name": "stdout",
     "output_type": "stream",
     "text": [
      "['Completed with minimal assistance', 'No basis for evaluation', 'Completed with substantial assistance']\n"
     ]
    },
    {
     "data": {
      "text/plain": [
       "Completed with minimal assistance        2\n",
       "No basis for evaluation                  1\n",
       "Completed with substantial assistance    1\n",
       "Name: count, dtype: int64"
      ]
     },
     "metadata": {},
     "output_type": "display_data"
    },
    {
     "data": {
      "text/plain": [
       "Q8_10\n",
       "1.0    2\n",
       "NaN    1\n",
       "2.0    1\n",
       "Name: count, dtype: int64"
      ]
     },
     "metadata": {},
     "output_type": "display_data"
    },
    {
     "name": "stdout",
     "output_type": "stream",
     "text": [
      "['Completed with substantial assistance', 'No basis for evaluation', 'Completed with minimal assistance']\n"
     ]
    },
    {
     "data": {
      "text/plain": [
       "Completed with substantial assistance    2\n",
       "No basis for evaluation                  1\n",
       "Completed with minimal assistance        1\n",
       "Name: count, dtype: int64"
      ]
     },
     "metadata": {},
     "output_type": "display_data"
    },
    {
     "data": {
      "text/plain": [
       "Q9_1\n",
       "2.0    2\n",
       "NaN    1\n",
       "3.0    1\n",
       "Name: count, dtype: int64"
      ]
     },
     "metadata": {},
     "output_type": "display_data"
    },
    {
     "name": "stdout",
     "output_type": "stream",
     "text": [
      "['SOMETIMES', 'Not graded', 'OFTEN']\n"
     ]
    },
    {
     "data": {
      "text/plain": [
       "SOMETIMES     2\n",
       "Not graded    1\n",
       "OFTEN         1\n",
       "Name: count, dtype: int64"
      ]
     },
     "metadata": {},
     "output_type": "display_data"
    },
    {
     "data": {
      "text/plain": [
       "Q9_2\n",
       "NaN    1\n",
       "3.0    1\n",
       "4.0    1\n",
       "2.0    1\n",
       "Name: count, dtype: int64"
      ]
     },
     "metadata": {},
     "output_type": "display_data"
    },
    {
     "name": "stdout",
     "output_type": "stream",
     "text": [
      "['Not graded', 'OFTEN', 'ALWAYS', 'SOMETIMES']\n"
     ]
    },
    {
     "data": {
      "text/plain": [
       "Not graded    1\n",
       "OFTEN         1\n",
       "ALWAYS        1\n",
       "SOMETIMES     1\n",
       "Name: count, dtype: int64"
      ]
     },
     "metadata": {},
     "output_type": "display_data"
    },
    {
     "data": {
      "text/plain": [
       "Q9_3\n",
       "NaN    1\n",
       "4.0    1\n",
       "3.0    1\n",
       "2.0    1\n",
       "Name: count, dtype: int64"
      ]
     },
     "metadata": {},
     "output_type": "display_data"
    },
    {
     "name": "stdout",
     "output_type": "stream",
     "text": [
      "['Not graded', 'ALWAYS', 'OFTEN', 'SOMETIMES']\n"
     ]
    },
    {
     "data": {
      "text/plain": [
       "Not graded    1\n",
       "ALWAYS        1\n",
       "OFTEN         1\n",
       "SOMETIMES     1\n",
       "Name: count, dtype: int64"
      ]
     },
     "metadata": {},
     "output_type": "display_data"
    },
    {
     "data": {
      "text/plain": [
       "Q9_4\n",
       "3.0    2\n",
       "NaN    1\n",
       "2.0    1\n",
       "Name: count, dtype: int64"
      ]
     },
     "metadata": {},
     "output_type": "display_data"
    },
    {
     "name": "stdout",
     "output_type": "stream",
     "text": [
      "['OFTEN', 'Not graded', 'SOMETIMES']\n"
     ]
    },
    {
     "data": {
      "text/plain": [
       "OFTEN         2\n",
       "Not graded    1\n",
       "SOMETIMES     1\n",
       "Name: count, dtype: int64"
      ]
     },
     "metadata": {},
     "output_type": "display_data"
    },
    {
     "data": {
      "text/plain": [
       "Q9_5\n",
       "3.0    2\n",
       "NaN    1\n",
       "2.0    1\n",
       "Name: count, dtype: int64"
      ]
     },
     "metadata": {},
     "output_type": "display_data"
    },
    {
     "name": "stdout",
     "output_type": "stream",
     "text": [
      "['OFTEN', 'Not graded', 'SOMETIMES']\n"
     ]
    },
    {
     "data": {
      "text/plain": [
       "OFTEN         2\n",
       "Not graded    1\n",
       "SOMETIMES     1\n",
       "Name: count, dtype: int64"
      ]
     },
     "metadata": {},
     "output_type": "display_data"
    },
    {
     "data": {
      "text/plain": [
       "Q9_6\n",
       "3.0    2\n",
       "NaN    1\n",
       "4.0    1\n",
       "Name: count, dtype: int64"
      ]
     },
     "metadata": {},
     "output_type": "display_data"
    },
    {
     "name": "stdout",
     "output_type": "stream",
     "text": [
      "['OFTEN', 'Not graded', 'ALWAYS']\n"
     ]
    },
    {
     "data": {
      "text/plain": [
       "OFTEN         2\n",
       "Not graded    1\n",
       "ALWAYS        1\n",
       "Name: count, dtype: int64"
      ]
     },
     "metadata": {},
     "output_type": "display_data"
    },
    {
     "data": {
      "text/plain": [
       "Q9_7\n",
       "3.0    2\n",
       "NaN    1\n",
       "2.0    1\n",
       "Name: count, dtype: int64"
      ]
     },
     "metadata": {},
     "output_type": "display_data"
    },
    {
     "name": "stdout",
     "output_type": "stream",
     "text": [
      "['OFTEN', 'Not graded', 'SOMETIMES']\n"
     ]
    },
    {
     "data": {
      "text/plain": [
       "OFTEN         2\n",
       "Not graded    1\n",
       "SOMETIMES     1\n",
       "Name: count, dtype: int64"
      ]
     },
     "metadata": {},
     "output_type": "display_data"
    },
    {
     "data": {
      "text/plain": [
       "Q9_8\n",
       "3.0    2\n",
       "NaN    1\n",
       "2.0    1\n",
       "Name: count, dtype: int64"
      ]
     },
     "metadata": {},
     "output_type": "display_data"
    },
    {
     "name": "stdout",
     "output_type": "stream",
     "text": [
      "['OFTEN', 'Not graded', 'SOMETIMES']\n"
     ]
    },
    {
     "data": {
      "text/plain": [
       "OFTEN         2\n",
       "Not graded    1\n",
       "SOMETIMES     1\n",
       "Name: count, dtype: int64"
      ]
     },
     "metadata": {},
     "output_type": "display_data"
    },
    {
     "data": {
      "text/plain": [
       "Q9_9\n",
       "4.0    2\n",
       "NaN    1\n",
       "3.0    1\n",
       "Name: count, dtype: int64"
      ]
     },
     "metadata": {},
     "output_type": "display_data"
    },
    {
     "name": "stdout",
     "output_type": "stream",
     "text": [
      "['ALWAYS', 'Not graded', 'OFTEN']\n"
     ]
    },
    {
     "data": {
      "text/plain": [
       "ALWAYS        2\n",
       "Not graded    1\n",
       "OFTEN         1\n",
       "Name: count, dtype: int64"
      ]
     },
     "metadata": {},
     "output_type": "display_data"
    },
    {
     "data": {
      "text/html": [
       "<div>\n",
       "<style scoped>\n",
       "    .dataframe tbody tr th:only-of-type {\n",
       "        vertical-align: middle;\n",
       "    }\n",
       "\n",
       "    .dataframe tbody tr th {\n",
       "        vertical-align: top;\n",
       "    }\n",
       "\n",
       "    .dataframe thead th {\n",
       "        text-align: right;\n",
       "    }\n",
       "</style>\n",
       "<table border=\"1\" class=\"dataframe\">\n",
       "  <thead>\n",
       "    <tr style=\"text-align: right;\">\n",
       "      <th></th>\n",
       "      <th>Staff</th>\n",
       "      <th>Comments</th>\n",
       "    </tr>\n",
       "  </thead>\n",
       "  <tbody>\n",
       "    <tr>\n",
       "      <th>10</th>\n",
       "      <td>Chen Chen</td>\n",
       "      <td>Clinical skills lacking, and is not always awa...</td>\n",
       "    </tr>\n",
       "    <tr>\n",
       "      <th>18</th>\n",
       "      <td>Jaafar Abduo</td>\n",
       "      <td>Omar is improving from last year. Still strugg...</td>\n",
       "    </tr>\n",
       "    <tr>\n",
       "      <th>25</th>\n",
       "      <td>John Pearson</td>\n",
       "      <td>Happily there seems to be an improvement in qu...</td>\n",
       "    </tr>\n",
       "  </tbody>\n",
       "</table>\n",
       "</div>"
      ],
      "text/plain": [
       "           Staff                                           Comments\n",
       "10     Chen Chen  Clinical skills lacking, and is not always awa...\n",
       "18  Jaafar Abduo  Omar is improving from last year. Still strugg...\n",
       "25  John Pearson  Happily there seems to be an improvement in qu..."
      ]
     },
     "metadata": {},
     "output_type": "display_data"
    },
    {
     "name": "stdout",
     "output_type": "stream",
     "text": [
      "Creating table for Reflect on the student's performance across the month - what are some strengths and areas you have identified for improvement.\n"
     ]
    },
    {
     "data": {
      "text/html": [
       "<div>\n",
       "<style scoped>\n",
       "    .dataframe tbody tr th:only-of-type {\n",
       "        vertical-align: middle;\n",
       "    }\n",
       "\n",
       "    .dataframe tbody tr th {\n",
       "        vertical-align: top;\n",
       "    }\n",
       "\n",
       "    .dataframe thead th {\n",
       "        text-align: right;\n",
       "    }\n",
       "</style>\n",
       "<table border=\"1\" class=\"dataframe\">\n",
       "  <thead>\n",
       "    <tr style=\"text-align: right;\">\n",
       "      <th></th>\n",
       "      <th>Staff</th>\n",
       "      <th>Comments</th>\n",
       "    </tr>\n",
       "  </thead>\n",
       "  <tbody>\n",
       "    <tr>\n",
       "      <th>10</th>\n",
       "      <td>Chen Chen</td>\n",
       "      <td>No</td>\n",
       "    </tr>\n",
       "    <tr>\n",
       "      <th>18</th>\n",
       "      <td>Jaafar Abduo</td>\n",
       "      <td>No</td>\n",
       "    </tr>\n",
       "    <tr>\n",
       "      <th>25</th>\n",
       "      <td>John Pearson</td>\n",
       "      <td>No</td>\n",
       "    </tr>\n",
       "  </tbody>\n",
       "</table>\n",
       "</div>"
      ],
      "text/plain": [
       "           Staff Comments\n",
       "10     Chen Chen       No\n",
       "18  Jaafar Abduo       No\n",
       "25  John Pearson       No"
      ]
     },
     "metadata": {},
     "output_type": "display_data"
    },
    {
     "name": "stdout",
     "output_type": "stream",
     "text": [
      "Creating table for Has a clinical incident occurred during this month while you were supervising this student?\n"
     ]
    },
    {
     "data": {
      "text/html": [
       "<div>\n",
       "<style scoped>\n",
       "    .dataframe tbody tr th:only-of-type {\n",
       "        vertical-align: middle;\n",
       "    }\n",
       "\n",
       "    .dataframe tbody tr th {\n",
       "        vertical-align: top;\n",
       "    }\n",
       "\n",
       "    .dataframe thead th {\n",
       "        text-align: right;\n",
       "    }\n",
       "</style>\n",
       "<table border=\"1\" class=\"dataframe\">\n",
       "  <thead>\n",
       "    <tr style=\"text-align: right;\">\n",
       "      <th></th>\n",
       "      <th>StartDate</th>\n",
       "      <th>EndDate</th>\n",
       "      <th>Status</th>\n",
       "      <th>IPAddress</th>\n",
       "      <th>Progress</th>\n",
       "      <th>Duration (in seconds)</th>\n",
       "      <th>Finished</th>\n",
       "      <th>RecordedDate</th>\n",
       "      <th>ResponseId</th>\n",
       "      <th>RecipientLastName</th>\n",
       "      <th>RecipientFirstName</th>\n",
       "      <th>RecipientEmail</th>\n",
       "      <th>ExternalReference</th>\n",
       "      <th>LocationLatitude</th>\n",
       "      <th>LocationLongitude</th>\n",
       "      <th>DistributionChannel</th>\n",
       "      <th>UserLanguage</th>\n",
       "      <th>Date</th>\n",
       "      <th>Student Name</th>\n",
       "      <th>Site</th>\n",
       "      <th>Staff</th>\n",
       "      <th>Q7_1</th>\n",
       "      <th>Q7_2</th>\n",
       "      <th>Q8_1</th>\n",
       "      <th>Q8_2</th>\n",
       "      <th>Q8_3</th>\n",
       "      <th>Q8_4</th>\n",
       "      <th>Q8_5</th>\n",
       "      <th>Q8_6</th>\n",
       "      <th>Q8_7</th>\n",
       "      <th>Q8_8</th>\n",
       "      <th>Q8_9</th>\n",
       "      <th>Q8_10</th>\n",
       "      <th>Q9_1</th>\n",
       "      <th>Q9_2</th>\n",
       "      <th>Q9_3</th>\n",
       "      <th>Q9_4</th>\n",
       "      <th>Q9_5</th>\n",
       "      <th>Q9_6</th>\n",
       "      <th>Q9_7</th>\n",
       "      <th>Q9_8</th>\n",
       "      <th>Q9_9</th>\n",
       "      <th>Q10</th>\n",
       "      <th>Critical incident</th>\n",
       "      <th>CI Details</th>\n",
       "      <th>Time management</th>\n",
       "      <th>Entrustment scale</th>\n",
       "      <th>#3</th>\n",
       "      <th>#2</th>\n",
       "      <th>#1</th>\n",
       "      <th>#nan</th>\n",
       "    </tr>\n",
       "  </thead>\n",
       "  <tbody>\n",
       "    <tr>\n",
       "      <th>8</th>\n",
       "      <td>2025-05-08 20:29:00</td>\n",
       "      <td>2025-05-08 21:09:56</td>\n",
       "      <td>IP Address</td>\n",
       "      <td>122.150.165.229</td>\n",
       "      <td>100</td>\n",
       "      <td>2456</td>\n",
       "      <td>True</td>\n",
       "      <td>2025-05-08 21:09:57.800000</td>\n",
       "      <td>R_9Pu5H7YAGN2TNIo</td>\n",
       "      <td>NaN</td>\n",
       "      <td>NaN</td>\n",
       "      <td>NaN</td>\n",
       "      <td>NaN</td>\n",
       "      <td>-37.8186</td>\n",
       "      <td>145.1277</td>\n",
       "      <td>anonymous</td>\n",
       "      <td>EN</td>\n",
       "      <td>2025-05-08</td>\n",
       "      <td>Phillip Ho</td>\n",
       "      <td>Royal Dental Hospital Melbourne RDHM</td>\n",
       "      <td>Chen Chen</td>\n",
       "      <td>3.0</td>\n",
       "      <td>3.0</td>\n",
       "      <td>3.0</td>\n",
       "      <td>3.0</td>\n",
       "      <td>3.0</td>\n",
       "      <td>2.0</td>\n",
       "      <td>2.0</td>\n",
       "      <td>2.0</td>\n",
       "      <td>3.0</td>\n",
       "      <td>3.0</td>\n",
       "      <td>3.0</td>\n",
       "      <td>3.0</td>\n",
       "      <td>4.0</td>\n",
       "      <td>4.0</td>\n",
       "      <td>4.0</td>\n",
       "      <td>4.0</td>\n",
       "      <td>4.0</td>\n",
       "      <td>4.0</td>\n",
       "      <td>4.0</td>\n",
       "      <td>4.0</td>\n",
       "      <td>4.0</td>\n",
       "      <td>Strengths: attention to detail, clinical skill...</td>\n",
       "      <td>No</td>\n",
       "      <td>NaN</td>\n",
       "      <td>Lvl 4: Manages time to complete simulation or ...</td>\n",
       "      <td>Lvl 4: Student can be trusted to perform this ...</td>\n",
       "      <td>9</td>\n",
       "      <td>3</td>\n",
       "      <td>0</td>\n",
       "      <td>0</td>\n",
       "    </tr>\n",
       "    <tr>\n",
       "      <th>16</th>\n",
       "      <td>2025-05-09 13:47:46</td>\n",
       "      <td>2025-05-09 13:50:04</td>\n",
       "      <td>IP Address</td>\n",
       "      <td>128.250.0.112</td>\n",
       "      <td>100</td>\n",
       "      <td>138</td>\n",
       "      <td>True</td>\n",
       "      <td>2025-05-09 13:50:05.950000</td>\n",
       "      <td>R_4mOgxolCgZjGIrs</td>\n",
       "      <td>NaN</td>\n",
       "      <td>NaN</td>\n",
       "      <td>NaN</td>\n",
       "      <td>NaN</td>\n",
       "      <td>-37.8024</td>\n",
       "      <td>144.9659</td>\n",
       "      <td>anonymous</td>\n",
       "      <td>EN</td>\n",
       "      <td>2025-05-09</td>\n",
       "      <td>Phillip Ho</td>\n",
       "      <td>Melbourne Dental Clinic,Royal Dental Hospital ...</td>\n",
       "      <td>Jaafar Abduo</td>\n",
       "      <td>2.0</td>\n",
       "      <td>3.0</td>\n",
       "      <td>3.0</td>\n",
       "      <td>3.0</td>\n",
       "      <td>3.0</td>\n",
       "      <td>2.0</td>\n",
       "      <td>3.0</td>\n",
       "      <td>2.0</td>\n",
       "      <td>3.0</td>\n",
       "      <td>3.0</td>\n",
       "      <td>3.0</td>\n",
       "      <td>2.0</td>\n",
       "      <td>4.0</td>\n",
       "      <td>4.0</td>\n",
       "      <td>4.0</td>\n",
       "      <td>4.0</td>\n",
       "      <td>4.0</td>\n",
       "      <td>4.0</td>\n",
       "      <td>4.0</td>\n",
       "      <td>4.0</td>\n",
       "      <td>4.0</td>\n",
       "      <td>Very good learning attitude</td>\n",
       "      <td>No</td>\n",
       "      <td>NaN</td>\n",
       "      <td>Lvl 4: Manages time to complete simulation or ...</td>\n",
       "      <td>Lvl 4: Student can be trusted to perform this ...</td>\n",
       "      <td>8</td>\n",
       "      <td>4</td>\n",
       "      <td>0</td>\n",
       "      <td>0</td>\n",
       "    </tr>\n",
       "    <tr>\n",
       "      <th>23</th>\n",
       "      <td>2025-05-12 14:35:20</td>\n",
       "      <td>2025-05-12 14:42:51</td>\n",
       "      <td>IP Address</td>\n",
       "      <td>1.145.158.121</td>\n",
       "      <td>100</td>\n",
       "      <td>450</td>\n",
       "      <td>True</td>\n",
       "      <td>2025-05-12 14:42:53.080000</td>\n",
       "      <td>R_4TC7xVl73ucpgdQ</td>\n",
       "      <td>NaN</td>\n",
       "      <td>NaN</td>\n",
       "      <td>NaN</td>\n",
       "      <td>NaN</td>\n",
       "      <td>-37.8335</td>\n",
       "      <td>145.0012</td>\n",
       "      <td>anonymous</td>\n",
       "      <td>EN</td>\n",
       "      <td>2025-05-12</td>\n",
       "      <td>Phillip Ho</td>\n",
       "      <td>Royal Dental Hospital Melbourne RDHM</td>\n",
       "      <td>John Pearson</td>\n",
       "      <td>2.0</td>\n",
       "      <td>3.0</td>\n",
       "      <td>3.0</td>\n",
       "      <td>3.0</td>\n",
       "      <td>2.0</td>\n",
       "      <td>2.0</td>\n",
       "      <td>2.0</td>\n",
       "      <td>2.0</td>\n",
       "      <td>2.0</td>\n",
       "      <td>3.0</td>\n",
       "      <td>3.0</td>\n",
       "      <td>2.0</td>\n",
       "      <td>3.0</td>\n",
       "      <td>3.0</td>\n",
       "      <td>2.0</td>\n",
       "      <td>3.0</td>\n",
       "      <td>4.0</td>\n",
       "      <td>4.0</td>\n",
       "      <td>3.0</td>\n",
       "      <td>4.0</td>\n",
       "      <td>4.0</td>\n",
       "      <td>I have no real concerns regarding this student...</td>\n",
       "      <td>No</td>\n",
       "      <td>NaN</td>\n",
       "      <td>Lvl 2: Reaches a step (or point) in the proced...</td>\n",
       "      <td>Lvl 3: Student can be trusted to perform task ...</td>\n",
       "      <td>5</td>\n",
       "      <td>7</td>\n",
       "      <td>0</td>\n",
       "      <td>0</td>\n",
       "    </tr>\n",
       "  </tbody>\n",
       "</table>\n",
       "</div>"
      ],
      "text/plain": [
       "              StartDate              EndDate      Status        IPAddress  \\\n",
       "8   2025-05-08 20:29:00  2025-05-08 21:09:56  IP Address  122.150.165.229   \n",
       "16  2025-05-09 13:47:46  2025-05-09 13:50:04  IP Address    128.250.0.112   \n",
       "23  2025-05-12 14:35:20  2025-05-12 14:42:51  IP Address    1.145.158.121   \n",
       "\n",
       "   Progress Duration (in seconds) Finished                RecordedDate  \\\n",
       "8       100                  2456     True  2025-05-08 21:09:57.800000   \n",
       "16      100                   138     True  2025-05-09 13:50:05.950000   \n",
       "23      100                   450     True  2025-05-12 14:42:53.080000   \n",
       "\n",
       "           ResponseId RecipientLastName RecipientFirstName RecipientEmail  \\\n",
       "8   R_9Pu5H7YAGN2TNIo               NaN                NaN            NaN   \n",
       "16  R_4mOgxolCgZjGIrs               NaN                NaN            NaN   \n",
       "23  R_4TC7xVl73ucpgdQ               NaN                NaN            NaN   \n",
       "\n",
       "   ExternalReference LocationLatitude LocationLongitude DistributionChannel  \\\n",
       "8                NaN         -37.8186          145.1277           anonymous   \n",
       "16               NaN         -37.8024          144.9659           anonymous   \n",
       "23               NaN         -37.8335          145.0012           anonymous   \n",
       "\n",
       "   UserLanguage        Date Student Name  \\\n",
       "8            EN  2025-05-08   Phillip Ho   \n",
       "16           EN  2025-05-09   Phillip Ho   \n",
       "23           EN  2025-05-12   Phillip Ho   \n",
       "\n",
       "                                                 Site         Staff  Q7_1  \\\n",
       "8                Royal Dental Hospital Melbourne RDHM     Chen Chen   3.0   \n",
       "16  Melbourne Dental Clinic,Royal Dental Hospital ...  Jaafar Abduo   2.0   \n",
       "23               Royal Dental Hospital Melbourne RDHM  John Pearson   2.0   \n",
       "\n",
       "    Q7_2  Q8_1  Q8_2  Q8_3  Q8_4  Q8_5  Q8_6  Q8_7  Q8_8  Q8_9  Q8_10  Q9_1  \\\n",
       "8    3.0   3.0   3.0   3.0   2.0   2.0   2.0   3.0   3.0   3.0    3.0   4.0   \n",
       "16   3.0   3.0   3.0   3.0   2.0   3.0   2.0   3.0   3.0   3.0    2.0   4.0   \n",
       "23   3.0   3.0   3.0   2.0   2.0   2.0   2.0   2.0   3.0   3.0    2.0   3.0   \n",
       "\n",
       "    Q9_2  Q9_3  Q9_4  Q9_5  Q9_6  Q9_7  Q9_8  Q9_9  \\\n",
       "8    4.0   4.0   4.0   4.0   4.0   4.0   4.0   4.0   \n",
       "16   4.0   4.0   4.0   4.0   4.0   4.0   4.0   4.0   \n",
       "23   3.0   2.0   3.0   4.0   4.0   3.0   4.0   4.0   \n",
       "\n",
       "                                                  Q10 Critical incident  \\\n",
       "8   Strengths: attention to detail, clinical skill...                No   \n",
       "16                        Very good learning attitude                No   \n",
       "23  I have no real concerns regarding this student...                No   \n",
       "\n",
       "   CI Details                                    Time management  \\\n",
       "8         NaN  Lvl 4: Manages time to complete simulation or ...   \n",
       "16        NaN  Lvl 4: Manages time to complete simulation or ...   \n",
       "23        NaN  Lvl 2: Reaches a step (or point) in the proced...   \n",
       "\n",
       "                                    Entrustment scale  #3  #2  #1  #nan  \n",
       "8   Lvl 4: Student can be trusted to perform this ...   9   3   0     0  \n",
       "16  Lvl 4: Student can be trusted to perform this ...   8   4   0     0  \n",
       "23  Lvl 3: Student can be trusted to perform task ...   5   7   0     0  "
      ]
     },
     "metadata": {},
     "output_type": "display_data"
    },
    {
     "data": {
      "text/plain": [
       "Q7_1\n",
       "2.0    2\n",
       "3.0    1\n",
       "Name: count, dtype: int64"
      ]
     },
     "metadata": {},
     "output_type": "display_data"
    },
    {
     "name": "stdout",
     "output_type": "stream",
     "text": [
      "['Completed with minimal assistance', 'Completed independently (competent)']\n"
     ]
    },
    {
     "data": {
      "text/plain": [
       "Completed with minimal assistance      2\n",
       "Completed independently (competent)    1\n",
       "Name: count, dtype: int64"
      ]
     },
     "metadata": {},
     "output_type": "display_data"
    },
    {
     "data": {
      "text/plain": [
       "Q7_2\n",
       "3.0    3\n",
       "Name: count, dtype: int64"
      ]
     },
     "metadata": {},
     "output_type": "display_data"
    },
    {
     "name": "stdout",
     "output_type": "stream",
     "text": [
      "['Completed independently (competent)']\n"
     ]
    },
    {
     "data": {
      "text/plain": [
       "Completed independently (competent)    3\n",
       "Name: count, dtype: int64"
      ]
     },
     "metadata": {},
     "output_type": "display_data"
    },
    {
     "data": {
      "text/plain": [
       "Q8_1\n",
       "3.0    3\n",
       "Name: count, dtype: int64"
      ]
     },
     "metadata": {},
     "output_type": "display_data"
    },
    {
     "name": "stdout",
     "output_type": "stream",
     "text": [
      "['Completed independently (competent)']\n"
     ]
    },
    {
     "data": {
      "text/plain": [
       "Completed independently (competent)    3\n",
       "Name: count, dtype: int64"
      ]
     },
     "metadata": {},
     "output_type": "display_data"
    },
    {
     "data": {
      "text/plain": [
       "Q8_2\n",
       "3.0    3\n",
       "Name: count, dtype: int64"
      ]
     },
     "metadata": {},
     "output_type": "display_data"
    },
    {
     "name": "stdout",
     "output_type": "stream",
     "text": [
      "['Completed independently (competent)']\n"
     ]
    },
    {
     "data": {
      "text/plain": [
       "Completed independently (competent)    3\n",
       "Name: count, dtype: int64"
      ]
     },
     "metadata": {},
     "output_type": "display_data"
    },
    {
     "data": {
      "text/plain": [
       "Q8_3\n",
       "3.0    2\n",
       "2.0    1\n",
       "Name: count, dtype: int64"
      ]
     },
     "metadata": {},
     "output_type": "display_data"
    },
    {
     "name": "stdout",
     "output_type": "stream",
     "text": [
      "['Completed independently (competent)', 'Completed with minimal assistance']\n"
     ]
    },
    {
     "data": {
      "text/plain": [
       "Completed independently (competent)    2\n",
       "Completed with minimal assistance      1\n",
       "Name: count, dtype: int64"
      ]
     },
     "metadata": {},
     "output_type": "display_data"
    },
    {
     "data": {
      "text/plain": [
       "Q8_4\n",
       "2.0    3\n",
       "Name: count, dtype: int64"
      ]
     },
     "metadata": {},
     "output_type": "display_data"
    },
    {
     "name": "stdout",
     "output_type": "stream",
     "text": [
      "['Completed with minimal assistance']\n"
     ]
    },
    {
     "data": {
      "text/plain": [
       "Completed with minimal assistance    3\n",
       "Name: count, dtype: int64"
      ]
     },
     "metadata": {},
     "output_type": "display_data"
    },
    {
     "data": {
      "text/plain": [
       "Q8_5\n",
       "2.0    2\n",
       "3.0    1\n",
       "Name: count, dtype: int64"
      ]
     },
     "metadata": {},
     "output_type": "display_data"
    },
    {
     "name": "stdout",
     "output_type": "stream",
     "text": [
      "['Completed with minimal assistance', 'Completed independently (competent)']\n"
     ]
    },
    {
     "data": {
      "text/plain": [
       "Completed with minimal assistance      2\n",
       "Completed independently (competent)    1\n",
       "Name: count, dtype: int64"
      ]
     },
     "metadata": {},
     "output_type": "display_data"
    },
    {
     "data": {
      "text/plain": [
       "Q8_6\n",
       "2.0    3\n",
       "Name: count, dtype: int64"
      ]
     },
     "metadata": {},
     "output_type": "display_data"
    },
    {
     "name": "stdout",
     "output_type": "stream",
     "text": [
      "['Completed with minimal assistance']\n"
     ]
    },
    {
     "data": {
      "text/plain": [
       "Completed with minimal assistance    3\n",
       "Name: count, dtype: int64"
      ]
     },
     "metadata": {},
     "output_type": "display_data"
    },
    {
     "data": {
      "text/plain": [
       "Q8_7\n",
       "3.0    2\n",
       "2.0    1\n",
       "Name: count, dtype: int64"
      ]
     },
     "metadata": {},
     "output_type": "display_data"
    },
    {
     "name": "stdout",
     "output_type": "stream",
     "text": [
      "['Completed independently (competent)', 'Completed with minimal assistance']\n"
     ]
    },
    {
     "data": {
      "text/plain": [
       "Completed independently (competent)    2\n",
       "Completed with minimal assistance      1\n",
       "Name: count, dtype: int64"
      ]
     },
     "metadata": {},
     "output_type": "display_data"
    },
    {
     "data": {
      "text/plain": [
       "Q8_8\n",
       "3.0    3\n",
       "Name: count, dtype: int64"
      ]
     },
     "metadata": {},
     "output_type": "display_data"
    },
    {
     "name": "stdout",
     "output_type": "stream",
     "text": [
      "['Completed independently (competent)']\n"
     ]
    },
    {
     "data": {
      "text/plain": [
       "Completed independently (competent)    3\n",
       "Name: count, dtype: int64"
      ]
     },
     "metadata": {},
     "output_type": "display_data"
    },
    {
     "data": {
      "text/plain": [
       "Q8_9\n",
       "3.0    3\n",
       "Name: count, dtype: int64"
      ]
     },
     "metadata": {},
     "output_type": "display_data"
    },
    {
     "name": "stdout",
     "output_type": "stream",
     "text": [
      "['Completed independently (competent)']\n"
     ]
    },
    {
     "data": {
      "text/plain": [
       "Completed independently (competent)    3\n",
       "Name: count, dtype: int64"
      ]
     },
     "metadata": {},
     "output_type": "display_data"
    },
    {
     "data": {
      "text/plain": [
       "Q8_10\n",
       "2.0    2\n",
       "3.0    1\n",
       "Name: count, dtype: int64"
      ]
     },
     "metadata": {},
     "output_type": "display_data"
    },
    {
     "name": "stdout",
     "output_type": "stream",
     "text": [
      "['Completed with minimal assistance', 'Completed independently (competent)']\n"
     ]
    },
    {
     "data": {
      "text/plain": [
       "Completed with minimal assistance      2\n",
       "Completed independently (competent)    1\n",
       "Name: count, dtype: int64"
      ]
     },
     "metadata": {},
     "output_type": "display_data"
    },
    {
     "data": {
      "text/plain": [
       "Q9_1\n",
       "4.0    2\n",
       "3.0    1\n",
       "Name: count, dtype: int64"
      ]
     },
     "metadata": {},
     "output_type": "display_data"
    },
    {
     "name": "stdout",
     "output_type": "stream",
     "text": [
      "['ALWAYS', 'OFTEN']\n"
     ]
    },
    {
     "data": {
      "text/plain": [
       "ALWAYS    2\n",
       "OFTEN     1\n",
       "Name: count, dtype: int64"
      ]
     },
     "metadata": {},
     "output_type": "display_data"
    },
    {
     "data": {
      "text/plain": [
       "Q9_2\n",
       "4.0    2\n",
       "3.0    1\n",
       "Name: count, dtype: int64"
      ]
     },
     "metadata": {},
     "output_type": "display_data"
    },
    {
     "name": "stdout",
     "output_type": "stream",
     "text": [
      "['ALWAYS', 'OFTEN']\n"
     ]
    },
    {
     "data": {
      "text/plain": [
       "ALWAYS    2\n",
       "OFTEN     1\n",
       "Name: count, dtype: int64"
      ]
     },
     "metadata": {},
     "output_type": "display_data"
    },
    {
     "data": {
      "text/plain": [
       "Q9_3\n",
       "4.0    2\n",
       "2.0    1\n",
       "Name: count, dtype: int64"
      ]
     },
     "metadata": {},
     "output_type": "display_data"
    },
    {
     "name": "stdout",
     "output_type": "stream",
     "text": [
      "['ALWAYS', 'SOMETIMES']\n"
     ]
    },
    {
     "data": {
      "text/plain": [
       "ALWAYS       2\n",
       "SOMETIMES    1\n",
       "Name: count, dtype: int64"
      ]
     },
     "metadata": {},
     "output_type": "display_data"
    },
    {
     "data": {
      "text/plain": [
       "Q9_4\n",
       "4.0    2\n",
       "3.0    1\n",
       "Name: count, dtype: int64"
      ]
     },
     "metadata": {},
     "output_type": "display_data"
    },
    {
     "name": "stdout",
     "output_type": "stream",
     "text": [
      "['ALWAYS', 'OFTEN']\n"
     ]
    },
    {
     "data": {
      "text/plain": [
       "ALWAYS    2\n",
       "OFTEN     1\n",
       "Name: count, dtype: int64"
      ]
     },
     "metadata": {},
     "output_type": "display_data"
    },
    {
     "data": {
      "text/plain": [
       "Q9_5\n",
       "4.0    3\n",
       "Name: count, dtype: int64"
      ]
     },
     "metadata": {},
     "output_type": "display_data"
    },
    {
     "name": "stdout",
     "output_type": "stream",
     "text": [
      "['ALWAYS']\n"
     ]
    },
    {
     "data": {
      "text/plain": [
       "ALWAYS    3\n",
       "Name: count, dtype: int64"
      ]
     },
     "metadata": {},
     "output_type": "display_data"
    },
    {
     "data": {
      "text/plain": [
       "Q9_6\n",
       "4.0    3\n",
       "Name: count, dtype: int64"
      ]
     },
     "metadata": {},
     "output_type": "display_data"
    },
    {
     "name": "stdout",
     "output_type": "stream",
     "text": [
      "['ALWAYS']\n"
     ]
    },
    {
     "data": {
      "text/plain": [
       "ALWAYS    3\n",
       "Name: count, dtype: int64"
      ]
     },
     "metadata": {},
     "output_type": "display_data"
    },
    {
     "data": {
      "text/plain": [
       "Q9_7\n",
       "4.0    2\n",
       "3.0    1\n",
       "Name: count, dtype: int64"
      ]
     },
     "metadata": {},
     "output_type": "display_data"
    },
    {
     "name": "stdout",
     "output_type": "stream",
     "text": [
      "['ALWAYS', 'OFTEN']\n"
     ]
    },
    {
     "data": {
      "text/plain": [
       "ALWAYS    2\n",
       "OFTEN     1\n",
       "Name: count, dtype: int64"
      ]
     },
     "metadata": {},
     "output_type": "display_data"
    },
    {
     "data": {
      "text/plain": [
       "Q9_8\n",
       "4.0    3\n",
       "Name: count, dtype: int64"
      ]
     },
     "metadata": {},
     "output_type": "display_data"
    },
    {
     "name": "stdout",
     "output_type": "stream",
     "text": [
      "['ALWAYS']\n"
     ]
    },
    {
     "data": {
      "text/plain": [
       "ALWAYS    3\n",
       "Name: count, dtype: int64"
      ]
     },
     "metadata": {},
     "output_type": "display_data"
    },
    {
     "data": {
      "text/plain": [
       "Q9_9\n",
       "4.0    3\n",
       "Name: count, dtype: int64"
      ]
     },
     "metadata": {},
     "output_type": "display_data"
    },
    {
     "name": "stdout",
     "output_type": "stream",
     "text": [
      "['ALWAYS']\n"
     ]
    },
    {
     "data": {
      "text/plain": [
       "ALWAYS    3\n",
       "Name: count, dtype: int64"
      ]
     },
     "metadata": {},
     "output_type": "display_data"
    },
    {
     "data": {
      "text/html": [
       "<div>\n",
       "<style scoped>\n",
       "    .dataframe tbody tr th:only-of-type {\n",
       "        vertical-align: middle;\n",
       "    }\n",
       "\n",
       "    .dataframe tbody tr th {\n",
       "        vertical-align: top;\n",
       "    }\n",
       "\n",
       "    .dataframe thead th {\n",
       "        text-align: right;\n",
       "    }\n",
       "</style>\n",
       "<table border=\"1\" class=\"dataframe\">\n",
       "  <thead>\n",
       "    <tr style=\"text-align: right;\">\n",
       "      <th></th>\n",
       "      <th>Staff</th>\n",
       "      <th>Comments</th>\n",
       "    </tr>\n",
       "  </thead>\n",
       "  <tbody>\n",
       "    <tr>\n",
       "      <th>8</th>\n",
       "      <td>Chen Chen</td>\n",
       "      <td>Strengths: attention to detail, clinical skill...</td>\n",
       "    </tr>\n",
       "    <tr>\n",
       "      <th>16</th>\n",
       "      <td>Jaafar Abduo</td>\n",
       "      <td>Very good learning attitude</td>\n",
       "    </tr>\n",
       "    <tr>\n",
       "      <th>23</th>\n",
       "      <td>John Pearson</td>\n",
       "      <td>I have no real concerns regarding this student...</td>\n",
       "    </tr>\n",
       "  </tbody>\n",
       "</table>\n",
       "</div>"
      ],
      "text/plain": [
       "           Staff                                           Comments\n",
       "8      Chen Chen  Strengths: attention to detail, clinical skill...\n",
       "16  Jaafar Abduo                        Very good learning attitude\n",
       "23  John Pearson  I have no real concerns regarding this student..."
      ]
     },
     "metadata": {},
     "output_type": "display_data"
    },
    {
     "name": "stdout",
     "output_type": "stream",
     "text": [
      "Creating table for Reflect on the student's performance across the month - what are some strengths and areas you have identified for improvement.\n"
     ]
    },
    {
     "data": {
      "text/html": [
       "<div>\n",
       "<style scoped>\n",
       "    .dataframe tbody tr th:only-of-type {\n",
       "        vertical-align: middle;\n",
       "    }\n",
       "\n",
       "    .dataframe tbody tr th {\n",
       "        vertical-align: top;\n",
       "    }\n",
       "\n",
       "    .dataframe thead th {\n",
       "        text-align: right;\n",
       "    }\n",
       "</style>\n",
       "<table border=\"1\" class=\"dataframe\">\n",
       "  <thead>\n",
       "    <tr style=\"text-align: right;\">\n",
       "      <th></th>\n",
       "      <th>Staff</th>\n",
       "      <th>Comments</th>\n",
       "    </tr>\n",
       "  </thead>\n",
       "  <tbody>\n",
       "    <tr>\n",
       "      <th>8</th>\n",
       "      <td>Chen Chen</td>\n",
       "      <td>No</td>\n",
       "    </tr>\n",
       "    <tr>\n",
       "      <th>16</th>\n",
       "      <td>Jaafar Abduo</td>\n",
       "      <td>No</td>\n",
       "    </tr>\n",
       "    <tr>\n",
       "      <th>23</th>\n",
       "      <td>John Pearson</td>\n",
       "      <td>No</td>\n",
       "    </tr>\n",
       "  </tbody>\n",
       "</table>\n",
       "</div>"
      ],
      "text/plain": [
       "           Staff Comments\n",
       "8      Chen Chen       No\n",
       "16  Jaafar Abduo       No\n",
       "23  John Pearson       No"
      ]
     },
     "metadata": {},
     "output_type": "display_data"
    },
    {
     "name": "stdout",
     "output_type": "stream",
     "text": [
      "Creating table for Has a clinical incident occurred during this month while you were supervising this student?\n"
     ]
    },
    {
     "data": {
      "text/html": [
       "<div>\n",
       "<style scoped>\n",
       "    .dataframe tbody tr th:only-of-type {\n",
       "        vertical-align: middle;\n",
       "    }\n",
       "\n",
       "    .dataframe tbody tr th {\n",
       "        vertical-align: top;\n",
       "    }\n",
       "\n",
       "    .dataframe thead th {\n",
       "        text-align: right;\n",
       "    }\n",
       "</style>\n",
       "<table border=\"1\" class=\"dataframe\">\n",
       "  <thead>\n",
       "    <tr style=\"text-align: right;\">\n",
       "      <th></th>\n",
       "      <th>StartDate</th>\n",
       "      <th>EndDate</th>\n",
       "      <th>Status</th>\n",
       "      <th>IPAddress</th>\n",
       "      <th>Progress</th>\n",
       "      <th>Duration (in seconds)</th>\n",
       "      <th>Finished</th>\n",
       "      <th>RecordedDate</th>\n",
       "      <th>ResponseId</th>\n",
       "      <th>RecipientLastName</th>\n",
       "      <th>RecipientFirstName</th>\n",
       "      <th>RecipientEmail</th>\n",
       "      <th>ExternalReference</th>\n",
       "      <th>LocationLatitude</th>\n",
       "      <th>LocationLongitude</th>\n",
       "      <th>DistributionChannel</th>\n",
       "      <th>UserLanguage</th>\n",
       "      <th>Date</th>\n",
       "      <th>Student Name</th>\n",
       "      <th>Site</th>\n",
       "      <th>Staff</th>\n",
       "      <th>Q7_1</th>\n",
       "      <th>Q7_2</th>\n",
       "      <th>Q8_1</th>\n",
       "      <th>Q8_2</th>\n",
       "      <th>Q8_3</th>\n",
       "      <th>Q8_4</th>\n",
       "      <th>Q8_5</th>\n",
       "      <th>Q8_6</th>\n",
       "      <th>Q8_7</th>\n",
       "      <th>Q8_8</th>\n",
       "      <th>Q8_9</th>\n",
       "      <th>Q8_10</th>\n",
       "      <th>Q9_1</th>\n",
       "      <th>Q9_2</th>\n",
       "      <th>Q9_3</th>\n",
       "      <th>Q9_4</th>\n",
       "      <th>Q9_5</th>\n",
       "      <th>Q9_6</th>\n",
       "      <th>Q9_7</th>\n",
       "      <th>Q9_8</th>\n",
       "      <th>Q9_9</th>\n",
       "      <th>Q10</th>\n",
       "      <th>Critical incident</th>\n",
       "      <th>CI Details</th>\n",
       "      <th>Time management</th>\n",
       "      <th>Entrustment scale</th>\n",
       "      <th>#3</th>\n",
       "      <th>#2</th>\n",
       "      <th>#1</th>\n",
       "      <th>#nan</th>\n",
       "    </tr>\n",
       "  </thead>\n",
       "  <tbody>\n",
       "    <tr>\n",
       "      <th>14</th>\n",
       "      <td>2025-05-08 23:19:24</td>\n",
       "      <td>2025-05-08 23:27:22</td>\n",
       "      <td>IP Address</td>\n",
       "      <td>122.150.165.151</td>\n",
       "      <td>100</td>\n",
       "      <td>477</td>\n",
       "      <td>True</td>\n",
       "      <td>2025-05-08 23:27:24.293000</td>\n",
       "      <td>R_4rN71BbC9joY6Zf</td>\n",
       "      <td>NaN</td>\n",
       "      <td>NaN</td>\n",
       "      <td>NaN</td>\n",
       "      <td>NaN</td>\n",
       "      <td>-37.8186</td>\n",
       "      <td>145.1277</td>\n",
       "      <td>anonymous</td>\n",
       "      <td>EN</td>\n",
       "      <td>2025-05-08</td>\n",
       "      <td>Yusof Rashid</td>\n",
       "      <td>Royal Dental Hospital Melbourne RDHM</td>\n",
       "      <td>Chen Chen</td>\n",
       "      <td>2.0</td>\n",
       "      <td>1.0</td>\n",
       "      <td>2.0</td>\n",
       "      <td>2.0</td>\n",
       "      <td>1.0</td>\n",
       "      <td>1.0</td>\n",
       "      <td>2.0</td>\n",
       "      <td>1.0</td>\n",
       "      <td>1.0</td>\n",
       "      <td>1.0</td>\n",
       "      <td>1.0</td>\n",
       "      <td>1.0</td>\n",
       "      <td>2.0</td>\n",
       "      <td>2.0</td>\n",
       "      <td>3.0</td>\n",
       "      <td>3.0</td>\n",
       "      <td>3.0</td>\n",
       "      <td>4.0</td>\n",
       "      <td>2.0</td>\n",
       "      <td>3.0</td>\n",
       "      <td>4.0</td>\n",
       "      <td>Demonstrates a low level of clinical proficien...</td>\n",
       "      <td>No</td>\n",
       "      <td>NaN</td>\n",
       "      <td>Lvl 3: Completes clinical procedures in alloca...</td>\n",
       "      <td>Lvl 2: Student can be trusted to perform task ...</td>\n",
       "      <td>0</td>\n",
       "      <td>4</td>\n",
       "      <td>8</td>\n",
       "      <td>0</td>\n",
       "    </tr>\n",
       "    <tr>\n",
       "      <th>22</th>\n",
       "      <td>2025-05-09 14:07:02</td>\n",
       "      <td>2025-05-09 14:09:23</td>\n",
       "      <td>IP Address</td>\n",
       "      <td>128.250.0.112</td>\n",
       "      <td>100</td>\n",
       "      <td>140</td>\n",
       "      <td>True</td>\n",
       "      <td>2025-05-09 14:09:25.107000</td>\n",
       "      <td>R_9infL0LFnlm2XlF</td>\n",
       "      <td>NaN</td>\n",
       "      <td>NaN</td>\n",
       "      <td>NaN</td>\n",
       "      <td>NaN</td>\n",
       "      <td>-37.8024</td>\n",
       "      <td>144.9659</td>\n",
       "      <td>anonymous</td>\n",
       "      <td>EN</td>\n",
       "      <td>2025-05-09</td>\n",
       "      <td>Yusof Rashid</td>\n",
       "      <td>Melbourne Dental Clinic,Royal Dental Hospital ...</td>\n",
       "      <td>Jaafar Abduo</td>\n",
       "      <td>3.0</td>\n",
       "      <td>3.0</td>\n",
       "      <td>3.0</td>\n",
       "      <td>3.0</td>\n",
       "      <td>3.0</td>\n",
       "      <td>2.0</td>\n",
       "      <td>2.0</td>\n",
       "      <td>2.0</td>\n",
       "      <td>2.0</td>\n",
       "      <td>3.0</td>\n",
       "      <td>3.0</td>\n",
       "      <td>2.0</td>\n",
       "      <td>4.0</td>\n",
       "      <td>4.0</td>\n",
       "      <td>4.0</td>\n",
       "      <td>4.0</td>\n",
       "      <td>4.0</td>\n",
       "      <td>4.0</td>\n",
       "      <td>4.0</td>\n",
       "      <td>4.0</td>\n",
       "      <td>4.0</td>\n",
       "      <td>Noticeable improvements from last year. Yusof'...</td>\n",
       "      <td>No</td>\n",
       "      <td>NaN</td>\n",
       "      <td>Lvl 4: Manages time to complete simulation or ...</td>\n",
       "      <td>Lvl 3: Student can be trusted to perform task ...</td>\n",
       "      <td>7</td>\n",
       "      <td>5</td>\n",
       "      <td>0</td>\n",
       "      <td>0</td>\n",
       "    </tr>\n",
       "    <tr>\n",
       "      <th>27</th>\n",
       "      <td>2025-05-12 15:04:29</td>\n",
       "      <td>2025-05-12 15:10:02</td>\n",
       "      <td>IP Address</td>\n",
       "      <td>1.145.158.121</td>\n",
       "      <td>100</td>\n",
       "      <td>333</td>\n",
       "      <td>True</td>\n",
       "      <td>2025-05-12 15:10:04.135000</td>\n",
       "      <td>R_91vFpS8x1lJiR0g</td>\n",
       "      <td>NaN</td>\n",
       "      <td>NaN</td>\n",
       "      <td>NaN</td>\n",
       "      <td>NaN</td>\n",
       "      <td>-37.8335</td>\n",
       "      <td>145.0012</td>\n",
       "      <td>anonymous</td>\n",
       "      <td>EN</td>\n",
       "      <td>2025-05-12</td>\n",
       "      <td>Yusof Rashid</td>\n",
       "      <td>Royal Dental Hospital Melbourne RDHM</td>\n",
       "      <td>John Pearson</td>\n",
       "      <td>2.0</td>\n",
       "      <td>3.0</td>\n",
       "      <td>2.0</td>\n",
       "      <td>3.0</td>\n",
       "      <td>3.0</td>\n",
       "      <td>2.0</td>\n",
       "      <td>2.0</td>\n",
       "      <td>3.0</td>\n",
       "      <td>3.0</td>\n",
       "      <td>2.0</td>\n",
       "      <td>3.0</td>\n",
       "      <td>2.0</td>\n",
       "      <td>3.0</td>\n",
       "      <td>3.0</td>\n",
       "      <td>4.0</td>\n",
       "      <td>4.0</td>\n",
       "      <td>4.0</td>\n",
       "      <td>4.0</td>\n",
       "      <td>3.0</td>\n",
       "      <td>4.0</td>\n",
       "      <td>3.0</td>\n",
       "      <td>Has a comprehensive knowledge of prosthodontic...</td>\n",
       "      <td>No</td>\n",
       "      <td>NaN</td>\n",
       "      <td>Lvl 3: Completes clinical procedures in alloca...</td>\n",
       "      <td>Lvl 4: Student can be trusted to perform this ...</td>\n",
       "      <td>6</td>\n",
       "      <td>6</td>\n",
       "      <td>0</td>\n",
       "      <td>0</td>\n",
       "    </tr>\n",
       "  </tbody>\n",
       "</table>\n",
       "</div>"
      ],
      "text/plain": [
       "              StartDate              EndDate      Status        IPAddress  \\\n",
       "14  2025-05-08 23:19:24  2025-05-08 23:27:22  IP Address  122.150.165.151   \n",
       "22  2025-05-09 14:07:02  2025-05-09 14:09:23  IP Address    128.250.0.112   \n",
       "27  2025-05-12 15:04:29  2025-05-12 15:10:02  IP Address    1.145.158.121   \n",
       "\n",
       "   Progress Duration (in seconds) Finished                RecordedDate  \\\n",
       "14      100                   477     True  2025-05-08 23:27:24.293000   \n",
       "22      100                   140     True  2025-05-09 14:09:25.107000   \n",
       "27      100                   333     True  2025-05-12 15:10:04.135000   \n",
       "\n",
       "           ResponseId RecipientLastName RecipientFirstName RecipientEmail  \\\n",
       "14  R_4rN71BbC9joY6Zf               NaN                NaN            NaN   \n",
       "22  R_9infL0LFnlm2XlF               NaN                NaN            NaN   \n",
       "27  R_91vFpS8x1lJiR0g               NaN                NaN            NaN   \n",
       "\n",
       "   ExternalReference LocationLatitude LocationLongitude DistributionChannel  \\\n",
       "14               NaN         -37.8186          145.1277           anonymous   \n",
       "22               NaN         -37.8024          144.9659           anonymous   \n",
       "27               NaN         -37.8335          145.0012           anonymous   \n",
       "\n",
       "   UserLanguage        Date  Student Name  \\\n",
       "14           EN  2025-05-08  Yusof Rashid   \n",
       "22           EN  2025-05-09  Yusof Rashid   \n",
       "27           EN  2025-05-12  Yusof Rashid   \n",
       "\n",
       "                                                 Site         Staff  Q7_1  \\\n",
       "14               Royal Dental Hospital Melbourne RDHM     Chen Chen   2.0   \n",
       "22  Melbourne Dental Clinic,Royal Dental Hospital ...  Jaafar Abduo   3.0   \n",
       "27               Royal Dental Hospital Melbourne RDHM  John Pearson   2.0   \n",
       "\n",
       "    Q7_2  Q8_1  Q8_2  Q8_3  Q8_4  Q8_5  Q8_6  Q8_7  Q8_8  Q8_9  Q8_10  Q9_1  \\\n",
       "14   1.0   2.0   2.0   1.0   1.0   2.0   1.0   1.0   1.0   1.0    1.0   2.0   \n",
       "22   3.0   3.0   3.0   3.0   2.0   2.0   2.0   2.0   3.0   3.0    2.0   4.0   \n",
       "27   3.0   2.0   3.0   3.0   2.0   2.0   3.0   3.0   2.0   3.0    2.0   3.0   \n",
       "\n",
       "    Q9_2  Q9_3  Q9_4  Q9_5  Q9_6  Q9_7  Q9_8  Q9_9  \\\n",
       "14   2.0   3.0   3.0   3.0   4.0   2.0   3.0   4.0   \n",
       "22   4.0   4.0   4.0   4.0   4.0   4.0   4.0   4.0   \n",
       "27   3.0   4.0   4.0   4.0   4.0   3.0   4.0   3.0   \n",
       "\n",
       "                                                  Q10 Critical incident  \\\n",
       "14  Demonstrates a low level of clinical proficien...                No   \n",
       "22  Noticeable improvements from last year. Yusof'...                No   \n",
       "27  Has a comprehensive knowledge of prosthodontic...                No   \n",
       "\n",
       "   CI Details                                    Time management  \\\n",
       "14        NaN  Lvl 3: Completes clinical procedures in alloca...   \n",
       "22        NaN  Lvl 4: Manages time to complete simulation or ...   \n",
       "27        NaN  Lvl 3: Completes clinical procedures in alloca...   \n",
       "\n",
       "                                    Entrustment scale  #3  #2  #1  #nan  \n",
       "14  Lvl 2: Student can be trusted to perform task ...   0   4   8     0  \n",
       "22  Lvl 3: Student can be trusted to perform task ...   7   5   0     0  \n",
       "27  Lvl 4: Student can be trusted to perform this ...   6   6   0     0  "
      ]
     },
     "metadata": {},
     "output_type": "display_data"
    },
    {
     "data": {
      "text/plain": [
       "Q7_1\n",
       "2.0    2\n",
       "3.0    1\n",
       "Name: count, dtype: int64"
      ]
     },
     "metadata": {},
     "output_type": "display_data"
    },
    {
     "name": "stdout",
     "output_type": "stream",
     "text": [
      "['Completed with minimal assistance', 'Completed independently (competent)']\n"
     ]
    },
    {
     "data": {
      "text/plain": [
       "Completed with minimal assistance      2\n",
       "Completed independently (competent)    1\n",
       "Name: count, dtype: int64"
      ]
     },
     "metadata": {},
     "output_type": "display_data"
    },
    {
     "data": {
      "text/plain": [
       "Q7_2\n",
       "3.0    2\n",
       "1.0    1\n",
       "Name: count, dtype: int64"
      ]
     },
     "metadata": {},
     "output_type": "display_data"
    },
    {
     "name": "stdout",
     "output_type": "stream",
     "text": [
      "['Completed independently (competent)', 'Completed with substantial assistance']\n"
     ]
    },
    {
     "data": {
      "text/plain": [
       "Completed independently (competent)      2\n",
       "Completed with substantial assistance    1\n",
       "Name: count, dtype: int64"
      ]
     },
     "metadata": {},
     "output_type": "display_data"
    },
    {
     "data": {
      "text/plain": [
       "Q8_1\n",
       "2.0    2\n",
       "3.0    1\n",
       "Name: count, dtype: int64"
      ]
     },
     "metadata": {},
     "output_type": "display_data"
    },
    {
     "name": "stdout",
     "output_type": "stream",
     "text": [
      "['Completed with minimal assistance', 'Completed independently (competent)']\n"
     ]
    },
    {
     "data": {
      "text/plain": [
       "Completed with minimal assistance      2\n",
       "Completed independently (competent)    1\n",
       "Name: count, dtype: int64"
      ]
     },
     "metadata": {},
     "output_type": "display_data"
    },
    {
     "data": {
      "text/plain": [
       "Q8_2\n",
       "3.0    2\n",
       "2.0    1\n",
       "Name: count, dtype: int64"
      ]
     },
     "metadata": {},
     "output_type": "display_data"
    },
    {
     "name": "stdout",
     "output_type": "stream",
     "text": [
      "['Completed independently (competent)', 'Completed with minimal assistance']\n"
     ]
    },
    {
     "data": {
      "text/plain": [
       "Completed independently (competent)    2\n",
       "Completed with minimal assistance      1\n",
       "Name: count, dtype: int64"
      ]
     },
     "metadata": {},
     "output_type": "display_data"
    },
    {
     "data": {
      "text/plain": [
       "Q8_3\n",
       "3.0    2\n",
       "1.0    1\n",
       "Name: count, dtype: int64"
      ]
     },
     "metadata": {},
     "output_type": "display_data"
    },
    {
     "name": "stdout",
     "output_type": "stream",
     "text": [
      "['Completed independently (competent)', 'Completed with substantial assistance']\n"
     ]
    },
    {
     "data": {
      "text/plain": [
       "Completed independently (competent)      2\n",
       "Completed with substantial assistance    1\n",
       "Name: count, dtype: int64"
      ]
     },
     "metadata": {},
     "output_type": "display_data"
    },
    {
     "data": {
      "text/plain": [
       "Q8_4\n",
       "2.0    2\n",
       "1.0    1\n",
       "Name: count, dtype: int64"
      ]
     },
     "metadata": {},
     "output_type": "display_data"
    },
    {
     "name": "stdout",
     "output_type": "stream",
     "text": [
      "['Completed with minimal assistance', 'Completed with substantial assistance']\n"
     ]
    },
    {
     "data": {
      "text/plain": [
       "Completed with minimal assistance        2\n",
       "Completed with substantial assistance    1\n",
       "Name: count, dtype: int64"
      ]
     },
     "metadata": {},
     "output_type": "display_data"
    },
    {
     "data": {
      "text/plain": [
       "Q8_5\n",
       "2.0    3\n",
       "Name: count, dtype: int64"
      ]
     },
     "metadata": {},
     "output_type": "display_data"
    },
    {
     "name": "stdout",
     "output_type": "stream",
     "text": [
      "['Completed with minimal assistance']\n"
     ]
    },
    {
     "data": {
      "text/plain": [
       "Completed with minimal assistance    3\n",
       "Name: count, dtype: int64"
      ]
     },
     "metadata": {},
     "output_type": "display_data"
    },
    {
     "data": {
      "text/plain": [
       "Q8_6\n",
       "1.0    1\n",
       "2.0    1\n",
       "3.0    1\n",
       "Name: count, dtype: int64"
      ]
     },
     "metadata": {},
     "output_type": "display_data"
    },
    {
     "name": "stdout",
     "output_type": "stream",
     "text": [
      "['Completed with substantial assistance', 'Completed with minimal assistance', 'Completed independently (competent)']\n"
     ]
    },
    {
     "data": {
      "text/plain": [
       "Completed with substantial assistance    1\n",
       "Completed with minimal assistance        1\n",
       "Completed independently (competent)      1\n",
       "Name: count, dtype: int64"
      ]
     },
     "metadata": {},
     "output_type": "display_data"
    },
    {
     "data": {
      "text/plain": [
       "Q8_7\n",
       "1.0    1\n",
       "2.0    1\n",
       "3.0    1\n",
       "Name: count, dtype: int64"
      ]
     },
     "metadata": {},
     "output_type": "display_data"
    },
    {
     "name": "stdout",
     "output_type": "stream",
     "text": [
      "['Completed with substantial assistance', 'Completed with minimal assistance', 'Completed independently (competent)']\n"
     ]
    },
    {
     "data": {
      "text/plain": [
       "Completed with substantial assistance    1\n",
       "Completed with minimal assistance        1\n",
       "Completed independently (competent)      1\n",
       "Name: count, dtype: int64"
      ]
     },
     "metadata": {},
     "output_type": "display_data"
    },
    {
     "data": {
      "text/plain": [
       "Q8_8\n",
       "1.0    1\n",
       "3.0    1\n",
       "2.0    1\n",
       "Name: count, dtype: int64"
      ]
     },
     "metadata": {},
     "output_type": "display_data"
    },
    {
     "name": "stdout",
     "output_type": "stream",
     "text": [
      "['Completed with substantial assistance', 'Completed independently (competent)', 'Completed with minimal assistance']\n"
     ]
    },
    {
     "data": {
      "text/plain": [
       "Completed with substantial assistance    1\n",
       "Completed independently (competent)      1\n",
       "Completed with minimal assistance        1\n",
       "Name: count, dtype: int64"
      ]
     },
     "metadata": {},
     "output_type": "display_data"
    },
    {
     "data": {
      "text/plain": [
       "Q8_9\n",
       "3.0    2\n",
       "1.0    1\n",
       "Name: count, dtype: int64"
      ]
     },
     "metadata": {},
     "output_type": "display_data"
    },
    {
     "name": "stdout",
     "output_type": "stream",
     "text": [
      "['Completed independently (competent)', 'Completed with substantial assistance']\n"
     ]
    },
    {
     "data": {
      "text/plain": [
       "Completed independently (competent)      2\n",
       "Completed with substantial assistance    1\n",
       "Name: count, dtype: int64"
      ]
     },
     "metadata": {},
     "output_type": "display_data"
    },
    {
     "data": {
      "text/plain": [
       "Q8_10\n",
       "2.0    2\n",
       "1.0    1\n",
       "Name: count, dtype: int64"
      ]
     },
     "metadata": {},
     "output_type": "display_data"
    },
    {
     "name": "stdout",
     "output_type": "stream",
     "text": [
      "['Completed with minimal assistance', 'Completed with substantial assistance']\n"
     ]
    },
    {
     "data": {
      "text/plain": [
       "Completed with minimal assistance        2\n",
       "Completed with substantial assistance    1\n",
       "Name: count, dtype: int64"
      ]
     },
     "metadata": {},
     "output_type": "display_data"
    },
    {
     "data": {
      "text/plain": [
       "Q9_1\n",
       "2.0    1\n",
       "4.0    1\n",
       "3.0    1\n",
       "Name: count, dtype: int64"
      ]
     },
     "metadata": {},
     "output_type": "display_data"
    },
    {
     "name": "stdout",
     "output_type": "stream",
     "text": [
      "['SOMETIMES', 'ALWAYS', 'OFTEN']\n"
     ]
    },
    {
     "data": {
      "text/plain": [
       "SOMETIMES    1\n",
       "ALWAYS       1\n",
       "OFTEN        1\n",
       "Name: count, dtype: int64"
      ]
     },
     "metadata": {},
     "output_type": "display_data"
    },
    {
     "data": {
      "text/plain": [
       "Q9_2\n",
       "2.0    1\n",
       "4.0    1\n",
       "3.0    1\n",
       "Name: count, dtype: int64"
      ]
     },
     "metadata": {},
     "output_type": "display_data"
    },
    {
     "name": "stdout",
     "output_type": "stream",
     "text": [
      "['SOMETIMES', 'ALWAYS', 'OFTEN']\n"
     ]
    },
    {
     "data": {
      "text/plain": [
       "SOMETIMES    1\n",
       "ALWAYS       1\n",
       "OFTEN        1\n",
       "Name: count, dtype: int64"
      ]
     },
     "metadata": {},
     "output_type": "display_data"
    },
    {
     "data": {
      "text/plain": [
       "Q9_3\n",
       "4.0    2\n",
       "3.0    1\n",
       "Name: count, dtype: int64"
      ]
     },
     "metadata": {},
     "output_type": "display_data"
    },
    {
     "name": "stdout",
     "output_type": "stream",
     "text": [
      "['ALWAYS', 'OFTEN']\n"
     ]
    },
    {
     "data": {
      "text/plain": [
       "ALWAYS    2\n",
       "OFTEN     1\n",
       "Name: count, dtype: int64"
      ]
     },
     "metadata": {},
     "output_type": "display_data"
    },
    {
     "data": {
      "text/plain": [
       "Q9_4\n",
       "4.0    2\n",
       "3.0    1\n",
       "Name: count, dtype: int64"
      ]
     },
     "metadata": {},
     "output_type": "display_data"
    },
    {
     "name": "stdout",
     "output_type": "stream",
     "text": [
      "['ALWAYS', 'OFTEN']\n"
     ]
    },
    {
     "data": {
      "text/plain": [
       "ALWAYS    2\n",
       "OFTEN     1\n",
       "Name: count, dtype: int64"
      ]
     },
     "metadata": {},
     "output_type": "display_data"
    },
    {
     "data": {
      "text/plain": [
       "Q9_5\n",
       "4.0    2\n",
       "3.0    1\n",
       "Name: count, dtype: int64"
      ]
     },
     "metadata": {},
     "output_type": "display_data"
    },
    {
     "name": "stdout",
     "output_type": "stream",
     "text": [
      "['ALWAYS', 'OFTEN']\n"
     ]
    },
    {
     "data": {
      "text/plain": [
       "ALWAYS    2\n",
       "OFTEN     1\n",
       "Name: count, dtype: int64"
      ]
     },
     "metadata": {},
     "output_type": "display_data"
    },
    {
     "data": {
      "text/plain": [
       "Q9_6\n",
       "4.0    3\n",
       "Name: count, dtype: int64"
      ]
     },
     "metadata": {},
     "output_type": "display_data"
    },
    {
     "name": "stdout",
     "output_type": "stream",
     "text": [
      "['ALWAYS']\n"
     ]
    },
    {
     "data": {
      "text/plain": [
       "ALWAYS    3\n",
       "Name: count, dtype: int64"
      ]
     },
     "metadata": {},
     "output_type": "display_data"
    },
    {
     "data": {
      "text/plain": [
       "Q9_7\n",
       "2.0    1\n",
       "4.0    1\n",
       "3.0    1\n",
       "Name: count, dtype: int64"
      ]
     },
     "metadata": {},
     "output_type": "display_data"
    },
    {
     "name": "stdout",
     "output_type": "stream",
     "text": [
      "['SOMETIMES', 'ALWAYS', 'OFTEN']\n"
     ]
    },
    {
     "data": {
      "text/plain": [
       "SOMETIMES    1\n",
       "ALWAYS       1\n",
       "OFTEN        1\n",
       "Name: count, dtype: int64"
      ]
     },
     "metadata": {},
     "output_type": "display_data"
    },
    {
     "data": {
      "text/plain": [
       "Q9_8\n",
       "4.0    2\n",
       "3.0    1\n",
       "Name: count, dtype: int64"
      ]
     },
     "metadata": {},
     "output_type": "display_data"
    },
    {
     "name": "stdout",
     "output_type": "stream",
     "text": [
      "['ALWAYS', 'OFTEN']\n"
     ]
    },
    {
     "data": {
      "text/plain": [
       "ALWAYS    2\n",
       "OFTEN     1\n",
       "Name: count, dtype: int64"
      ]
     },
     "metadata": {},
     "output_type": "display_data"
    },
    {
     "data": {
      "text/plain": [
       "Q9_9\n",
       "4.0    2\n",
       "3.0    1\n",
       "Name: count, dtype: int64"
      ]
     },
     "metadata": {},
     "output_type": "display_data"
    },
    {
     "name": "stdout",
     "output_type": "stream",
     "text": [
      "['ALWAYS', 'OFTEN']\n"
     ]
    },
    {
     "data": {
      "text/plain": [
       "ALWAYS    2\n",
       "OFTEN     1\n",
       "Name: count, dtype: int64"
      ]
     },
     "metadata": {},
     "output_type": "display_data"
    },
    {
     "data": {
      "text/html": [
       "<div>\n",
       "<style scoped>\n",
       "    .dataframe tbody tr th:only-of-type {\n",
       "        vertical-align: middle;\n",
       "    }\n",
       "\n",
       "    .dataframe tbody tr th {\n",
       "        vertical-align: top;\n",
       "    }\n",
       "\n",
       "    .dataframe thead th {\n",
       "        text-align: right;\n",
       "    }\n",
       "</style>\n",
       "<table border=\"1\" class=\"dataframe\">\n",
       "  <thead>\n",
       "    <tr style=\"text-align: right;\">\n",
       "      <th></th>\n",
       "      <th>Staff</th>\n",
       "      <th>Comments</th>\n",
       "    </tr>\n",
       "  </thead>\n",
       "  <tbody>\n",
       "    <tr>\n",
       "      <th>14</th>\n",
       "      <td>Chen Chen</td>\n",
       "      <td>Demonstrates a low level of clinical proficien...</td>\n",
       "    </tr>\n",
       "    <tr>\n",
       "      <th>22</th>\n",
       "      <td>Jaafar Abduo</td>\n",
       "      <td>Noticeable improvements from last year. Yusof'...</td>\n",
       "    </tr>\n",
       "    <tr>\n",
       "      <th>27</th>\n",
       "      <td>John Pearson</td>\n",
       "      <td>Has a comprehensive knowledge of prosthodontic...</td>\n",
       "    </tr>\n",
       "  </tbody>\n",
       "</table>\n",
       "</div>"
      ],
      "text/plain": [
       "           Staff                                           Comments\n",
       "14     Chen Chen  Demonstrates a low level of clinical proficien...\n",
       "22  Jaafar Abduo  Noticeable improvements from last year. Yusof'...\n",
       "27  John Pearson  Has a comprehensive knowledge of prosthodontic..."
      ]
     },
     "metadata": {},
     "output_type": "display_data"
    },
    {
     "name": "stdout",
     "output_type": "stream",
     "text": [
      "Creating table for Reflect on the student's performance across the month - what are some strengths and areas you have identified for improvement.\n"
     ]
    },
    {
     "data": {
      "text/html": [
       "<div>\n",
       "<style scoped>\n",
       "    .dataframe tbody tr th:only-of-type {\n",
       "        vertical-align: middle;\n",
       "    }\n",
       "\n",
       "    .dataframe tbody tr th {\n",
       "        vertical-align: top;\n",
       "    }\n",
       "\n",
       "    .dataframe thead th {\n",
       "        text-align: right;\n",
       "    }\n",
       "</style>\n",
       "<table border=\"1\" class=\"dataframe\">\n",
       "  <thead>\n",
       "    <tr style=\"text-align: right;\">\n",
       "      <th></th>\n",
       "      <th>Staff</th>\n",
       "      <th>Comments</th>\n",
       "    </tr>\n",
       "  </thead>\n",
       "  <tbody>\n",
       "    <tr>\n",
       "      <th>14</th>\n",
       "      <td>Chen Chen</td>\n",
       "      <td>No</td>\n",
       "    </tr>\n",
       "    <tr>\n",
       "      <th>22</th>\n",
       "      <td>Jaafar Abduo</td>\n",
       "      <td>No</td>\n",
       "    </tr>\n",
       "    <tr>\n",
       "      <th>27</th>\n",
       "      <td>John Pearson</td>\n",
       "      <td>No</td>\n",
       "    </tr>\n",
       "  </tbody>\n",
       "</table>\n",
       "</div>"
      ],
      "text/plain": [
       "           Staff Comments\n",
       "14     Chen Chen       No\n",
       "22  Jaafar Abduo       No\n",
       "27  John Pearson       No"
      ]
     },
     "metadata": {},
     "output_type": "display_data"
    },
    {
     "name": "stdout",
     "output_type": "stream",
     "text": [
      "Creating table for Has a clinical incident occurred during this month while you were supervising this student?\n"
     ]
    }
   ],
   "source": [
    "# workbookpath = '2024\\DCD\\Postgraduate Clinical Evaluation Paeds_March 14, 2025_13.24.xlsx'\n",
    "# workbookpath = '2025\\DCD\\Paeds\\Postgraduate Clinical Evaluation Paeds - 2025_April 10, 2025_12.29.xlsx'\n",
    "workbookpath = '2025\\DCD\\Oral Med\\Postgraduate Clinical Evaluation - DCD in Oral Medicine_May 15, 2025_14.31.xlsx'\n",
    "workbookpath =  '2025\\DCD\\Prostho\\Postgraduate Clinical Evaluation - DCD in Prosthodontics_May 15, 2025_14.32.xlsx'\n",
    "folder, file, ext = getFolderandFileName(workbookpath)\n",
    "df = pd.read_excel(workbookpath)\n",
    "fullnamedict = {df.columns[i]: df.iloc[0, i] for i in range(len(df.columns))}\n",
    "df = df[1:]\n",
    "colName = 'Student Name'\n",
    "# mccols are with Q\\d+_\\d+ pattern\n",
    "mcCols = [col for col in df.columns if re.match(r'Q\\d+_\\d+', col)]\n",
    "mcColIdentifier = 'Q9'\n",
    "# remove \n",
    "generalCols = [col for col in mcCols if mcColIdentifier in col]\n",
    "mcCols = [col for col in mcCols if mcColIdentifier not in col]\n",
    "print(mcCols)\n",
    "colDate = 'Date'\n",
    "extraCols = ['Time management', 'Entrustment scale']\n",
    "\n",
    "commentCol1 = 'Q10'\n",
    "commentCol2 = 'Critical incident'\n",
    "finalgradedict = {'Far exceeds expected level of performance considering stage of training: H1 (80-100)':5, 'Exceeds expected level of performance considering stage of training: H 2A (75-79) and B (70-74)':4, \n",
    "                  'At expected level of performance considering stage of training: H3 (65-69)':3, 'Barely meets expected level of performance considering stage of training: P (50-64)':2,\n",
    "                  'Does not meet expected level of performance considering stage of training: N (0-49)':1, 'No basis for evaluation':np.nan, 'Clinical rotation not completed':np.nan, 'Not applicable':np.nan}\n",
    "colorlegendfinal = {'Far exceeds expected level of performance considering stage of training: H1 (80-100)':'#4c72b0', 'Exceeds expected level of performance considering stage of training: H 2A (75-79) and B (70-74)':'#55a868',\n",
    "                    'At expected level of performance considering stage of training: H3 (65-69)':'#e07a5f', 'Barely meets expected level of performance considering stage of training: P (50-64)':'#f9c74f',\n",
    "                    'Does not meet expected level of performance considering stage of training: N (0-49)':'#993f14', 'Clinical rotation not completed':'gray'}\n",
    "# colFinalGrade = 'Q22'\n",
    "# df[colFinalGrade] = df[colFinalGrade].replace(finalgradedict)\n",
    "# df[colFinalGrade] = df[colFinalGrade].astype(float)\n",
    "mcgradedict = {'Completed with substantial assistance':1, 'Completed with minimal assistance':2, 'Completed independently (competent)':3, 'No basis for evaluation': np.nan}\n",
    "generalgradedict = {'ALWAYS': 4, 'OFTEN': 3, 'SOMETIMES': 2, 'RARELY': 1, 'NEVER': 0, 'Not graded': np.nan}\n",
    "# create color legend dictionary\n",
    "colorlegendmc = {'Completed with substantial assistance': '#e07a5f', 'Completed with minimal assistance': '#55a868', 'Completed independently (competent)': '#4c72b0', 'No basis for evaluation': 'gray',\n",
    "              }\n",
    "colorlegendgeneral =  {'ALWAYS': '#4c72b0', 'OFTEN': '#55a868', 'SOMETIMES': '#e07a5f', 'RARELY': '#f9c74f', 'NEVER': '#993f14', 'Not graded': 'gray'}\n",
    "reversemcgradedict = {v:k for k, v in mcgradedict.items()}\n",
    "referencedf = pd.DataFrame(reversemcgradedict.items(), columns=['Grade', 'Description'])\n",
    "# drop nan values from grade column\n",
    "referencedf.dropna(inplace=True)\n",
    "referencedf['Grade'] = referencedf['Grade'].astype(int)\n",
    "referencedf.sort_values(by='Grade', inplace=True)\n",
    "referencetable = createTable(referencedf, 'Score reference', [1, 5], customTextCols=[1])\n",
    "df[mcCols] = df[mcCols].replace(mcgradedict)\n",
    "df[colDate] = pd.to_datetime(df[colDate], format = 'mixed')\n",
    "df.sort_values(by=[colName, colDate], inplace=True)\n",
    "df[colDate] = df[colDate].dt.date\n",
    "df[colDate] = df[colDate].astype(str)\n",
    "df[mcCols] = df[mcCols].astype(float)\n",
    "\n",
    "# count the number of each scores for each student\n",
    "df['#3'] = df[mcCols].apply(lambda x: x.value_counts().get(3, 0), axis=1)\n",
    "df['#2'] = df[mcCols].apply(lambda x: x.value_counts().get(2, 0), axis=1)\n",
    "df['#1'] = df[mcCols].apply(lambda x: x.value_counts().get(1, 0), axis=1)\n",
    "df['#nan'] = df[mcCols].apply(lambda x: pd.isna(x)).sum(axis=1)\n",
    "\n",
    "df[generalCols] = df[generalCols].replace(generalgradedict)\n",
    "# display(df.head())\n",
    "\n",
    "students = df[colName].unique()\n",
    "\n",
    "# for student in students:\n",
    "def getReport(student):\n",
    "    elements = []\n",
    "    elements.append(Paragraph(f'{student}', style = headingStyle))\n",
    "    elements.append(Spacer(1, 36))\n",
    "    # elements.append(Paragraph(f'Number of forms: {len(df[df[colName] == student])}', style = subheadingStyle))\n",
    "    # elements.append(Spacer(1, 12))\n",
    "    elements.append(Paragraph('Marking Checklists', style = subheadingStyle))\n",
    "    elements.append(Spacer(1, 12))\n",
    "    elements.append(referencetable)\n",
    "    elements.append(Spacer(1, 24))\n",
    "    studentdf = df[df[colName] == student]\n",
    "    display(studentdf.head())\n",
    "    elements.append(Paragraph(f'Number of forms: {len(studentdf)}', style = subsubheadingStyle))\n",
    "    elements.append(Spacer(1, 24))\n",
    "    # plot time series of scores for each mc question ignoring the nan values\n",
    "    for col in mcCols:\n",
    "        fig, ax = plt.subplots(1,2, figsize=(30, 5))\n",
    "        xy = studentdf[[colDate, col]].dropna()\n",
    "        # aggregate the scores for each date by taking the mean\n",
    "        xy = xy.groupby(colDate).mean().reset_index()\n",
    "        display(xy.head())\n",
    "        ax[0].plot(xy[colDate], xy[col], marker='o', color='blue')\n",
    "        title = fullnamedict[col].split(' - ')[-1]\n",
    "        ax[0].set_xticklabels(ax[0].get_xticklabels(), rotation=90, ha='right')\n",
    "        ax[0].yaxis.set_major_locator(plt.MaxNLocator(integer=True))\n",
    "        ax[0].set_title('Time Series of Scores')\n",
    "        plt.grid('--', alpha=0.5)\n",
    "        ax[0].set_ylim(0, 3.5)\n",
    "\n",
    "        valuecounts = studentdf[col].value_counts(dropna=False)\n",
    "        # valuecounts.index = valuecounts.index.astype(int)\n",
    "        valuecounts.index = [k for k, v in mcgradedict.items() if v in valuecounts.index]\n",
    "        total = valuecounts.sum()\n",
    "        colors = [colorlegend.get(k, 'black') for k in valuecounts.index]\n",
    "        ax[1].pie(valuecounts, labels=valuecounts.index, autopct= lambda x: autopct(x, total), colors=colors)\n",
    "        ax[1].set_title('Distribution of Scores')\n",
    "        wrappedTitle = \"\\n\".join(textwrap.wrap(fullnamedict[col].split(' - ')[-1], width=80))  # Adjust width as needed\n",
    "        # plt.suptitle(wrappedTitle)\n",
    "        img = addPlotImage(fig, 0.9)\n",
    "        smallsubsubheadingStyle = ParagraphStyle('Heading3', parent=styles['Heading3'], fontSize=13, alignment=1)\n",
    "        elements.append(KeepTogether([Paragraph(wrappedTitle, style = smallsubsubheadingStyle), Spacer(1, 12), img]))\n",
    "        # elements.append(img)\n",
    "        elements.append(Spacer(1, 24))\n",
    "        plt.close(fig)\n",
    "    \n",
    "    elements.append(PageBreak())\n",
    "    # plot time series of scores for each general question ignoring the nan values\n",
    "    for col in generalCols:\n",
    "        fig, ax = plt.subplots(1,2, figsize=(30, 5))\n",
    "        xy = studentdf[[colDate, col]].dropna()\n",
    "        # aggregate the scores for each date by taking the mean\n",
    "        xy = xy.groupby(colDate).mean().reset_index()\n",
    "        display(xy.head())\n",
    "        ax[0].plot(xy[colDate], xy[col], marker='o', color='blue')\n",
    "        title = fullnamedict[col].split(' - ')[-1]\n",
    "        ax[0].set_xticklabels(ax[0].get_xticklabels(), rotation=90, ha='right')\n",
    "        ax[0].yaxis.set_major_locator(plt.MaxNLocator(integer=True))\n",
    "        ax[0].set_title('Time Series of Scores')\n",
    "        plt.grid('--', alpha=0.5)\n",
    "        ax[0].set_ylim(0, 4.5)\n",
    "\n",
    "        valuecounts = studentdf[col].value_counts(dropna=False)\n",
    "        # valuecounts.index = valuecounts.index.astype(int)\n",
    "        valuecounts.index = [k for k, v in generalgradedict.items() if v in valuecounts.index]\n",
    "        total = valuecounts.sum()\n",
    "        colors = [colorlegend.get(k, 'black') for k in valuecounts.index]\n",
    "        ax[1].pie(valuecounts, labels=valuecounts.index, autopct= lambda x: autopct(x, total), colors=colors)\n",
    "        ax[1].set_title('Distribution of Scores')\n",
    "        wrappedTitle = \"\\n\".join(textwrap.wrap(fullnamedict[col].split(' - ')[-1], width=80))\n",
    "        # plt.suptitle(wrappedTitle)\n",
    "        img = addPlotImage(fig, 0.9)\n",
    "        smallsubsubheadingStyle = ParagraphStyle('Heading3', parent=styles['Heading3'], fontSize=13, alignment=1)\n",
    "        elements.append(KeepTogether([Paragraph(wrappedTitle, style = smallsubsubheadingStyle), Spacer(1, 12), img]))\n",
    "        # elements.append(img)\n",
    "        elements.append(Spacer(1, 24))\n",
    "        plt.close(fig)\n",
    "\n",
    "    elements.append(PageBreak())\n",
    "\n",
    "    elements.append(Paragraph('Final Grades', style = headingStyle))\n",
    "    elements.append(Spacer(1, 36))\n",
    "    reversefinalgradedict = {v:k for k, v in finalgradedict.items()}\n",
    "    refdf2 = pd.DataFrame(reversefinalgradedict.items(), columns=['Grade', 'Description'])\n",
    "    refdf2.dropna(inplace=True)\n",
    "    refdf2['Grade'] = refdf2['Grade'].astype(int)\n",
    "    # drop nan values from grade column\n",
    "\n",
    "    refdf2.sort_values(by='Grade', inplace=True)\n",
    "    refTable2 = createTable(refdf2, 'Final Grade Reference', [1, 5], customTextCols=[1])\n",
    "    elements.append(refTable2)\n",
    "    elements.append(Spacer(1, 24))\n",
    "    # plot time series of final grades\n",
    "    fig, ax = plt.subplots(1,1, figsize=(30, 5))\n",
    "    xy = studentdf[[colDate, colFinalGrade]].dropna()\n",
    "    xy = xy.groupby(colDate).mean().reset_index()     # aggregate the scores for each date by taking the mean\n",
    "    ax.plot(xy[colDate], xy[colFinalGrade])\n",
    "    title = 'Final Grade Time Series'\n",
    "    ax.set_xticklabels(ax.get_xticklabels(), rotation=90, ha='right')\n",
    "    ax.yaxis.set_major_locator(plt.MaxNLocator(integer=True))     # integer ticks on y axis\n",
    "    ax.set_ylim(0, 5)\n",
    "    ax.set_title(title)\n",
    "    plt.grid('--', alpha=0.5)\n",
    "    img = addPlotImage(fig, 0.9)\n",
    "    elements.append(img)\n",
    "    plt.close(fig)\n",
    "    elements.append(Spacer(1, 36))\n",
    "    \n",
    "    # pie chart of final grades\n",
    "    fig, ax = plt.subplots(1,1, figsize=(10, 10))\n",
    "    xy = studentdf[colFinalGrade].dropna()\n",
    "    xy = xy.value_counts()\n",
    "    total = xy.sum()\n",
    "    xy = xy.sort_index()\n",
    "    xy.index = [k for k, v in finalgradedict.items() if v in xy.index]     # labels based on finalgradedict\n",
    "    ax.pie(xy, labels=xy.index, autopct= lambda x: autopct(x, total))\n",
    "    title = 'Final Grade Distribution'\n",
    "    ax.set_title(title)\n",
    "    \n",
    "    img = addPlotImage(fig, 0.9)\n",
    "    elements.append(img)\n",
    "    plt.close(fig)\n",
    "\n",
    "    # time series of number of each score\n",
    "    fig, ax = plt.subplots(1, 1, figsize=(30, 10))\n",
    "    xy = studentdf[[colDate, '#3', '#2', '#1', '#nan']].dropna()\n",
    "    xy = xy.groupby(colDate).sum().reset_index()\n",
    "    xy.set_index(colDate, inplace=True)\n",
    "    xy.plot(kind='bar', stacked=True, color=['blue', 'green', 'orange', 'gray'], ax=ax)\n",
    "    ax.set_xticklabels(ax.get_xticklabels(), rotation=90, ha='right')\n",
    "    ax.yaxis.set_major_locator(plt.MaxNLocator(integer=True))\n",
    "    ax.set_title('Stacked Bar Chart of Number of Each Score')\n",
    "    ax.legend(title='Scores')\n",
    "    plt.grid('--', alpha=0.5)\n",
    "        # ax[i].set_ylim(0, 5)\n",
    "    img = addPlotImage(fig, 0.9)\n",
    "    elements.append(KeepTogether([Paragraph('Counts of Each Score', style = subheadingStyle), Spacer(1, 12), img]))\n",
    "    plt.close(fig)\n",
    "    elements.append(PageBreak())\n",
    "\n",
    "    savefolder = f'{folder}/studentReports'\n",
    "    os.makedirs(savefolder, exist_ok=True)\n",
    "    doc= SimpleDocTemplate(f'{savefolder}/{student}.pdf', pagesize=pageSize, rightMargin=rightMargin, leftMargin=leftMargin, topMargin=topMargin, bottomMargin=bottomMargin)\n",
    "    doc.build(elements)\n",
    "\n",
    "def chunkList(lst, size):\n",
    "    for i in range(0, len(lst), size):\n",
    "        yield lst[i:i+size]\n",
    "\n",
    "\n",
    "def createPieCharts(mcCols, n, mcgradedict, colorlegend, elements, studentdf, fullnamedict):\n",
    "    for groupIndex, mcChunk in enumerate(chunkList(mcCols, n)):\n",
    "        fig, axes = plt.subplots(3, 2, figsize=(figSize[0], figSize[1]))\n",
    "        fig.subplots_adjust(hspace=0.4, wspace=0.3)\n",
    "        axes = axes.flatten()\n",
    "        for idx, col in enumerate(mcChunk):\n",
    "            ax = axes[idx]\n",
    "            yTitle = 1.3\n",
    "            faceColor = '#f2f2f2'  # background shading\n",
    "            # add frame\n",
    "            framePadding = 0.02\n",
    "            bbox = ax.get_position()\n",
    "            # Calculate extended box\n",
    "            x0 = bbox.x0 - 2 * framePadding\n",
    "            y0 = bbox.y0 - framePadding\n",
    "            width = bbox.width + 4 * framePadding\n",
    "            height = bbox.height + (yTitle - 1.23) + framePadding  # 1.0 is top of axes\n",
    "\n",
    "            # Draw rectangle in figure space\n",
    "            rect = Rectangle(\n",
    "                (x0, y0), width, height,\n",
    "                linewidth=1,\n",
    "                edgecolor='black',\n",
    "                facecolor=faceColor,\n",
    "                transform=fig.transFigure,\n",
    "                zorder=-5\n",
    "            )\n",
    "            fig.patches.append(rect)\n",
    "\n",
    "\n",
    "            valuecounts = studentdf[col].value_counts(dropna=False)   \n",
    "            display(valuecounts) \n",
    "            newkeys = []\n",
    "            for v in valuecounts.index:\n",
    "                for k, val in mcgradedict.items():\n",
    "                    if (pd.isna(v) and pd.isna(val)) or (v == val):\n",
    "                        newkeys.append(k)\n",
    "                        break\n",
    "            print(newkeys)\n",
    "\n",
    "            valuecounts.index = newkeys\n",
    "            total = valuecounts.sum()\n",
    "            display(valuecounts)\n",
    "            colors = [colorlegend.get(k, 'black') for k in valuecounts.index]\n",
    "            \n",
    "            # create pie without labels\n",
    "            wedges, _, autotexts = ax.pie(\n",
    "                valuecounts,\n",
    "                labels=None,\n",
    "                autopct=lambda x: autopct(x, total),\n",
    "                colors=colors,\n",
    "                textprops={'fontsize': 7}\n",
    "            )\n",
    "            \n",
    "\n",
    "            title = textwrap.fill(fullnamedict[col].split(' - ')[-1], width=55)  # Adjust width as needed\n",
    "            # ax.set_title(title, fontsize=9)\n",
    "            ax.text(0.5, yTitle, title, ha='center', va='top', fontsize=8, transform=ax.transAxes, wrap=True)\n",
    "\n",
    "\n",
    "            # Add legend to bottom-left of figure\n",
    "            legendHandles = [\n",
    "                plt.Line2D([0], [0], marker='o', color='w', label=label,\n",
    "                        markerfacecolor=color, markersize=8)\n",
    "                for label, color in colorlegend.items()\n",
    "            ]\n",
    "\n",
    "            fig.legend(\n",
    "                handles=legendHandles,\n",
    "                loc='upper left',\n",
    "                bbox_to_anchor=(0.09, 1.03),\n",
    "                fontsize=8\n",
    "            )\n",
    "\n",
    "        # Hide unused subplots\n",
    "        for j in range(len(mcChunk), n):\n",
    "            axes[j].axis('off')\n",
    "\n",
    "\n",
    "        # Save or display\n",
    "        img = addPlotImage(fig, 0.9)\n",
    "        # elements.append(KeepTogether([Paragraph(f\"Batch {groupIndex+1} Pie Charts\", smallsubsubheadingStyle), Spacer(1, 12), img]))\n",
    "        elements.append(KeepTogether([img]))\n",
    "        elements.append(Spacer(1, 24))\n",
    "        plt.close(fig)\n",
    "    \n",
    "    # elements.append(PageBreak())\n",
    "def getReportType2(student): # only plot the pie charts for each mc question, general question and final grade\n",
    "    elements = []\n",
    "    elements.append(Paragraph(f'{student}', style = subheadingStyle))\n",
    "    elements.append(Spacer(1, 24))\n",
    "    studentdf = df[df[colName] == student]\n",
    "    display(studentdf.head())\n",
    "    elements.append(Paragraph(f'Number of forms: {len(studentdf)}', style = tableTextStyleLarge))\n",
    "    elements.append(Spacer(1, 24))\n",
    "    # plot mc question ignoring the nan values\n",
    "    n = 6\n",
    "    createPieCharts(mcCols, n, mcgradedict, colorlegendmc, elements, studentdf, fullnamedict)\n",
    "    elements.append(PageBreak())\n",
    "\n",
    "    # plot general question ignoring the nan values\n",
    "    createPieCharts(generalCols, n, generalgradedict, colorlegendgeneral, elements, studentdf, fullnamedict)\n",
    "    elements.append(PageBreak())\n",
    "\n",
    "\n",
    "    # # plot final grade ignoring the nan values\n",
    "    # elements.append(Paragraph('Final Grades', style = subsubheadingStyle))\n",
    "    # elements.append(Spacer(1, 24))\n",
    "    # reversefinalgradedict = {v:k for k, v in finalgradedict.items()}\n",
    "    # refdf2 = pd.DataFrame(reversefinalgradedict.items(), columns=['Grade', 'Description'])\n",
    "    # refdf2.dropna(inplace=True)\n",
    "    # refdf2['Grade'] = refdf2['Grade'].astype(int)\n",
    "    # # drop nan values from grade column\n",
    "\n",
    "    # refdf2.sort_values(by='Grade', inplace=True)\n",
    "    # refTable2 = createTable(refdf2, 'Final Grade Reference', [1, 5], customTextCols=[1])\n",
    "    # # elements.append(refTable2)\n",
    "    # # elements.append(Spacer(1, 24))\n",
    "    # # plot time series of final grades\n",
    "    # fig, ax = plt.subplots(1,1, figsize=(figSize[0], figSize[1]/5))\n",
    "    # xy = studentdf[[colDate, colFinalGrade]].dropna()\n",
    "    # xy = xy.groupby(colDate).mean().reset_index()     # aggregate the scores for each date by taking the mean\n",
    "    # ax.plot(xy[colDate], xy[colFinalGrade])\n",
    "    # title = 'Average Time Series'\n",
    "    # ax.set_xticklabels(ax.get_xticklabels(), rotation=90, ha='right', fontsize=6)\n",
    "    # ax.yaxis.set_major_locator(plt.MaxNLocator(integer=True))     # integer ticks on y axis\n",
    "    # ax.set_ylim(0, 5.4)\n",
    "    # ax.set_title(title, fontsize=10)\n",
    "    # plt.grid('--', alpha=0.5)\n",
    "    # img = addPlotImage(fig, 0.9)\n",
    "    # # elements.append(img)\n",
    "    # plt.close(fig)\n",
    "    # # elements.append(Spacer(1, 24))\n",
    "    \n",
    "    # # pie chart of final grades\n",
    "    # fig, ax = plt.subplots(1,1, figsize=(figSize[0]*0.6, figSize[0]*0.6))\n",
    "    # xy = studentdf[colFinalGrade].dropna()\n",
    "    # xy = xy.value_counts()\n",
    "    # total = xy.sum()\n",
    "    # xy = xy.sort_index()\n",
    "    # xy.index =  xy.index.map(reversefinalgradedict)    # labels based on finalgradedict\n",
    "    # labels = [textwrap.fill(k, width=100) for k in xy.index]\n",
    "    # ax.pie(xy, autopct= lambda x: autopct(x, total),textprops={'fontsize': 11}, labels = labels, colors=[colorlegendfinal.get(k, 'gray') for k in xy.index])\n",
    "    # # Add legend to bottom-left of figure\n",
    "    # # legendHandles = [\n",
    "    # #     plt.Line2D([0], [0], marker='o', color='w', label=label,\n",
    "    # #             markerfacecolor=color, markersize=6)\n",
    "    # #     for label, color in colorlegendfinal.items()\n",
    "    # # ]\n",
    "\n",
    "    # # fig.legend(\n",
    "    # #     handles=legendHandles,\n",
    "    # #     loc='upper left',\n",
    "    # #     bbox_to_anchor=(0.09, 0.03),\n",
    "    # #     fontsize=6\n",
    "    # # )\n",
    "    # title = 'Final Grade Distribution'\n",
    "    # ax.set_title(None)\n",
    "    # img = addPlotImage(fig, 0.9)\n",
    "    # elements.append(img)\n",
    "    # plt.close(fig)\n",
    "    # elements.append(Spacer(1, 24))\n",
    "    \n",
    "    # create pie charts for extra columns similar to final grades\n",
    "    for col in extraCols:\n",
    "        fig, ax = plt.subplots(1,1, figsize=(figSize[0]*0.6, figSize[0]*0.6))\n",
    "        xy = studentdf[col].dropna()\n",
    "        xy = xy.value_counts()\n",
    "        total = xy.sum()\n",
    "        xy = xy.sort_index()\n",
    "        # xy.index =  xy.index.map(reversefinalgradedict)    # labels based on finalgradedict\n",
    "        labels = [textwrap.fill(k, width=100) for k in xy.index]\n",
    "        ax.pie(xy, autopct= lambda x: autopct(x, total),textprops={'fontsize': 11}, labels = labels)\n",
    "        title = f'{col} Distribution'\n",
    "        ax.set_title(None)\n",
    "        img = addPlotImage(fig, 0.9)\n",
    "        elements.append(KeepTogether([Paragraph(title, style = subheadingStyle), Spacer(1, 12), img]))\n",
    "        plt.close(fig)\n",
    "        elements.append(Spacer(1, 24))\n",
    "    \n",
    "    # add comments of Q20 and Q21 as table\n",
    "    commentsdfq20 = studentdf[['Staff', commentCol1]].dropna()\n",
    "    commentsdfq20.rename(columns={commentCol1: 'Comments'}, inplace=True)\n",
    "    display(commentsdfq20.head())\n",
    "    commentstableq20 = createTable(commentsdfq20, f'{fullnamedict[commentCol1]}', [1, 5], customTextCols=[0, 1], titleStyle=variableUtils.smallsubsubheadingStyleC, tableTextStyle=tableTextStyleSmall)\n",
    "    elements.append(commentstableq20)\n",
    "    elements.append(Spacer(1, 24))\n",
    "    commentsdfq21 = studentdf[['Staff', commentCol2]].dropna()\n",
    "    commentsdfq21.rename(columns={commentCol2: 'Comments'}, inplace=True)\n",
    "    display(commentsdfq21.head())\n",
    "    commentstableq21 = createTable(commentsdfq21, f'{fullnamedict[commentCol2]}', [1, 5], customTextCols=[0, 1], titleStyle=variableUtils.smallsubsubheadingStyleC, tableTextStyle=tableTextStyleSmall)\n",
    "    elements.append(commentstableq21)\n",
    "    # elements.append(Spacer(1, 24))\n",
    "\n",
    "    savefolder = f'{folder}/studentReports Brief'\n",
    "    os.makedirs(savefolder, exist_ok=True)\n",
    "    doc= SimpleDocTemplate(f'{savefolder}/{student}.pdf', pagesize=pageSize, rightMargin=rightMargin, leftMargin=leftMargin, topMargin=topMargin, bottomMargin=bottomMargin)\n",
    "    doc.build(elements)\n",
    "students = df[colName].unique()\n",
    "for student in students:\n",
    "    getReportType2(student)\n",
    "    # break\n",
    "# getReport('Grace Wu')\n",
    "# getReport('Andrew Park')"
   ]
  }
 ],
 "metadata": {
  "kernelspec": {
   "display_name": "MDS",
   "language": "python",
   "name": "python3"
  },
  "language_info": {
   "codemirror_mode": {
    "name": "ipython",
    "version": 3
   },
   "file_extension": ".py",
   "mimetype": "text/x-python",
   "name": "python",
   "nbconvert_exporter": "python",
   "pygments_lexer": "ipython3",
   "version": "3.11.5"
  }
 },
 "nbformat": 4,
 "nbformat_minor": 2
}
