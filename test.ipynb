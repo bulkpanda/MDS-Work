{
 "cells": [
  {
   "cell_type": "code",
   "execution_count": 1,
   "metadata": {},
   "outputs": [
    {
     "name": "stdout",
     "output_type": "stream",
     "text": [
      "  mergedCol\n",
      "0      A, X\n",
      "1         B\n",
      "2         Z\n",
      "3         D\n",
      "4         Y\n"
     ]
    }
   ],
   "source": [
    "import pandas as pd\n",
    "import numpy as np\n",
    "\n",
    "def mergeAndDeleteColumns(df, col1, col2, newCol):\n",
    "    # Create the new column by merging col1 and col2\n",
    "    df[newCol] = df[col1].fillna('') + ', ' + df[col2].fillna('')\n",
    "    # Remove trailing comma if one column is empty or NaN\n",
    "    df[newCol] = df[newCol].str.strip(', ')\n",
    "    # Drop the original columns\n",
    "    df = df.drop(columns=[col1, col2])\n",
    "    return df\n",
    "\n",
    "# Example DataFrame\n",
    "data = {\n",
    "    'col1': ['A', 'B', np.nan, 'D', ''],\n",
    "    'col2': ['X', '', 'Z', np.nan, 'Y']\n",
    "}\n",
    "df = pd.DataFrame(data)\n",
    "\n",
    "# Applying the function\n",
    "result_df = mergeAndDeleteColumns(df, 'col1', 'col2', 'mergedCol')\n",
    "\n",
    "# Display the result\n",
    "print(result_df)\n"
   ]
  },
  {
   "cell_type": "code",
   "execution_count": 1,
   "metadata": {},
   "outputs": [
    {
     "name": "stdout",
     "output_type": "stream",
     "text": [
      "Duplicate value: 'apple' found for keys: ['a', 'c']\n",
      "Duplicate value: 'banana' found for keys: ['b', 'e']\n"
     ]
    }
   ],
   "source": [
    "def printDuplicateValues(renameDict):\n",
    "    # Reverse the dictionary to group keys by their values\n",
    "    reverseDict = {}\n",
    "    for key, value in renameDict.items():\n",
    "        if value in reverseDict:\n",
    "            reverseDict[value].append(key)\n",
    "        else:\n",
    "            reverseDict[value] = [key]\n",
    "    \n",
    "    # Check for duplicates and print them\n",
    "    duplicatesFound = False\n",
    "    for value, keys in reverseDict.items():\n",
    "        if len(keys) > 1:\n",
    "            duplicatesFound = True\n",
    "            print(f\"Duplicate value: '{value}' found for keys: {keys}\")\n",
    "    \n",
    "    if not duplicatesFound:\n",
    "        print(\"No duplicate values found.\")\n",
    "\n",
    "# Example usage\n",
    "renameDict = {\n",
    "    'a': 'apple',\n",
    "    'b': 'banana',\n",
    "    'c': 'apple',\n",
    "    'd': 'date',\n",
    "    'e': 'banana'\n",
    "}\n",
    "\n",
    "printDuplicateValues(renameDict)\n"
   ]
  }
 ],
 "metadata": {
  "kernelspec": {
   "display_name": "Python 3",
   "language": "python",
   "name": "python3"
  },
  "language_info": {
   "codemirror_mode": {
    "name": "ipython",
    "version": 3
   },
   "file_extension": ".py",
   "mimetype": "text/x-python",
   "name": "python",
   "nbconvert_exporter": "python",
   "pygments_lexer": "ipython3",
   "version": "3.10.5"
  }
 },
 "nbformat": 4,
 "nbformat_minor": 2
}
